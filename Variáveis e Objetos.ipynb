{
 "cells": [
  {
   "cell_type": "markdown",
   "id": "47e48753",
   "metadata": {},
   "source": [
    "# Formação Cientista de Dados"
   ]
  },
  {
   "cell_type": "markdown",
   "id": "39e9dc13",
   "metadata": {},
   "source": [
    "### Variáveis e Objetos"
   ]
  },
  {
   "cell_type": "code",
   "execution_count": 2,
   "id": "15e6e1d2",
   "metadata": {},
   "outputs": [
    {
     "name": "stdout",
     "output_type": "stream",
     "text": [
      "1\n",
      "3.13\n",
      "Python\n",
      "True False\n"
     ]
    }
   ],
   "source": [
    "# criar variáveis do tipo inteiro \n",
    "x = 1\n",
    "print(x)\n",
    "# Tipo float\n",
    "y = 3.13\n",
    "print(y)\n",
    "# str\n",
    "s = \"Python\"\n",
    "s = 'Python'\n",
    "print(s)\n",
    "#Lógica\n",
    "t = True\n",
    "f = False\n",
    "print(t, f)"
   ]
  },
  {
   "cell_type": "code",
   "execution_count": 3,
   "id": "cebfc2a7",
   "metadata": {},
   "outputs": [
    {
     "name": "stdout",
     "output_type": "stream",
     "text": [
      "30.0\n"
     ]
    }
   ],
   "source": [
    "# Calculadora\n",
    "x = 10\n",
    "y = 20\n",
    "z = 100\n",
    "w = (x + y) * z / 100\n",
    "print(w)"
   ]
  },
  {
   "cell_type": "code",
   "execution_count": 4,
   "id": "e2e6ef1b",
   "metadata": {},
   "outputs": [
    {
     "name": "stdout",
     "output_type": "stream",
     "text": [
      "Estou no console\n"
     ]
    }
   ],
   "source": [
    "# texto no console\n",
    "print('Estou no console')"
   ]
  },
  {
   "cell_type": "code",
   "execution_count": 5,
   "id": "16230086",
   "metadata": {},
   "outputs": [
    {
     "name": "stdout",
     "output_type": "stream",
     "text": [
      "<class 'int'>\n",
      "<class 'int'>\n"
     ]
    }
   ],
   "source": [
    "# verificar tipo\n",
    "print(type(x))\n",
    "print(type(y))"
   ]
  },
  {
   "cell_type": "code",
   "execution_count": 6,
   "id": "179d509e",
   "metadata": {},
   "outputs": [
    {
     "name": "stdout",
     "output_type": "stream",
     "text": [
      "Informe o valor\n",
      "15\n",
      "<class 'str'>\n"
     ]
    }
   ],
   "source": [
    "# entrada de dados\n",
    "print('Informe o valor')\n",
    "i = input()\n",
    "print(type(i))"
   ]
  },
  {
   "cell_type": "code",
   "execution_count": 7,
   "id": "32254a79",
   "metadata": {},
   "outputs": [
    {
     "name": "stdout",
     "output_type": "stream",
     "text": [
      "Informe o valor\n",
      "15\n",
      "Informe o valor: olá \n"
     ]
    }
   ],
   "source": [
    "# entrada de valor com msg separada e junto\n",
    "print(\"Informe o valor\")\n",
    "i = input()\n",
    "# ou \n",
    "i = input('Informe o valor: ')"
   ]
  },
  {
   "cell_type": "code",
   "execution_count": 9,
   "id": "dcba6abf",
   "metadata": {},
   "outputs": [
    {
     "name": "stdout",
     "output_type": "stream",
     "text": [
      "Informe o valor: 15\n",
      "15\n",
      "<class 'str'>\n",
      "15\n",
      "<class 'int'>\n"
     ]
    }
   ],
   "source": [
    "# conversão de valores\n",
    "# para inteiro\n",
    "var = input('Informe o valor: ')\n",
    "print(var)\n",
    "print(type(var))\n",
    "var = int(var)\n",
    "print(var)\n",
    "print(type(var))"
   ]
  },
  {
   "cell_type": "code",
   "execution_count": 10,
   "id": "e46c12b5",
   "metadata": {},
   "outputs": [
    {
     "name": "stdout",
     "output_type": "stream",
     "text": [
      "Informe o valor: 15\n",
      "<class 'str'>\n",
      "15\n",
      "<class 'float'>\n",
      "15.0\n"
     ]
    }
   ],
   "source": [
    "# para float\n",
    "var = input('Informe o valor: ')\n",
    "print(type(var))\n",
    "print(var)\n",
    "var = float(var)\n",
    "print(type(var))\n",
    "print(var)"
   ]
  },
  {
   "cell_type": "code",
   "execution_count": 11,
   "id": "fa7a5129",
   "metadata": {},
   "outputs": [],
   "source": [
    "x = 10 #comentário a partir daqui"
   ]
  }
 ],
 "metadata": {
  "kernelspec": {
   "display_name": "Python 3 (ipykernel)",
   "language": "python",
   "name": "python3"
  },
  "language_info": {
   "codemirror_mode": {
    "name": "ipython",
    "version": 3
   },
   "file_extension": ".py",
   "mimetype": "text/x-python",
   "name": "python",
   "nbconvert_exporter": "python",
   "pygments_lexer": "ipython3",
   "version": "3.9.7"
  }
 },
 "nbformat": 4,
 "nbformat_minor": 5
}
