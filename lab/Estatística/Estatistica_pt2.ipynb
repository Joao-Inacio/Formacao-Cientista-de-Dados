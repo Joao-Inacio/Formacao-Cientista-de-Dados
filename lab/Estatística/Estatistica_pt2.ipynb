{
 "cells": [
  {
   "cell_type": "markdown",
   "metadata": {},
   "source": [
    "#### Praticando \n",
    "* Medidas de Centralidade e Variabilidade\n",
    "* Distribuição normal\n",
    "* Teste distribuição normal"
   ]
  },
  {
   "cell_type": "code",
   "execution_count": 1,
   "metadata": {},
   "outputs": [],
   "source": [
    "# Importação das libs\n",
    "# Scipy para gerar estatísticas mais detalhadas\n",
    "import numpy as np\n",
    "from scipy import stats\n",
    "from scipy.stats import norm, skewnorm\n",
    "# matplotlib para geração de gráficos\n",
    "import matplotlib.pyplot as plt"
   ]
  },
  {
   "cell_type": "markdown",
   "metadata": {},
   "source": [
    "Medidas de Centralidade e Variabilidade"
   ]
  },
  {
   "cell_type": "code",
   "execution_count": 2,
   "metadata": {},
   "outputs": [
    {
     "data": {
      "text/plain": [
       "3916.9"
      ]
     },
     "execution_count": 2,
     "metadata": {},
     "output_type": "execute_result"
    }
   ],
   "source": [
    "# Criação da variável com os dados dos jogadores, visualização da média\n",
    "salarios = [1290, 2500, 3150, 4600, 7125, 5394, 9800, 1320, 1990, 2000]\n",
    "np.mean(salarios)"
   ]
  },
  {
   "cell_type": "code",
   "execution_count": 3,
   "metadata": {},
   "outputs": [
    {
     "data": {
      "text/plain": [
       "2825.0"
      ]
     },
     "execution_count": 3,
     "metadata": {},
     "output_type": "execute_result"
    }
   ],
   "source": [
    "# Mediana dos salário\n",
    "np.median(salarios)"
   ]
  },
  {
   "cell_type": "code",
   "execution_count": 4,
   "metadata": {},
   "outputs": [
    {
     "data": {
      "text/plain": [
       "array([1290. , 1992.5, 2825. , 5195.5, 9800. ])"
      ]
     },
     "execution_count": 4,
     "metadata": {},
     "output_type": "execute_result"
    }
   ],
   "source": [
    "#Criação da variável para geração dos quartis (0X, 25%, 58%, 75% e 100%)\n",
    "quartis = np.quantile(salarios, [0, 0.25, 0.5, 0.75, 1])\n",
    "quartis"
   ]
  },
  {
   "cell_type": "code",
   "execution_count": 5,
   "metadata": {},
   "outputs": [
    {
     "data": {
      "text/plain": [
       "2812.253048911337"
      ]
     },
     "execution_count": 5,
     "metadata": {},
     "output_type": "execute_result"
    }
   ],
   "source": [
    "# visualização de desvio padrão\n",
    "np.std(salarios, ddof = 1)"
   ]
  },
  {
   "cell_type": "code",
   "execution_count": 6,
   "metadata": {},
   "outputs": [
    {
     "data": {
      "text/plain": [
       "DescribeResult(nobs=10, minmax=(1290, 9800), mean=3916.9, variance=7908767.211111112, skewness=0.9849560997135365, kurtosis=-0.17044487075489645)"
      ]
     },
     "execution_count": 6,
     "metadata": {},
     "output_type": "execute_result"
    }
   ],
   "source": [
    "# Visualização de estatísticas mais detalhadas usando a bibliotecas scipy\n",
    "stats.describe(salarios)"
   ]
  },
  {
   "cell_type": "markdown",
   "metadata": {},
   "source": [
    "Distribuição normal"
   ]
  },
  {
   "cell_type": "code",
   "execution_count": 7,
   "metadata": {},
   "outputs": [
    {
     "data": {
      "text/plain": [
       "0.15865525393145707"
      ]
     },
     "execution_count": 7,
     "metadata": {},
     "output_type": "execute_result"
    }
   ],
   "source": [
    "\"\"\"\n",
    "Conjunto de objetos em uma cesta, a média é 12 e o desvio padrão é 4\n",
    "Qual a probabilidade de tirar um objeto que peso é menor que 8 quilos?\n",
    "\"\"\"\n",
    "norm.cdf(8, 12, 4)"
   ]
  },
  {
   "cell_type": "code",
   "execution_count": 8,
   "metadata": {},
   "outputs": [
    {
     "data": {
      "text/plain": [
       "0.8413447460685429"
      ]
     },
     "execution_count": 8,
     "metadata": {},
     "output_type": "execute_result"
    }
   ],
   "source": [
    "# Qual a probabilidade de tirar um objeto que o peso á maior que 8 quilos?\n",
    "norm.sf(8, 12, 4)"
   ]
  },
  {
   "cell_type": "code",
   "execution_count": 10,
   "metadata": {},
   "outputs": [
    {
     "data": {
      "text/plain": [
       "0.31731050786291415"
      ]
     },
     "execution_count": 10,
     "metadata": {},
     "output_type": "execute_result"
    }
   ],
   "source": [
    "\"\"\"\n",
    "Qual a probabilidade de tirar um objeto que o peso é menor que 8 ou maior que\n",
    "10 quilos?\n",
    "\"\"\"\n",
    "norm.cdf(8, 12, 4) + norm.sf(10, 8, 2)"
   ]
  },
  {
   "cell_type": "code",
   "execution_count": 11,
   "metadata": {},
   "outputs": [
    {
     "data": {
      "text/plain": [
       "0.4772498680518208"
      ]
     },
     "execution_count": 11,
     "metadata": {},
     "output_type": "execute_result"
    }
   ],
   "source": [
    "\"\"\"\n",
    "Qual a probabilidade de tirar um objeto que o peso é menor que 12 e maior que\n",
    "8 quilos?\n",
    "\"\"\"\n",
    "norm.cdf(12, 8, 2) - norm.sf(8, 8, 2)"
   ]
  },
  {
   "cell_type": "markdown",
   "metadata": {},
   "source": [
    "Teste distribuição normal"
   ]
  },
  {
   "cell_type": "code",
   "execution_count": 12,
   "metadata": {},
   "outputs": [
    {
     "data": {
      "text/plain": [
       "array([-0.89928125, -2.43991465,  0.1044129 ,  1.33340957,  0.30806353,\n",
       "       -0.539025  , -3.30599024, -0.55208634, -0.07416221, -0.26542119,\n",
       "        0.2122678 , -1.8930278 ,  0.93747383, -1.17826273,  0.06179233,\n",
       "       -0.23630419, -2.36421783,  0.84304607,  0.60190621,  0.20200429,\n",
       "       -0.6800395 ,  0.10967897,  0.19772737, -0.42938459,  1.76688996,\n",
       "        1.68388466, -1.27861274, -0.77085821,  0.75561116,  0.34153291,\n",
       "       -0.10844062, -0.12917073,  1.51499009, -0.60495873,  0.29556222,\n",
       "        2.72260899, -1.85852382,  1.4110185 ,  0.95627856,  0.12303784,\n",
       "        0.40462018, -0.42439966, -0.40468152,  0.69106001, -0.87607495,\n",
       "        0.58932296,  0.73215935, -0.0059437 , -1.11863097,  0.38618625,\n",
       "        0.27620292,  0.33698796,  0.49818047, -0.11110947,  2.61391055,\n",
       "        0.28205258,  0.13789232,  1.24958726, -0.53667051,  1.96438891,\n",
       "        0.14095415, -1.00196323, -1.20987546, -1.45509823,  0.40430143,\n",
       "        0.06562972, -1.29726979,  1.24314285,  1.69354616, -0.48494416,\n",
       "       -2.61814297,  0.76078918,  0.55361932,  2.50821044,  0.20077702,\n",
       "       -1.16034778, -0.08479361, -1.86915775, -1.07788312,  1.83962347,\n",
       "       -0.34897584,  1.34199001,  0.44761626, -0.75402653,  1.78598519,\n",
       "       -0.0193072 , -1.58777292,  0.40685849, -1.21838309, -0.44917901,\n",
       "        1.12790775, -2.55347257, -0.18031148,  0.07498174,  0.48799521,\n",
       "        1.09831927, -1.10758197, -0.56931234, -0.92610619,  0.60372354])"
      ]
     },
     "execution_count": 12,
     "metadata": {},
     "output_type": "execute_result"
    }
   ],
   "source": [
    "\"\"\"\n",
    "Criação de uma variável com dados em uma distribuição normal com a função rvs\n",
    "(100 elementos)\n",
    "\"\"\"\n",
    "ds = norm.rvs(size = 100)\n",
    "ds"
   ]
  },
  {
   "cell_type": "code",
   "execution_count": 14,
   "metadata": {},
   "outputs": [
    {
     "data": {
      "text/plain": [
       "Text(0.5, 1.0, 'Dados')"
      ]
     },
     "execution_count": 14,
     "metadata": {},
     "output_type": "execute_result"
    },
    {
     "data": {
      "image/png": "[encoded data removed]",
      "text/plain": [
       "<Figure size 432x288 with 1 Axes>"
      ]
     },
     "metadata": {},
     "output_type": "display_data"
    }
   ],
   "source": [
    "# Histograma\n",
    "plt.hist(ds, bins = 10)\n",
    "plt.title('Dados')"
   ]
  },
  {
   "cell_type": "code",
   "execution_count": 15,
   "metadata": {},
   "outputs": [
    {
     "data": {
      "image/png": "[encoded data removed]",
      "text/plain": [
       "<Figure size 432x288 with 1 Axes>"
      ]
     },
     "metadata": {},
     "output_type": "display_data"
    }
   ],
   "source": [
    "# Geração de gráfico para verificar se a distribuição é normal\n",
    "fig, ax = plt.subplots()\n",
    "stats.probplot(ds, fit=True, plot=ax)\n",
    "plt.show()"
   ]
  },
  {
   "cell_type": "code",
   "execution_count": 16,
   "metadata": {},
   "outputs": [
    {
     "data": {
      "text/plain": [
       "ShapiroResult(statistic=0.9889575839042664, pvalue=0.5812395811080933)"
      ]
     },
     "execution_count": 16,
     "metadata": {},
     "output_type": "execute_result"
    }
   ],
   "source": [
    "\"\"\"\n",
    "Execução do teste de Shapiro\n",
    "segundo argumento é o valor de p, não há como rejeitar a hipótese nula\n",
    "\"\"\"\n",
    "stats.shapiro(ds)"
   ]
  },
  {
   "cell_type": "markdown",
   "metadata": {},
   "source": [
    "Dados não normais"
   ]
  },
  {
   "cell_type": "code",
   "execution_count": 17,
   "metadata": {},
   "outputs": [],
   "source": [
    "# geração de dados não normais \n",
    "ds2 = skewnorm.rvs(4, size=100)"
   ]
  },
  {
   "cell_type": "code",
   "execution_count": 19,
   "metadata": {},
   "outputs": [
    {
     "data": {
      "text/plain": [
       "Text(0.5, 1.0, 'Dados')"
      ]
     },
     "execution_count": 19,
     "metadata": {},
     "output_type": "execute_result"
    },
    {
     "data": {
      "image/png": "[encoded data removed]",
      "text/plain": [
       "<Figure size 432x288 with 1 Axes>"
      ]
     },
     "metadata": {},
     "output_type": "display_data"
    }
   ],
   "source": [
    "# histograma\n",
    "plt.hist(ds2, bins = 10)\n",
    "plt.title('Dados')"
   ]
  },
  {
   "cell_type": "code",
   "execution_count": 20,
   "metadata": {},
   "outputs": [
    {
     "data": {
      "image/png": "[encoded data removed]",
      "text/plain": [
       "<Figure size 432x288 with 1 Axes>"
      ]
     },
     "metadata": {},
     "output_type": "display_data"
    }
   ],
   "source": [
    "# Geração de gráfico para verificar se a distribuição é normal\n",
    "fig, ax = plt.subplots()\n",
    "stats.probplot(ds2, fit=True, plot=ax)\n",
    "plt.show()"
   ]
  },
  {
   "cell_type": "code",
   "execution_count": 21,
   "metadata": {},
   "outputs": [
    {
     "data": {
      "text/plain": [
       "ShapiroResult(statistic=0.9432111382484436, pvalue=0.00030431526829488575)"
      ]
     },
     "execution_count": 21,
     "metadata": {},
     "output_type": "execute_result"
    }
   ],
   "source": [
    "# Execução do teste de Shapiro\n",
    "stats.shapiro(ds2)"
   ]
  }
 ],
 "metadata": {
  "kernelspec": {
   "display_name": "Python 3.9.12 ('venv': venv)",
   "language": "python",
   "name": "python3"
  },
  "language_info": {
   "codemirror_mode": {
    "name": "ipython",
    "version": 3
   },
   "file_extension": ".py",
   "mimetype": "text/x-python",
   "name": "python",
   "nbconvert_exporter": "python",
   "pygments_lexer": "ipython3",
   "version": "3.9.12"
  },
  "orig_nbformat": 4,
  "vscode": {
   "interpreter": {
    "hash": "fea19b5a4fed20f0abd4b41fa1930df0fe4b8c94eabf60df86233fb8f94f9656"
   }
  }
 },
 "nbformat": 4,
 "nbformat_minor": 2
}
