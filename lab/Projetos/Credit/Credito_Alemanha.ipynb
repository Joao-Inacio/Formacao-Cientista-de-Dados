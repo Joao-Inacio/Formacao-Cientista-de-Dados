{
 "cells": [
  {
   "cell_type": "markdown",
   "metadata": {},
   "source": [
    "# Prática de Ciência de Dados\n",
    "* Aplicarei todos os conhecimentos adquirido na Formação Cientista de Dados (http://encurtador.com.br/aVX68)\n",
    " * Analisarei o DataSet German Credit Risk do Kaggle (http://encurtador.com.br/mGS17)"
   ]
  },
  {
   "cell_type": "code",
   "execution_count": 1,
   "metadata": {},
   "outputs": [],
   "source": [
    "# Importando as biblioteca\n",
    "import pandas as pd \n",
    "import seaborn as srn \n",
    "import statistics as sts \n",
    "import matplotlib.pyplot as plt\n",
    "import numpy as np"
   ]
  },
  {
   "cell_type": "code",
   "execution_count": 2,
   "metadata": {},
   "outputs": [
    {
     "data": {
      "text/plain": [
       "(1000, 10)"
      ]
     },
     "execution_count": 2,
     "metadata": {},
     "output_type": "execute_result"
    }
   ],
   "source": [
    "# base de dados\n",
    "df = pd.read_csv('credit.csv')\n",
    "df.shape"
   ]
  },
  {
   "cell_type": "code",
   "execution_count": 9,
   "metadata": {},
   "outputs": [
    {
     "data": {
      "text/html": [
       "<div>\n",
       "<style scoped>\n",
       "    .dataframe tbody tr th:only-of-type {\n",
       "        vertical-align: middle;\n",
       "    }\n",
       "\n",
       "    .dataframe tbody tr th {\n",
       "        vertical-align: top;\n",
       "    }\n",
       "\n",
       "    .dataframe thead th {\n",
       "        text-align: right;\n",
       "    }\n",
       "</style>\n",
       "<table border=\"1\" class=\"dataframe\">\n",
       "  <thead>\n",
       "    <tr style=\"text-align: right;\">\n",
       "      <th></th>\n",
       "      <th>Age</th>\n",
       "      <th>Job</th>\n",
       "      <th>Credit amount</th>\n",
       "      <th>Duration</th>\n",
       "    </tr>\n",
       "  </thead>\n",
       "  <tbody>\n",
       "    <tr>\n",
       "      <th>count</th>\n",
       "      <td>1000.000000</td>\n",
       "      <td>1000.000000</td>\n",
       "      <td>1000.000000</td>\n",
       "      <td>1000.000000</td>\n",
       "    </tr>\n",
       "    <tr>\n",
       "      <th>mean</th>\n",
       "      <td>35.546000</td>\n",
       "      <td>1.904000</td>\n",
       "      <td>3271.258000</td>\n",
       "      <td>20.903000</td>\n",
       "    </tr>\n",
       "    <tr>\n",
       "      <th>std</th>\n",
       "      <td>11.375469</td>\n",
       "      <td>0.653614</td>\n",
       "      <td>2822.736876</td>\n",
       "      <td>12.058814</td>\n",
       "    </tr>\n",
       "    <tr>\n",
       "      <th>min</th>\n",
       "      <td>19.000000</td>\n",
       "      <td>0.000000</td>\n",
       "      <td>250.000000</td>\n",
       "      <td>4.000000</td>\n",
       "    </tr>\n",
       "    <tr>\n",
       "      <th>25%</th>\n",
       "      <td>27.000000</td>\n",
       "      <td>2.000000</td>\n",
       "      <td>1365.500000</td>\n",
       "      <td>12.000000</td>\n",
       "    </tr>\n",
       "    <tr>\n",
       "      <th>50%</th>\n",
       "      <td>33.000000</td>\n",
       "      <td>2.000000</td>\n",
       "      <td>2319.500000</td>\n",
       "      <td>18.000000</td>\n",
       "    </tr>\n",
       "    <tr>\n",
       "      <th>75%</th>\n",
       "      <td>42.000000</td>\n",
       "      <td>2.000000</td>\n",
       "      <td>3972.250000</td>\n",
       "      <td>24.000000</td>\n",
       "    </tr>\n",
       "    <tr>\n",
       "      <th>max</th>\n",
       "      <td>75.000000</td>\n",
       "      <td>3.000000</td>\n",
       "      <td>18424.000000</td>\n",
       "      <td>72.000000</td>\n",
       "    </tr>\n",
       "  </tbody>\n",
       "</table>\n",
       "</div>"
      ],
      "text/plain": [
       "               Age          Job  Credit amount     Duration\n",
       "count  1000.000000  1000.000000    1000.000000  1000.000000\n",
       "mean     35.546000     1.904000    3271.258000    20.903000\n",
       "std      11.375469     0.653614    2822.736876    12.058814\n",
       "min      19.000000     0.000000     250.000000     4.000000\n",
       "25%      27.000000     2.000000    1365.500000    12.000000\n",
       "50%      33.000000     2.000000    2319.500000    18.000000\n",
       "75%      42.000000     2.000000    3972.250000    24.000000\n",
       "max      75.000000     3.000000   18424.000000    72.000000"
      ]
     },
     "execution_count": 9,
     "metadata": {},
     "output_type": "execute_result"
    }
   ],
   "source": [
    "df.describe()"
   ]
  },
  {
   "cell_type": "code",
   "execution_count": 4,
   "metadata": {},
   "outputs": [
    {
     "data": {
      "text/html": [
       "<div>\n",
       "<style scoped>\n",
       "    .dataframe tbody tr th:only-of-type {\n",
       "        vertical-align: middle;\n",
       "    }\n",
       "\n",
       "    .dataframe tbody tr th {\n",
       "        vertical-align: top;\n",
       "    }\n",
       "\n",
       "    .dataframe thead th {\n",
       "        text-align: right;\n",
       "    }\n",
       "</style>\n",
       "<table border=\"1\" class=\"dataframe\">\n",
       "  <thead>\n",
       "    <tr style=\"text-align: right;\">\n",
       "      <th></th>\n",
       "      <th>Age</th>\n",
       "      <th>Sex</th>\n",
       "      <th>Job</th>\n",
       "      <th>Housing</th>\n",
       "      <th>Saving accounts</th>\n",
       "      <th>Checking account</th>\n",
       "      <th>Credit amount</th>\n",
       "      <th>Duration</th>\n",
       "      <th>Purpose</th>\n",
       "    </tr>\n",
       "  </thead>\n",
       "  <tbody>\n",
       "    <tr>\n",
       "      <th>0</th>\n",
       "      <td>67</td>\n",
       "      <td>male</td>\n",
       "      <td>2</td>\n",
       "      <td>own</td>\n",
       "      <td>NaN</td>\n",
       "      <td>little</td>\n",
       "      <td>1169</td>\n",
       "      <td>6</td>\n",
       "      <td>radio/TV</td>\n",
       "    </tr>\n",
       "    <tr>\n",
       "      <th>1</th>\n",
       "      <td>22</td>\n",
       "      <td>female</td>\n",
       "      <td>2</td>\n",
       "      <td>own</td>\n",
       "      <td>little</td>\n",
       "      <td>moderate</td>\n",
       "      <td>5951</td>\n",
       "      <td>48</td>\n",
       "      <td>radio/TV</td>\n",
       "    </tr>\n",
       "    <tr>\n",
       "      <th>2</th>\n",
       "      <td>49</td>\n",
       "      <td>male</td>\n",
       "      <td>1</td>\n",
       "      <td>own</td>\n",
       "      <td>little</td>\n",
       "      <td>NaN</td>\n",
       "      <td>2096</td>\n",
       "      <td>12</td>\n",
       "      <td>education</td>\n",
       "    </tr>\n",
       "    <tr>\n",
       "      <th>3</th>\n",
       "      <td>45</td>\n",
       "      <td>male</td>\n",
       "      <td>2</td>\n",
       "      <td>free</td>\n",
       "      <td>little</td>\n",
       "      <td>little</td>\n",
       "      <td>7882</td>\n",
       "      <td>42</td>\n",
       "      <td>furniture/equipment</td>\n",
       "    </tr>\n",
       "    <tr>\n",
       "      <th>4</th>\n",
       "      <td>53</td>\n",
       "      <td>male</td>\n",
       "      <td>2</td>\n",
       "      <td>free</td>\n",
       "      <td>little</td>\n",
       "      <td>little</td>\n",
       "      <td>4870</td>\n",
       "      <td>24</td>\n",
       "      <td>car</td>\n",
       "    </tr>\n",
       "  </tbody>\n",
       "</table>\n",
       "</div>"
      ],
      "text/plain": [
       "   Age     Sex  Job Housing Saving accounts Checking account  Credit amount  \\\n",
       "0   67    male    2     own             NaN           little           1169   \n",
       "1   22  female    2     own          little         moderate           5951   \n",
       "2   49    male    1     own          little              NaN           2096   \n",
       "3   45    male    2    free          little           little           7882   \n",
       "4   53    male    2    free          little           little           4870   \n",
       "\n",
       "   Duration              Purpose  \n",
       "0         6             radio/TV  \n",
       "1        48             radio/TV  \n",
       "2        12            education  \n",
       "3        42  furniture/equipment  \n",
       "4        24                  car  "
      ]
     },
     "execution_count": 4,
     "metadata": {},
     "output_type": "execute_result"
    }
   ],
   "source": [
    "# removendo a coluna Unnamed: 0\n",
    "df = df.drop(['Unnamed: 0'], axis = 1)\n",
    "df.head()"
   ]
  },
  {
   "cell_type": "code",
   "execution_count": 5,
   "metadata": {},
   "outputs": [
    {
     "data": {
      "text/plain": [
       "Sex\n",
       "female    310\n",
       "male      690\n",
       "dtype: int64"
      ]
     },
     "execution_count": 5,
     "metadata": {},
     "output_type": "execute_result"
    }
   ],
   "source": [
    "#\n",
    "group = df.groupby(['Sex']).size()\n",
    "group"
   ]
  },
  {
   "cell_type": "code",
   "execution_count": 6,
   "metadata": {},
   "outputs": [
    {
     "data": {
      "text/plain": [
       "<AxesSubplot:ylabel='Sex'>"
      ]
     },
     "execution_count": 6,
     "metadata": {},
     "output_type": "execute_result"
    },
    {
     "data": {
      "image/png": "[encoded data removed]",
      "text/plain": [
       "<Figure size 432x288 with 1 Axes>"
      ]
     },
     "metadata": {},
     "output_type": "display_data"
    }
   ],
   "source": [
    "#\n",
    "group.plot.barh(color=['red','blue'])"
   ]
  },
  {
   "cell_type": "code",
   "execution_count": 7,
   "metadata": {},
   "outputs": [
    {
     "data": {
      "text/plain": [
       "Job\n",
       "0    2745.136364\n",
       "1    2358.520000\n",
       "2    3070.965079\n",
       "3    5435.493243\n",
       "Name: Credit amount, dtype: float64"
      ]
     },
     "execution_count": 7,
     "metadata": {},
     "output_type": "execute_result"
    }
   ],
   "source": [
    "#\n",
    "dfGroup = df.groupby('Job')['Credit amount'].mean()\n",
    "dfGroup"
   ]
  },
  {
   "cell_type": "code",
   "execution_count": 8,
   "metadata": {},
   "outputs": [
    {
     "data": {
      "text/plain": [
       "<AxesSubplot:xlabel='Job'>"
      ]
     },
     "execution_count": 8,
     "metadata": {},
     "output_type": "execute_result"
    },
    {
     "data": {
      "image/png": "[encoded data removed]",
      "text/plain": [
       "<Figure size 432x288 with 1 Axes>"
      ]
     },
     "metadata": {},
     "output_type": "display_data"
    }
   ],
   "source": [
    "dfGroup.plot.bar(color = 'gray')"
   ]
  },
  {
   "cell_type": "code",
   "execution_count": 10,
   "metadata": {},
   "outputs": [
    {
     "data": {
      "text/plain": [
       "array([ 6, 48, 12, 42, 24, 36, 24, 36, 12, 30, 12, 48, 12, 24, 15, 24, 24,\n",
       "       30, 24, 24,  9,  6, 10, 12, 10,  6,  6, 12,  7, 60, 18, 24, 18, 12,\n",
       "       12, 45, 48, 18, 10,  9, 30, 12, 18, 30, 48, 11, 36,  6, 11, 12, 24,\n",
       "       27, 12, 18, 36,  6, 12, 36, 18, 36,  9, 15, 36, 48, 24, 27, 12, 12,\n",
       "       36, 36, 36,  7,  8, 42, 36, 12, 42, 11, 54, 30, 24, 15, 18, 24, 10,\n",
       "       12, 18, 36, 18, 12, 12, 12, 12, 24, 12, 54, 12, 18, 36, 20, 24, 36,\n",
       "        6,  9, 12, 24, 18, 12, 24, 14,  6, 15, 18, 36, 12, 48, 42, 10, 33,\n",
       "       12, 21, 24, 12, 10, 18, 12, 12, 12, 12, 12, 48, 36, 15, 18, 60, 12,\n",
       "       27, 12, 15, 12,  6, 36, 27, 18, 21, 48,  6, 12, 36, 18,  6, 10, 36,\n",
       "       24, 24, 12,  9, 12, 24,  6, 24, 18, 15, 10, 36,  6, 18, 11, 24, 24,\n",
       "       15, 12, 24,  8, 21, 30, 12,  6, 12, 21, 36, 36, 21, 24, 18, 15,  9,\n",
       "       16, 12, 18, 24, 48, 27,  6, 45,  9,  6, 12, 24, 18,  9, 12, 27, 12,\n",
       "       12, 30, 12, 12, 24, 12,  9, 36, 27, 30, 36,  6, 18, 36, 24, 10, 12,\n",
       "       12, 12, 24, 15, 36, 48, 12,  9, 24, 36,  9, 12, 18,  4, 24,  6, 21,\n",
       "       12, 30, 24,  6, 48, 12, 12, 24, 12,  6, 24, 18,  6, 12, 30, 24,  9,\n",
       "       60, 24, 12, 15, 11, 12, 24, 18, 12, 10, 15, 36, 24, 14, 24, 18, 12,\n",
       "       48, 48, 30,  9, 18, 12,  6, 24, 15, 12, 18, 15, 24, 47, 48, 48, 12,\n",
       "       24, 12, 36, 24, 42, 48, 48, 12, 10, 18, 21,  6, 36, 24, 10, 48,  6,\n",
       "       30, 12,  8,  9, 48, 24, 24, 12,  4, 36, 12, 24, 12, 15, 30, 24, 24,\n",
       "       18, 18,  8, 12, 24, 36,  6, 24, 18, 60, 48, 24,  6, 13, 15, 24, 10,\n",
       "       24, 21, 18, 18, 10, 15, 13, 24,  6,  9,  9,  9, 18, 12, 10, 24, 12,\n",
       "       36, 12, 30, 18, 12, 12,  6, 18, 12, 18, 18, 36, 18, 36, 18, 10, 60,\n",
       "       60, 48, 18,  7, 36,  6, 20, 18, 22, 12, 30, 18, 18, 18, 15,  9, 18,\n",
       "       12, 36,  6,  9, 39, 12, 36, 12, 24, 18, 18, 24, 14, 18, 24, 24, 15,\n",
       "       24, 12, 24, 33, 12, 10, 24, 36, 12, 18, 21, 18, 15, 12, 12, 21, 12,\n",
       "       18, 28, 18,  9, 18,  5, 24,  6, 24,  9, 12,  6, 24, 42, 12, 12, 12,\n",
       "       20, 12, 48,  9, 36,  7, 12, 15, 36,  6, 12, 24, 24, 24, 11, 12,  6,\n",
       "       18, 36, 15, 12, 12, 18, 24, 24, 48, 33, 24, 24,  6,  9,  6, 18, 18,\n",
       "       39, 24, 12, 15, 12, 24, 30, 15, 12,  6, 12, 24, 10,  6, 12, 27,  6,\n",
       "        6, 12, 24, 36, 24, 18,  6, 24, 36,  9, 24, 24, 10, 15, 15, 24, 39,\n",
       "       12, 36, 15, 12, 24,  6,  6, 36,  6,  6, 24, 18, 48, 24, 18, 26, 15,\n",
       "        4, 36,  6, 36, 15, 12, 24, 24, 21,  6, 18, 48, 18, 12, 24, 30, 18,\n",
       "       12, 24, 24, 24, 12, 48, 12,  6, 48, 12,  9, 12, 18, 21, 24, 18, 24,\n",
       "       24,  6, 36, 24, 24, 12, 24, 48, 48, 24, 30, 24, 15,  9, 15, 12, 24,\n",
       "       36, 24, 18, 12,  9, 36, 12, 18,  9, 12, 18, 12, 12, 24, 21, 24, 24,\n",
       "        6, 24, 24, 18, 24,  7,  9, 24, 36, 10, 24, 24, 36, 18, 15, 12, 10,\n",
       "       21, 24, 18, 48, 60,  6, 30, 12, 21, 18, 48, 12, 18, 15,  6,  9, 42,\n",
       "        9, 24, 18, 15,  9, 24, 12, 24, 60, 12, 42, 18, 15, 15, 24, 18, 36,\n",
       "       30, 12, 24, 12, 48, 12, 24, 36, 24, 14, 12, 48, 30, 18, 12, 12, 21,\n",
       "        6,  6, 24, 30, 48, 12, 30, 24, 36, 60,  6, 21, 30, 24, 72, 24, 18,\n",
       "        6, 12, 15, 24, 36, 60, 10, 36,  9, 12, 15, 15, 24,  6, 24,  6, 12,\n",
       "       12, 18, 15, 12, 48, 24, 30, 27, 15, 48, 12,  9,  9, 18,  6, 21,  9,\n",
       "       60, 30, 30, 18, 24, 20,  9,  6, 12,  9, 27,  6, 15, 18, 48, 24, 24,\n",
       "       24,  8, 24,  4, 36, 24, 18,  6, 30, 24, 10, 21, 24, 39, 13, 15, 12,\n",
       "       21, 15,  6, 18, 12, 30, 12, 24,  6, 15, 24, 12, 15, 18, 12, 21, 24,\n",
       "       12, 30, 10, 12, 12, 24, 36, 21, 24, 12, 24, 36, 18, 36, 18, 39, 24,\n",
       "       12, 12, 20, 18, 22, 48, 48, 40, 21, 24,  6, 24, 24,  9, 18, 12, 24,\n",
       "        9, 24, 18, 20, 12, 12, 36,  6, 12, 42, 15,  8,  6, 36, 48, 48, 36,\n",
       "        6,  6, 36, 18, 12, 12, 36,  8, 18, 21, 18, 18, 36, 48, 24, 18, 45,\n",
       "       24, 15, 12, 12,  4, 24, 24, 36, 21, 18, 24, 18, 21, 18, 24,  9, 12,\n",
       "       20, 24, 15, 18, 36, 24, 10, 15, 15,  9, 24, 18, 24, 27, 10, 15, 18,\n",
       "       12, 36, 12, 36,  6, 24, 15, 12, 11, 18, 36,  9, 30, 24, 24, 30, 18,\n",
       "       24, 12, 24, 48, 36, 28, 27, 15, 12, 36, 18, 36, 21, 12, 15, 18, 16,\n",
       "       20, 36, 15, 24, 12, 21, 36, 15,  9, 36, 24, 30, 11, 24, 48, 10,  6,\n",
       "       24, 24, 18, 48,  9, 12, 24, 12, 18, 48, 30, 12, 24,  9,  9, 12, 12,\n",
       "       30,  9,  6, 60, 24, 12, 10, 24,  4, 15, 48, 24, 12, 18, 24, 18, 36,\n",
       "       24, 36, 12, 24, 30,  9, 28, 24,  6, 21, 15, 24,  6, 30, 27, 15, 42,\n",
       "       11, 15, 24, 24, 60, 30, 24,  6, 18, 24, 15, 30, 48, 21, 36, 24, 15,\n",
       "       42, 13, 24, 24, 12, 15, 18, 36, 12, 12, 30, 12, 45, 45],\n",
       "      dtype=int64)"
      ]
     },
     "execution_count": 10,
     "metadata": {},
     "output_type": "execute_result"
    }
   ],
   "source": [
    "#\n",
    "X = df.iloc[:, 7].values\n",
    "y = df.iloc[:, 0].values\n",
    "X"
   ]
  },
  {
   "cell_type": "code",
   "execution_count": 11,
   "metadata": {},
   "outputs": [
    {
     "data": {
      "text/plain": [
       "array([[ 1.        , -0.03613637],\n",
       "       [-0.03613637,  1.        ]])"
      ]
     },
     "execution_count": 11,
     "metadata": {},
     "output_type": "execute_result"
    }
   ],
   "source": [
    "c = np.corrcoef(X, y)\n",
    "c"
   ]
  },
  {
   "cell_type": "code",
   "execution_count": 12,
   "metadata": {},
   "outputs": [],
   "source": [
    "from sklearn.linear_model import LinearRegression"
   ]
  },
  {
   "cell_type": "code",
   "execution_count": 13,
   "metadata": {},
   "outputs": [
    {
     "data": {
      "text/plain": [
       "LinearRegression()"
      ]
     },
     "execution_count": 13,
     "metadata": {},
     "output_type": "execute_result"
    }
   ],
   "source": [
    "X = X.reshape(-1, 1)\n",
    "modelo = LinearRegression()\n",
    "modelo.fit(X, y)"
   ]
  },
  {
   "cell_type": "code",
   "execution_count": 14,
   "metadata": {},
   "outputs": [
    {
     "data": {
      "text/plain": [
       "36.258554152603075"
      ]
     },
     "execution_count": 14,
     "metadata": {},
     "output_type": "execute_result"
    }
   ],
   "source": [
    "modelo.intercept_"
   ]
  },
  {
   "cell_type": "code",
   "execution_count": 15,
   "metadata": {},
   "outputs": [
    {
     "data": {
      "text/plain": [
       "array([-0.03408861])"
      ]
     },
     "execution_count": 15,
     "metadata": {},
     "output_type": "execute_result"
    }
   ],
   "source": [
    "modelo.coef_"
   ]
  },
  {
   "cell_type": "code",
   "execution_count": 16,
   "metadata": {},
   "outputs": [
    {
     "data": {
      "text/plain": [
       "[<matplotlib.lines.Line2D at 0x1dd38bb4d00>]"
      ]
     },
     "execution_count": 16,
     "metadata": {},
     "output_type": "execute_result"
    },
    {
     "data": {
      "image/png": "[encoded data removed]",
      "text/plain": [
       "<Figure size 432x288 with 1 Axes>"
      ]
     },
     "metadata": {},
     "output_type": "display_data"
    }
   ],
   "source": [
    "plt.scatter(X, y)\n",
    "plt.plot(X, modelo.predict(X), color = 'red')"
   ]
  },
  {
   "cell_type": "code",
   "execution_count": 19,
   "metadata": {},
   "outputs": [
    {
     "data": {
      "text/plain": [
       "array([33.19057952])"
      ]
     },
     "execution_count": 19,
     "metadata": {},
     "output_type": "execute_result"
    }
   ],
   "source": [
    "modelo.predict([[90]])"
   ]
  }
 ],
 "metadata": {
  "interpreter": {
   "hash": "fea19b5a4fed20f0abd4b41fa1930df0fe4b8c94eabf60df86233fb8f94f9656"
  },
  "kernelspec": {
   "display_name": "Python 3.9.12 ('venv': venv)",
   "language": "python",
   "name": "python3"
  },
  "language_info": {
   "codemirror_mode": {
    "name": "ipython",
    "version": 3
   },
   "file_extension": ".py",
   "mimetype": "text/x-python",
   "name": "python",
   "nbconvert_exporter": "python",
   "pygments_lexer": "ipython3",
   "version": "3.9.12"
  },
  "orig_nbformat": 4
 },
 "nbformat": 4,
 "nbformat_minor": 2
}
