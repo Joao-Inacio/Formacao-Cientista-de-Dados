{
 "cells": [
  {
   "cell_type": "markdown",
   "metadata": {},
   "source": [
    "#### Praticas de Gráficos\n",
    "* Histograma\n",
    "* Densidade \n",
    "* Dispersão\n",
    "* Dispersão com legendas\n",
    "* Boxplot"
   ]
  },
  {
   "cell_type": "code",
   "execution_count": 1,
   "metadata": {},
   "outputs": [],
   "source": [
    "# Importando as Bibliotecas \n",
    "import pandas as pd\n",
    "import numpy as np\n",
    "import matplotlib.pyplot as plt\n",
    "import seaborn as sns"
   ]
  },
  {
   "cell_type": "code",
   "execution_count": 2,
   "metadata": {},
   "outputs": [
    {
     "data": {
      "text/plain": [
       "(194, 18)"
      ]
     },
     "execution_count": 2,
     "metadata": {},
     "output_type": "execute_result"
    }
   ],
   "source": [
    "# carregamento da base de dados \n",
    "ds = pd.read_csv('lista_discentes_ativos_ead.csv')\n",
    "ds.shape"
   ]
  },
  {
   "cell_type": "code",
   "execution_count": 3,
   "metadata": {},
   "outputs": [
    {
     "data": {
      "text/html": [
       "<div>\n",
       "<style scoped>\n",
       "    .dataframe tbody tr th:only-of-type {\n",
       "        vertical-align: middle;\n",
       "    }\n",
       "\n",
       "    .dataframe tbody tr th {\n",
       "        vertical-align: top;\n",
       "    }\n",
       "\n",
       "    .dataframe thead th {\n",
       "        text-align: right;\n",
       "    }\n",
       "</style>\n",
       "<table border=\"1\" class=\"dataframe\">\n",
       "  <thead>\n",
       "    <tr style=\"text-align: right;\">\n",
       "      <th></th>\n",
       "      <th>id_discente</th>\n",
       "      <th>discente_matricula</th>\n",
       "      <th>sexo</th>\n",
       "      <th>ano_nascimento</th>\n",
       "      <th>raca</th>\n",
       "      <th>ano_ingresso</th>\n",
       "      <th>periodo_ingresso</th>\n",
       "      <th>pais</th>\n",
       "      <th>curso</th>\n",
       "      <th>nivel</th>\n",
       "      <th>modalidade</th>\n",
       "      <th>estado</th>\n",
       "      <th>polo</th>\n",
       "      <th>forma_ingresso</th>\n",
       "      <th>programa_cota</th>\n",
       "      <th>discente_situacao</th>\n",
       "      <th>periodo_atual</th>\n",
       "      <th>data_colacao_grau</th>\n",
       "    </tr>\n",
       "  </thead>\n",
       "  <tbody>\n",
       "    <tr>\n",
       "      <th>0</th>\n",
       "      <td>03bc8af6b3061e1cae9fb0bd8b20308c</td>\n",
       "      <td>2017206***</td>\n",
       "      <td>F</td>\n",
       "      <td>1991</td>\n",
       "      <td>Não declarada</td>\n",
       "      <td>2017</td>\n",
       "      <td>2</td>\n",
       "      <td>Brasil</td>\n",
       "      <td>ADMINISTRAÇÃO PÚBLICA</td>\n",
       "      <td>G</td>\n",
       "      <td>A Distância</td>\n",
       "      <td>Ceará</td>\n",
       "      <td>Aracati</td>\n",
       "      <td>VESTIBULAR</td>\n",
       "      <td>Ampla Concorrência</td>\n",
       "      <td>ATIVO</td>\n",
       "      <td>7</td>\n",
       "      <td>NaN</td>\n",
       "    </tr>\n",
       "    <tr>\n",
       "      <th>1</th>\n",
       "      <td>0832482b8b390dc7caf355f08ebe54dd</td>\n",
       "      <td>2017101***</td>\n",
       "      <td>F</td>\n",
       "      <td>1993</td>\n",
       "      <td>Negra</td>\n",
       "      <td>2017</td>\n",
       "      <td>1</td>\n",
       "      <td>Brasil</td>\n",
       "      <td>ADMINISTRAÇÃO PÚBLICA</td>\n",
       "      <td>G</td>\n",
       "      <td>A Distância</td>\n",
       "      <td>Ceará</td>\n",
       "      <td>Aracati</td>\n",
       "      <td>SiSU</td>\n",
       "      <td>ÉTNICO</td>\n",
       "      <td>ATIVO</td>\n",
       "      <td>8</td>\n",
       "      <td>NaN</td>\n",
       "    </tr>\n",
       "    <tr>\n",
       "      <th>2</th>\n",
       "      <td>08916f4731e72e75b792d53431a2a90e</td>\n",
       "      <td>2017207***</td>\n",
       "      <td>F</td>\n",
       "      <td>1989</td>\n",
       "      <td>Parda</td>\n",
       "      <td>2017</td>\n",
       "      <td>2</td>\n",
       "      <td>Brasil</td>\n",
       "      <td>ADMINISTRAÇÃO PÚBLICA</td>\n",
       "      <td>G</td>\n",
       "      <td>A Distância</td>\n",
       "      <td>Ceará</td>\n",
       "      <td>Aracati</td>\n",
       "      <td>VESTIBULAR</td>\n",
       "      <td>Ampla Concorrência</td>\n",
       "      <td>ATIVO</td>\n",
       "      <td>6</td>\n",
       "      <td>NaN</td>\n",
       "    </tr>\n",
       "    <tr>\n",
       "      <th>3</th>\n",
       "      <td>0d919fbfce60aea4890e70e5b872f471</td>\n",
       "      <td>2017101***</td>\n",
       "      <td>M</td>\n",
       "      <td>1977</td>\n",
       "      <td>Negra</td>\n",
       "      <td>2017</td>\n",
       "      <td>1</td>\n",
       "      <td>Brasil</td>\n",
       "      <td>ADMINISTRAÇÃO PÚBLICA</td>\n",
       "      <td>G</td>\n",
       "      <td>A Distância</td>\n",
       "      <td>Ceará</td>\n",
       "      <td>Aracati</td>\n",
       "      <td>SiSU</td>\n",
       "      <td>NENHUM</td>\n",
       "      <td>ATIVO</td>\n",
       "      <td>7</td>\n",
       "      <td>NaN</td>\n",
       "    </tr>\n",
       "    <tr>\n",
       "      <th>4</th>\n",
       "      <td>0e2427404fb0f446a8a809b332209633</td>\n",
       "      <td>2017100***</td>\n",
       "      <td>F</td>\n",
       "      <td>1982</td>\n",
       "      <td>Não declarada</td>\n",
       "      <td>2017</td>\n",
       "      <td>1</td>\n",
       "      <td>Brasil</td>\n",
       "      <td>ADMINISTRAÇÃO PÚBLICA</td>\n",
       "      <td>G</td>\n",
       "      <td>A Distância</td>\n",
       "      <td>Ceará</td>\n",
       "      <td>Aracati</td>\n",
       "      <td>SiSU</td>\n",
       "      <td>NENHUM</td>\n",
       "      <td>ATIVO</td>\n",
       "      <td>7</td>\n",
       "      <td>NaN</td>\n",
       "    </tr>\n",
       "  </tbody>\n",
       "</table>\n",
       "</div>"
      ],
      "text/plain": [
       "                        id_discente discente_matricula sexo  ano_nascimento  \\\n",
       "0  03bc8af6b3061e1cae9fb0bd8b20308c         2017206***    F            1991   \n",
       "1  0832482b8b390dc7caf355f08ebe54dd         2017101***    F            1993   \n",
       "2  08916f4731e72e75b792d53431a2a90e         2017207***    F            1989   \n",
       "3  0d919fbfce60aea4890e70e5b872f471         2017101***    M            1977   \n",
       "4  0e2427404fb0f446a8a809b332209633         2017100***    F            1982   \n",
       "\n",
       "            raca  ano_ingresso  periodo_ingresso    pais  \\\n",
       "0  Não declarada          2017                 2  Brasil   \n",
       "1          Negra          2017                 1  Brasil   \n",
       "2          Parda          2017                 2  Brasil   \n",
       "3          Negra          2017                 1  Brasil   \n",
       "4  Não declarada          2017                 1  Brasil   \n",
       "\n",
       "                   curso nivel   modalidade estado     polo forma_ingresso  \\\n",
       "0  ADMINISTRAÇÃO PÚBLICA     G  A Distância  Ceará  Aracati     VESTIBULAR   \n",
       "1  ADMINISTRAÇÃO PÚBLICA     G  A Distância  Ceará  Aracati           SiSU   \n",
       "2  ADMINISTRAÇÃO PÚBLICA     G  A Distância  Ceará  Aracati     VESTIBULAR   \n",
       "3  ADMINISTRAÇÃO PÚBLICA     G  A Distância  Ceará  Aracati           SiSU   \n",
       "4  ADMINISTRAÇÃO PÚBLICA     G  A Distância  Ceará  Aracati           SiSU   \n",
       "\n",
       "        programa_cota discente_situacao  periodo_atual  data_colacao_grau  \n",
       "0  Ampla Concorrência             ATIVO              7                NaN  \n",
       "1              ÉTNICO             ATIVO              8                NaN  \n",
       "2  Ampla Concorrência             ATIVO              6                NaN  \n",
       "3              NENHUM             ATIVO              7                NaN  \n",
       "4              NENHUM             ATIVO              7                NaN  "
      ]
     },
     "execution_count": 3,
     "metadata": {},
     "output_type": "execute_result"
    }
   ],
   "source": [
    "# Dados\n",
    "ds.head()"
   ]
  },
  {
   "cell_type": "markdown",
   "metadata": {},
   "source": [
    "Histograma"
   ]
  },
  {
   "cell_type": "code",
   "execution_count": 4,
   "metadata": {},
   "outputs": [
    {
     "data": {
      "text/plain": [
       "Text(0.5, 0, 'Anos')"
      ]
     },
     "execution_count": 4,
     "metadata": {},
     "output_type": "execute_result"
    },
    {
     "data": {
      "image/png": "[encoded data removed]",
      "text/plain": [
       "<Figure size 432x288 with 1 Axes>"
      ]
     },
     "metadata": {},
     "output_type": "display_data"
    }
   ],
   "source": [
    "plt.hist(ds.iloc[:,3], bins= 6)\n",
    "plt.title('Ano de Nascimento')\n",
    "plt.ylabel('Frequência')\n",
    "plt.xlabel('Anos')"
   ]
  },
  {
   "cell_type": "markdown",
   "metadata": {},
   "source": [
    "Densidade"
   ]
  },
  {
   "cell_type": "code",
   "execution_count": 5,
   "metadata": {},
   "outputs": [
    {
     "name": "stderr",
     "output_type": "stream",
     "text": [
      "c:\\Users\\João Inácio\\dadospython\\venv\\lib\\site-packages\\seaborn\\distributions.py:2619: FutureWarning: `distplot` is a deprecated function and will be removed in a future version. Please adapt your code to use either `displot` (a figure-level function with similar flexibility) or `kdeplot` (an axes-level function for kernel density plots).\n",
      "  warnings.warn(msg, FutureWarning)\n"
     ]
    },
    {
     "data": {
      "text/plain": [
       "<AxesSubplot:xlabel='ano_nascimento', ylabel='Density'>"
      ]
     },
     "execution_count": 5,
     "metadata": {},
     "output_type": "execute_result"
    },
    {
     "data": {
      "image/png": "[encoded data removed]",
      "text/plain": [
       "<Figure size 432x288 with 1 Axes>"
      ]
     },
     "metadata": {},
     "output_type": "display_data"
    }
   ],
   "source": [
    "# Densidade\n",
    "sns.distplot(\n",
    "    ds.iloc[:,3], hist = False, kde = True, bins = 10, color = 'cyan', \n",
    "    hist_kws={'edgecolor':'blue'}\n",
    ")"
   ]
  },
  {
   "cell_type": "code",
   "execution_count": 6,
   "metadata": {},
   "outputs": [
    {
     "name": "stderr",
     "output_type": "stream",
     "text": [
      "c:\\Users\\João Inácio\\dadospython\\venv\\lib\\site-packages\\seaborn\\distributions.py:2619: FutureWarning: `distplot` is a deprecated function and will be removed in a future version. Please adapt your code to use either `displot` (a figure-level function with similar flexibility) or `histplot` (an axes-level function for histograms).\n",
      "  warnings.warn(msg, FutureWarning)\n"
     ]
    },
    {
     "data": {
      "text/plain": [
       "<AxesSubplot:xlabel='ano_nascimento', ylabel='Density'>"
      ]
     },
     "execution_count": 6,
     "metadata": {},
     "output_type": "execute_result"
    },
    {
     "data": {
      "image/png": "[encoded data removed]",
      "text/plain": [
       "<Figure size 432x288 with 1 Axes>"
      ]
     },
     "metadata": {},
     "output_type": "display_data"
    }
   ],
   "source": [
    "# Densidade e histograma \n",
    "sns.distplot(\n",
    "    ds.iloc[:,3], hist = True, kde = True, bins = 10, color = 'cyan', \n",
    "    hist_kws={'edgecolor':'blue'}\n",
    ")"
   ]
  },
  {
   "cell_type": "markdown",
   "metadata": {},
   "source": [
    "Gráfico de Dispersão"
   ]
  },
  {
   "cell_type": "code",
   "execution_count": 7,
   "metadata": {},
   "outputs": [
    {
     "data": {
      "text/plain": [
       "Text(0, 0.5, 'Ano de Nascimento')"
      ]
     },
     "execution_count": 7,
     "metadata": {},
     "output_type": "execute_result"
    },
    {
     "data": {
      "image/png": "[encoded data removed]",
      "text/plain": [
       "<Figure size 432x288 with 1 Axes>"
      ]
     },
     "metadata": {},
     "output_type": "display_data"
    }
   ],
   "source": [
    "# Gráfico de dispersão considerando o ano de nascimento e a dispersão\n",
    "plt.scatter(ds.ano_nascimento, ds.ano_ingresso, color ='blue', facecolor='none', marker='*')\n",
    "plt.title('Alunos')\n",
    "plt.xlabel('Ano de Ingresso')\n",
    "plt.ylabel('Ano de Nascimento')"
   ]
  },
  {
   "cell_type": "markdown",
   "metadata": {},
   "source": [
    "Gráficos de dispersão com legendas"
   ]
  },
  {
   "cell_type": "code",
   "execution_count": 8,
   "metadata": {},
   "outputs": [],
   "source": [
    "x = ds.ano_ingresso\n",
    "y = ds.periodo_atual"
   ]
  },
  {
   "cell_type": "code",
   "execution_count": 9,
   "metadata": {},
   "outputs": [
    {
     "data": {
      "text/plain": [
       "['SiSU', 'VESTIBULAR']"
      ]
     },
     "execution_count": 9,
     "metadata": {},
     "output_type": "execute_result"
    }
   ],
   "source": [
    "uni = list(set(ds.forma_ingresso))\n",
    "uni"
   ]
  },
  {
   "cell_type": "code",
   "execution_count": 10,
   "metadata": {},
   "outputs": [
    {
     "data": {
      "text/plain": [
       "<matplotlib.legend.Legend at 0x1c6ae2981c0>"
      ]
     },
     "execution_count": 10,
     "metadata": {},
     "output_type": "execute_result"
    },
    {
     "data": {
      "image/png": "[encoded data removed]",
      "text/plain": [
       "<Figure size 432x288 with 1 Axes>"
      ]
     },
     "metadata": {},
     "output_type": "display_data"
    }
   ],
   "source": [
    "# Percorre cada tipo de forma de ingresso (SiSU e VESTIBULAR) e cria um gráfico de\n",
    "# dispersão\n",
    "for i in range(len(uni)):\n",
    "    indice = ds.forma_ingresso == uni[i]\n",
    "    plt.scatter(x[indice], y[indice], label = uni[i])\n",
    "plt.legend(loc = 'lower right')"
   ]
  },
  {
   "cell_type": "markdown",
   "metadata": {},
   "source": [
    "Boxplot"
   ]
  },
  {
   "cell_type": "code",
   "execution_count": 11,
   "metadata": {},
   "outputs": [
    {
     "data": {
      "text/plain": [
       "Text(0.5, 0, 'Ano de Ingresso')"
      ]
     },
     "execution_count": 11,
     "metadata": {},
     "output_type": "execute_result"
    },
    {
     "data": {
      "image/png": "[encoded data removed]",
      "text/plain": [
       "<Figure size 432x288 with 1 Axes>"
      ]
     },
     "metadata": {},
     "output_type": "display_data"
    }
   ],
   "source": [
    "# Geração de boxplot \n",
    "plt.boxplot(\n",
    "    ds.ano_ingresso, vert = False, showfliers = False, notch = True, \n",
    "    patch_artist = True)\n",
    "plt.title('Alunos')\n",
    "plt.xlabel('Ano de Ingresso')"
   ]
  },
  {
   "cell_type": "code",
   "execution_count": 12,
   "metadata": {},
   "outputs": [
    {
     "data": {
      "text/plain": [
       "Text(0.5, 0, 'Ano de Ingresso')"
      ]
     },
     "execution_count": 12,
     "metadata": {},
     "output_type": "execute_result"
    },
    {
     "data": {
      "image/png": "[encoded data removed]",
      "text/plain": [
       "<Figure size 432x288 with 1 Axes>"
      ]
     },
     "metadata": {},
     "output_type": "display_data"
    }
   ],
   "source": [
    "# Geração de boxplot \n",
    "plt.boxplot(\n",
    "    ds.periodo_atual, vert = False, showfliers = False, notch = True, \n",
    "    patch_artist = True)\n",
    "plt.title('Alunos')\n",
    "plt.xlabel('Ano de Ingresso')"
   ]
  }
 ],
 "metadata": {
  "kernelspec": {
   "display_name": "Python 3.9.12 ('venv': venv)",
   "language": "python",
   "name": "python3"
  },
  "language_info": {
   "codemirror_mode": {
    "name": "ipython",
    "version": 3
   },
   "file_extension": ".py",
   "mimetype": "text/x-python",
   "name": "python",
   "nbconvert_exporter": "python",
   "pygments_lexer": "ipython3",
   "version": "3.9.12"
  },
  "orig_nbformat": 4,
  "vscode": {
   "interpreter": {
    "hash": "fea19b5a4fed20f0abd4b41fa1930df0fe4b8c94eabf60df86233fb8f94f9656"
   }
  }
 },
 "nbformat": 4,
 "nbformat_minor": 2
}
