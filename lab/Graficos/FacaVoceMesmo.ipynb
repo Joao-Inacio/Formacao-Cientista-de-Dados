{
 "cells": [
  {
   "cell_type": "markdown",
   "metadata": {},
   "source": [
    "#### Formação Cientista de Dados\n",
    "1. Arquivo dados.csv\n",
    "   1. CODIGO\n",
    "   2. MUNICIPIO\n",
    "   3. PIB\n",
    "   4. VALOREMPENHO\n",
    "2. Empenho em diárias em municípios gaúchos e PIB\n",
    "    do município\n",
    "3. Execute um processo de Análise de Dados\n",
    "    Exploratória para conhecimento/Entendimento\n",
    "    deste dados"
   ]
  },
  {
   "cell_type": "code",
   "execution_count": 1,
   "metadata": {},
   "outputs": [],
   "source": [
    "# Importação das libs \n",
    "import pandas as pd\n",
    "import seaborn as srn\n",
    "import matplotlib.pyplot as plt"
   ]
  },
  {
   "cell_type": "code",
   "execution_count": 2,
   "metadata": {},
   "outputs": [
    {
     "data": {
      "text/plain": [
       "(187, 1)"
      ]
     },
     "execution_count": 2,
     "metadata": {},
     "output_type": "execute_result"
    }
   ],
   "source": [
    "# Base de Dados \n",
    "ds = pd.read_csv('../../3_Gráficos/dados.csv')\n",
    "ds.shape"
   ]
  },
  {
   "cell_type": "code",
   "execution_count": 3,
   "metadata": {},
   "outputs": [
    {
     "data": {
      "text/html": [
       "<div>\n",
       "<style scoped>\n",
       "    .dataframe tbody tr th:only-of-type {\n",
       "        vertical-align: middle;\n",
       "    }\n",
       "\n",
       "    .dataframe tbody tr th {\n",
       "        vertical-align: top;\n",
       "    }\n",
       "\n",
       "    .dataframe thead th {\n",
       "        text-align: right;\n",
       "    }\n",
       "</style>\n",
       "<table border=\"1\" class=\"dataframe\">\n",
       "  <thead>\n",
       "    <tr style=\"text-align: right;\">\n",
       "      <th></th>\n",
       "      <th>CODIGO;MUNICIPIO;PIB;VALOREMPENHO</th>\n",
       "    </tr>\n",
       "  </thead>\n",
       "  <tbody>\n",
       "    <tr>\n",
       "      <th>0</th>\n",
       "      <td>106;SANTANA DO LIVRAMENTO;12240.76;1088666.1</td>\n",
       "    </tr>\n",
       "    <tr>\n",
       "      <th>1</th>\n",
       "      <td>113;SANTO ANGELO;16575.82;800669.92</td>\n",
       "    </tr>\n",
       "    <tr>\n",
       "      <th>2</th>\n",
       "      <td>118;SAO FRANCISCO DE ASSIS;12037.61;466122.8</td>\n",
       "    </tr>\n",
       "    <tr>\n",
       "      <th>3</th>\n",
       "      <td>13;CACAPAVA DO SUL;13674.54;485535.86</td>\n",
       "    </tr>\n",
       "    <tr>\n",
       "      <th>4</th>\n",
       "      <td>120;SAO GABRIEL;19912.38;533719.86</td>\n",
       "    </tr>\n",
       "  </tbody>\n",
       "</table>\n",
       "</div>"
      ],
      "text/plain": [
       "              CODIGO;MUNICIPIO;PIB;VALOREMPENHO\n",
       "0  106;SANTANA DO LIVRAMENTO;12240.76;1088666.1\n",
       "1           113;SANTO ANGELO;16575.82;800669.92\n",
       "2  118;SAO FRANCISCO DE ASSIS;12037.61;466122.8\n",
       "3         13;CACAPAVA DO SUL;13674.54;485535.86\n",
       "4            120;SAO GABRIEL;19912.38;533719.86"
      ]
     },
     "execution_count": 3,
     "metadata": {},
     "output_type": "execute_result"
    }
   ],
   "source": [
    "# Visualizando os dados\n",
    "ds.head()"
   ]
  },
  {
   "cell_type": "code",
   "execution_count": 4,
   "metadata": {},
   "outputs": [
    {
     "data": {
      "text/html": [
       "<div>\n",
       "<style scoped>\n",
       "    .dataframe tbody tr th:only-of-type {\n",
       "        vertical-align: middle;\n",
       "    }\n",
       "\n",
       "    .dataframe tbody tr th {\n",
       "        vertical-align: top;\n",
       "    }\n",
       "\n",
       "    .dataframe thead th {\n",
       "        text-align: right;\n",
       "    }\n",
       "</style>\n",
       "<table border=\"1\" class=\"dataframe\">\n",
       "  <thead>\n",
       "    <tr style=\"text-align: right;\">\n",
       "      <th></th>\n",
       "      <th>CODIGO</th>\n",
       "      <th>MUNICIPIO</th>\n",
       "      <th>PIB</th>\n",
       "      <th>VALOREMPENHO</th>\n",
       "    </tr>\n",
       "  </thead>\n",
       "  <tbody>\n",
       "    <tr>\n",
       "      <th>0</th>\n",
       "      <td>106</td>\n",
       "      <td>SANTANA DO LIVRAMENTO</td>\n",
       "      <td>12240.76</td>\n",
       "      <td>1088666.10</td>\n",
       "    </tr>\n",
       "    <tr>\n",
       "      <th>1</th>\n",
       "      <td>113</td>\n",
       "      <td>SANTO ANGELO</td>\n",
       "      <td>16575.82</td>\n",
       "      <td>800669.92</td>\n",
       "    </tr>\n",
       "    <tr>\n",
       "      <th>2</th>\n",
       "      <td>118</td>\n",
       "      <td>SAO FRANCISCO DE ASSIS</td>\n",
       "      <td>12037.61</td>\n",
       "      <td>466122.80</td>\n",
       "    </tr>\n",
       "    <tr>\n",
       "      <th>3</th>\n",
       "      <td>13</td>\n",
       "      <td>CACAPAVA DO SUL</td>\n",
       "      <td>13674.54</td>\n",
       "      <td>485535.86</td>\n",
       "    </tr>\n",
       "    <tr>\n",
       "      <th>4</th>\n",
       "      <td>120</td>\n",
       "      <td>SAO GABRIEL</td>\n",
       "      <td>19912.38</td>\n",
       "      <td>533719.86</td>\n",
       "    </tr>\n",
       "  </tbody>\n",
       "</table>\n",
       "</div>"
      ],
      "text/plain": [
       "   CODIGO               MUNICIPIO       PIB  VALOREMPENHO\n",
       "0     106   SANTANA DO LIVRAMENTO  12240.76    1088666.10\n",
       "1     113            SANTO ANGELO  16575.82     800669.92\n",
       "2     118  SAO FRANCISCO DE ASSIS  12037.61     466122.80\n",
       "3      13         CACAPAVA DO SUL  13674.54     485535.86\n",
       "4     120             SAO GABRIEL  19912.38     533719.86"
      ]
     },
     "execution_count": 4,
     "metadata": {},
     "output_type": "execute_result"
    }
   ],
   "source": [
    "# Organizando os dados\n",
    "ds = pd.read_csv('../../3_Gráficos/dados.csv', sep=';')\n",
    "ds.head()"
   ]
  },
  {
   "cell_type": "code",
   "execution_count": 5,
   "metadata": {},
   "outputs": [
    {
     "data": {
      "text/plain": [
       "(187, 4)"
      ]
     },
     "execution_count": 5,
     "metadata": {},
     "output_type": "execute_result"
    }
   ],
   "source": [
    "# Verificando o tamanho\n",
    "ds.shape"
   ]
  },
  {
   "cell_type": "code",
   "execution_count": 6,
   "metadata": {},
   "outputs": [
    {
     "data": {
      "text/plain": [
       "MUNICIPIO\n",
       "AGUDO                         134912.00\n",
       "AJURICABA                     180603.16\n",
       "ALECRIM                        70277.71\n",
       "ALMIRANTE TAMANDARE DO SUL     31936.85\n",
       "ALTO FELIZ                     82293.86\n",
       "                                ...    \n",
       "VERA CRUZ                     246386.96\n",
       "VIADUTOS                       38128.96\n",
       "VICTOR GRAEFF                  79029.29\n",
       "VILA MARIA                     28149.89\n",
       "VILA NOVA DO SUL              141895.69\n",
       "Name: VALOREMPENHO, Length: 177, dtype: float64"
      ]
     },
     "execution_count": 6,
     "metadata": {},
     "output_type": "execute_result"
    }
   ],
   "source": [
    "# agrupando os municípios e o VALOREMPENHO\n",
    "agrupamento = ds.groupby(['MUNICIPIO'])['VALOREMPENHO'].sum()\n",
    "agrupamento"
   ]
  },
  {
   "cell_type": "code",
   "execution_count": 7,
   "metadata": {},
   "outputs": [
    {
     "name": "stderr",
     "output_type": "stream",
     "text": [
      "c:\\Users\\João Inácio\\dadospython\\venv\\lib\\site-packages\\seaborn\\_decorators.py:36: FutureWarning: Pass the following variables as keyword args: x, y. From version 0.12, the only valid positional argument will be `data`, and passing other arguments without an explicit keyword will result in an error or misinterpretation.\n",
      "  warnings.warn(\n"
     ]
    },
    {
     "data": {
      "text/plain": [
       "<AxesSubplot:xlabel='MUNICIPIO', ylabel='VALOREMPENHO'>"
      ]
     },
     "execution_count": 7,
     "metadata": {},
     "output_type": "execute_result"
    },
    {
     "data": {
      "image/png": "[encoded data removed]",
      "text/plain": [
       "<Figure size 432x288 with 1 Axes>"
      ]
     },
     "metadata": {},
     "output_type": "display_data"
    }
   ],
   "source": [
    "# Gráfico de dispersão utilizando os atributos MUNICIPIO e VALO\n",
    "srn.scatterplot(ds.MUNICIPIO.head(10), ds.VALOREMPENHO.head(10))"
   ]
  },
  {
   "cell_type": "code",
   "execution_count": 8,
   "metadata": {},
   "outputs": [
    {
     "data": {
      "text/html": [
       "<div>\n",
       "<style scoped>\n",
       "    .dataframe tbody tr th:only-of-type {\n",
       "        vertical-align: middle;\n",
       "    }\n",
       "\n",
       "    .dataframe tbody tr th {\n",
       "        vertical-align: top;\n",
       "    }\n",
       "\n",
       "    .dataframe thead th {\n",
       "        text-align: right;\n",
       "    }\n",
       "</style>\n",
       "<table border=\"1\" class=\"dataframe\">\n",
       "  <thead>\n",
       "    <tr style=\"text-align: right;\">\n",
       "      <th></th>\n",
       "      <th>CODIGO</th>\n",
       "      <th>MUNICIPIO</th>\n",
       "      <th>PIB</th>\n",
       "      <th>VALOREMPENHO</th>\n",
       "    </tr>\n",
       "  </thead>\n",
       "  <tbody>\n",
       "    <tr>\n",
       "      <th>88</th>\n",
       "      <td>216</td>\n",
       "      <td>REDENTORA</td>\n",
       "      <td>8236.63</td>\n",
       "      <td>60134.00</td>\n",
       "    </tr>\n",
       "    <tr>\n",
       "      <th>11</th>\n",
       "      <td>248</td>\n",
       "      <td>AMARAL FERRADOR</td>\n",
       "      <td>9216.87</td>\n",
       "      <td>235327.02</td>\n",
       "    </tr>\n",
       "    <tr>\n",
       "      <th>15</th>\n",
       "      <td>38</td>\n",
       "      <td>ENCRUZILHADA DO SUL</td>\n",
       "      <td>10372.80</td>\n",
       "      <td>200738.61</td>\n",
       "    </tr>\n",
       "    <tr>\n",
       "      <th>66</th>\n",
       "      <td>414</td>\n",
       "      <td>SENTINELA DO SUL</td>\n",
       "      <td>10477.52</td>\n",
       "      <td>92380.20</td>\n",
       "    </tr>\n",
       "    <tr>\n",
       "      <th>89</th>\n",
       "      <td>413</td>\n",
       "      <td>SAO VALERIO DO SUL</td>\n",
       "      <td>10503.72</td>\n",
       "      <td>67638.25</td>\n",
       "    </tr>\n",
       "    <tr>\n",
       "      <th>6</th>\n",
       "      <td>95</td>\n",
       "      <td>PIRATINI</td>\n",
       "      <td>10811.67</td>\n",
       "      <td>315884.50</td>\n",
       "    </tr>\n",
       "    <tr>\n",
       "      <th>56</th>\n",
       "      <td>204</td>\n",
       "      <td>MATA</td>\n",
       "      <td>10935.82</td>\n",
       "      <td>107740.90</td>\n",
       "    </tr>\n",
       "    <tr>\n",
       "      <th>37</th>\n",
       "      <td>222</td>\n",
       "      <td>SANTANA DA BOA VISTA</td>\n",
       "      <td>11172.34</td>\n",
       "      <td>139594.29</td>\n",
       "    </tr>\n",
       "    <tr>\n",
       "      <th>16</th>\n",
       "      <td>23</td>\n",
       "      <td>CANGUCU</td>\n",
       "      <td>11213.34</td>\n",
       "      <td>205741.65</td>\n",
       "    </tr>\n",
       "    <tr>\n",
       "      <th>47</th>\n",
       "      <td>288</td>\n",
       "      <td>JAQUIRANA</td>\n",
       "      <td>11413.37</td>\n",
       "      <td>129434.42</td>\n",
       "    </tr>\n",
       "  </tbody>\n",
       "</table>\n",
       "</div>"
      ],
      "text/plain": [
       "    CODIGO             MUNICIPIO       PIB  VALOREMPENHO\n",
       "88     216             REDENTORA   8236.63      60134.00\n",
       "11     248       AMARAL FERRADOR   9216.87     235327.02\n",
       "15      38   ENCRUZILHADA DO SUL  10372.80     200738.61\n",
       "66     414      SENTINELA DO SUL  10477.52      92380.20\n",
       "89     413    SAO VALERIO DO SUL  10503.72      67638.25\n",
       "6       95              PIRATINI  10811.67     315884.50\n",
       "56     204                  MATA  10935.82     107740.90\n",
       "37     222  SANTANA DA BOA VISTA  11172.34     139594.29\n",
       "16      23               CANGUCU  11213.34     205741.65\n",
       "47     288             JAQUIRANA  11413.37     129434.42"
      ]
     },
     "execution_count": 8,
     "metadata": {},
     "output_type": "execute_result"
    }
   ],
   "source": [
    "# Agrupamento de valores sorteado d PIB \n",
    "agrupamento2 = ds.sort_values('PIB').head(10)\n",
    "agrupamento2"
   ]
  },
  {
   "cell_type": "code",
   "execution_count": 9,
   "metadata": {},
   "outputs": [
    {
     "data": {
      "text/html": [
       "<div>\n",
       "<style scoped>\n",
       "    .dataframe tbody tr th:only-of-type {\n",
       "        vertical-align: middle;\n",
       "    }\n",
       "\n",
       "    .dataframe tbody tr th {\n",
       "        vertical-align: top;\n",
       "    }\n",
       "\n",
       "    .dataframe thead th {\n",
       "        text-align: right;\n",
       "    }\n",
       "</style>\n",
       "<table border=\"1\" class=\"dataframe\">\n",
       "  <thead>\n",
       "    <tr style=\"text-align: right;\">\n",
       "      <th></th>\n",
       "      <th>MUNICIPIO</th>\n",
       "      <th>PIB</th>\n",
       "    </tr>\n",
       "  </thead>\n",
       "  <tbody>\n",
       "    <tr>\n",
       "      <th>88</th>\n",
       "      <td>REDENTORA</td>\n",
       "      <td>8236.63</td>\n",
       "    </tr>\n",
       "    <tr>\n",
       "      <th>11</th>\n",
       "      <td>AMARAL FERRADOR</td>\n",
       "      <td>9216.87</td>\n",
       "    </tr>\n",
       "    <tr>\n",
       "      <th>15</th>\n",
       "      <td>ENCRUZILHADA DO SUL</td>\n",
       "      <td>10372.80</td>\n",
       "    </tr>\n",
       "    <tr>\n",
       "      <th>66</th>\n",
       "      <td>SENTINELA DO SUL</td>\n",
       "      <td>10477.52</td>\n",
       "    </tr>\n",
       "    <tr>\n",
       "      <th>89</th>\n",
       "      <td>SAO VALERIO DO SUL</td>\n",
       "      <td>10503.72</td>\n",
       "    </tr>\n",
       "    <tr>\n",
       "      <th>6</th>\n",
       "      <td>PIRATINI</td>\n",
       "      <td>10811.67</td>\n",
       "    </tr>\n",
       "    <tr>\n",
       "      <th>56</th>\n",
       "      <td>MATA</td>\n",
       "      <td>10935.82</td>\n",
       "    </tr>\n",
       "    <tr>\n",
       "      <th>37</th>\n",
       "      <td>SANTANA DA BOA VISTA</td>\n",
       "      <td>11172.34</td>\n",
       "    </tr>\n",
       "    <tr>\n",
       "      <th>16</th>\n",
       "      <td>CANGUCU</td>\n",
       "      <td>11213.34</td>\n",
       "    </tr>\n",
       "    <tr>\n",
       "      <th>47</th>\n",
       "      <td>JAQUIRANA</td>\n",
       "      <td>11413.37</td>\n",
       "    </tr>\n",
       "  </tbody>\n",
       "</table>\n",
       "</div>"
      ],
      "text/plain": [
       "               MUNICIPIO       PIB\n",
       "88             REDENTORA   8236.63\n",
       "11       AMARAL FERRADOR   9216.87\n",
       "15   ENCRUZILHADA DO SUL  10372.80\n",
       "66      SENTINELA DO SUL  10477.52\n",
       "89    SAO VALERIO DO SUL  10503.72\n",
       "6               PIRATINI  10811.67\n",
       "56                  MATA  10935.82\n",
       "37  SANTANA DA BOA VISTA  11172.34\n",
       "16               CANGUCU  11213.34\n",
       "47             JAQUIRANA  11413.37"
      ]
     },
     "execution_count": 9,
     "metadata": {},
     "output_type": "execute_result"
    }
   ],
   "source": [
    "# Selecionados os valores e colunas sorteados\n",
    "agrupamento2 = agrupamento2.iloc[:,1:3]\n",
    "agrupamento2"
   ]
  },
  {
   "cell_type": "code",
   "execution_count": 10,
   "metadata": {},
   "outputs": [
    {
     "data": {
      "text/plain": [
       "<AxesSubplot:ylabel='MUNICIPIO'>"
      ]
     },
     "execution_count": 10,
     "metadata": {},
     "output_type": "execute_result"
    },
    {
     "data": {
      "image/png": "[encoded data removed]",
      "text/plain": [
       "<Figure size 432x288 with 1 Axes>"
      ]
     },
     "metadata": {},
     "output_type": "display_data"
    }
   ],
   "source": [
    "# Visualizando em gráficos \n",
    "agrupamento2.plot.barh(x='MUNICIPIO',y='PIB',color='gray')"
   ]
  },
  {
   "cell_type": "code",
   "execution_count": 12,
   "metadata": {},
   "outputs": [
    {
     "data": {
      "text/html": [
       "<div>\n",
       "<style scoped>\n",
       "    .dataframe tbody tr th:only-of-type {\n",
       "        vertical-align: middle;\n",
       "    }\n",
       "\n",
       "    .dataframe tbody tr th {\n",
       "        vertical-align: top;\n",
       "    }\n",
       "\n",
       "    .dataframe thead th {\n",
       "        text-align: right;\n",
       "    }\n",
       "</style>\n",
       "<table border=\"1\" class=\"dataframe\">\n",
       "  <thead>\n",
       "    <tr style=\"text-align: right;\">\n",
       "      <th></th>\n",
       "      <th>MUNICIPIO</th>\n",
       "      <th>VALOREMPENHO</th>\n",
       "    </tr>\n",
       "  </thead>\n",
       "  <tbody>\n",
       "    <tr>\n",
       "      <th>186</th>\n",
       "      <td>GUARANI DAS MISSOES</td>\n",
       "      <td>172.13</td>\n",
       "    </tr>\n",
       "    <tr>\n",
       "      <th>184</th>\n",
       "      <td>GETULIO VARGAS</td>\n",
       "      <td>233.01</td>\n",
       "    </tr>\n",
       "    <tr>\n",
       "      <th>185</th>\n",
       "      <td>NOVA SANTA RITA</td>\n",
       "      <td>310.58</td>\n",
       "    </tr>\n",
       "    <tr>\n",
       "      <th>183</th>\n",
       "      <td>SANTA BARBARA DO SUL</td>\n",
       "      <td>365.00</td>\n",
       "    </tr>\n",
       "    <tr>\n",
       "      <th>182</th>\n",
       "      <td>SANTA VITORIA DO PALMAR</td>\n",
       "      <td>760.00</td>\n",
       "    </tr>\n",
       "  </tbody>\n",
       "</table>\n",
       "</div>"
      ],
      "text/plain": [
       "                   MUNICIPIO  VALOREMPENHO\n",
       "186      GUARANI DAS MISSOES        172.13\n",
       "184           GETULIO VARGAS        233.01\n",
       "185          NOVA SANTA RITA        310.58\n",
       "183     SANTA BARBARA DO SUL        365.00\n",
       "182  SANTA VITORIA DO PALMAR        760.00"
      ]
     },
     "execution_count": 12,
     "metadata": {},
     "output_type": "execute_result"
    }
   ],
   "source": [
    "# Sorteado 10 valores da coluna VALOREMPENHO\n",
    "agrupamento3 = ds.sort_values('VALOREMPENHO').head(10)\n",
    "# Valores sorteados junto MUNICIPIO\n",
    "agrupamento3 = agrupamento3.iloc[:,[1,3]]\n",
    "agrupamento3"
   ]
  },
  {
   "cell_type": "code",
   "execution_count": 13,
   "metadata": {},
   "outputs": [
    {
     "data": {
      "text/html": [
       "<div>\n",
       "<style scoped>\n",
       "    .dataframe tbody tr th:only-of-type {\n",
       "        vertical-align: middle;\n",
       "    }\n",
       "\n",
       "    .dataframe tbody tr th {\n",
       "        vertical-align: top;\n",
       "    }\n",
       "\n",
       "    .dataframe thead th {\n",
       "        text-align: right;\n",
       "    }\n",
       "</style>\n",
       "<table border=\"1\" class=\"dataframe\">\n",
       "  <thead>\n",
       "    <tr style=\"text-align: right;\">\n",
       "      <th></th>\n",
       "      <th>MUNICIPIO</th>\n",
       "      <th>VALOREMPENHO</th>\n",
       "    </tr>\n",
       "  </thead>\n",
       "  <tbody>\n",
       "    <tr>\n",
       "      <th>186</th>\n",
       "      <td>GUARANI DAS MISSOES</td>\n",
       "      <td>172.13</td>\n",
       "    </tr>\n",
       "    <tr>\n",
       "      <th>184</th>\n",
       "      <td>GETULIO VARGAS</td>\n",
       "      <td>233.01</td>\n",
       "    </tr>\n",
       "    <tr>\n",
       "      <th>185</th>\n",
       "      <td>NOVA SANTA RITA</td>\n",
       "      <td>310.58</td>\n",
       "    </tr>\n",
       "    <tr>\n",
       "      <th>183</th>\n",
       "      <td>SANTA BARBARA DO SUL</td>\n",
       "      <td>365.00</td>\n",
       "    </tr>\n",
       "    <tr>\n",
       "      <th>182</th>\n",
       "      <td>SANTA VITORIA DO PALMAR</td>\n",
       "      <td>760.00</td>\n",
       "    </tr>\n",
       "    <tr>\n",
       "      <th>181</th>\n",
       "      <td>MATO LEITAO</td>\n",
       "      <td>760.00</td>\n",
       "    </tr>\n",
       "    <tr>\n",
       "      <th>180</th>\n",
       "      <td>SANTA VITORIA DO PALMAR</td>\n",
       "      <td>760.00</td>\n",
       "    </tr>\n",
       "    <tr>\n",
       "      <th>179</th>\n",
       "      <td>MATO LEITAO</td>\n",
       "      <td>760.00</td>\n",
       "    </tr>\n",
       "    <tr>\n",
       "      <th>178</th>\n",
       "      <td>SAO SEPE</td>\n",
       "      <td>1186.00</td>\n",
       "    </tr>\n",
       "    <tr>\n",
       "      <th>177</th>\n",
       "      <td>IJUI</td>\n",
       "      <td>5920.00</td>\n",
       "    </tr>\n",
       "  </tbody>\n",
       "</table>\n",
       "</div>"
      ],
      "text/plain": [
       "                   MUNICIPIO  VALOREMPENHO\n",
       "186      GUARANI DAS MISSOES        172.13\n",
       "184           GETULIO VARGAS        233.01\n",
       "185          NOVA SANTA RITA        310.58\n",
       "183     SANTA BARBARA DO SUL        365.00\n",
       "182  SANTA VITORIA DO PALMAR        760.00\n",
       "181              MATO LEITAO        760.00\n",
       "180  SANTA VITORIA DO PALMAR        760.00\n",
       "179              MATO LEITAO        760.00\n",
       "178                 SAO SEPE       1186.00\n",
       "177                     IJUI       5920.00"
      ]
     },
     "execution_count": 13,
     "metadata": {},
     "output_type": "execute_result"
    }
   ],
   "source": [
    "# Sorteado 10 valores da coluna VALOREMPENHO\n",
    "agrupamento3 = ds.sort_values('VALOREMPENHO').head(10)\n",
    "# Valores sorteados junto MUNICIPIO\n",
    "agrupamento3 = agrupamento3.iloc[:,[1,3]]\n",
    "agrupamento3"
   ]
  },
  {
   "cell_type": "code",
   "execution_count": 14,
   "metadata": {},
   "outputs": [
    {
     "data": {
      "text/plain": [
       "<AxesSubplot:ylabel='MUNICIPIO'>"
      ]
     },
     "execution_count": 14,
     "metadata": {},
     "output_type": "execute_result"
    },
    {
     "data": {
      "image/png": "[encoded data removed]",
      "text/plain": [
       "<Figure size 432x288 with 1 Axes>"
      ]
     },
     "metadata": {},
     "output_type": "display_data"
    }
   ],
   "source": [
    "# Visualizando em gráficos \n",
    "agrupamento3.plot.barh(x='MUNICIPIO',y='VALOREMPENHO',color='cyan')"
   ]
  }
 ],
 "metadata": {
  "kernelspec": {
   "display_name": "Python 3.9.12 ('venv': venv)",
   "language": "python",
   "name": "python3"
  },
  "language_info": {
   "codemirror_mode": {
    "name": "ipython",
    "version": 3
   },
   "file_extension": ".py",
   "mimetype": "text/x-python",
   "name": "python",
   "nbconvert_exporter": "python",
   "pygments_lexer": "ipython3",
   "version": "3.9.12"
  },
  "orig_nbformat": 4,
  "vscode": {
   "interpreter": {
    "hash": "fea19b5a4fed20f0abd4b41fa1930df0fe4b8c94eabf60df86233fb8f94f9656"
   }
  }
 },
 "nbformat": 4,
 "nbformat_minor": 2
}
