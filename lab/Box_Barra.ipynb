{
 "cells": [
  {
   "cell_type": "markdown",
   "metadata": {},
   "source": [
    "### Pratica\n",
    "1. Boxplot\n",
    "2. Barra de Setores\n",
    "3. Boxplot com Seaborn"
   ]
  },
  {
   "cell_type": "code",
   "execution_count": 1,
   "metadata": {},
   "outputs": [],
   "source": [
    "import pandas as pd  \n",
    "import matplotlib.pyplot as plt \n",
    "import seaborn as srn"
   ]
  },
  {
   "cell_type": "code",
   "execution_count": 2,
   "metadata": {},
   "outputs": [
    {
     "data": {
      "text/html": [
       "<div>\n",
       "<style scoped>\n",
       "    .dataframe tbody tr th:only-of-type {\n",
       "        vertical-align: middle;\n",
       "    }\n",
       "\n",
       "    .dataframe tbody tr th {\n",
       "        vertical-align: top;\n",
       "    }\n",
       "\n",
       "    .dataframe thead th {\n",
       "        text-align: right;\n",
       "    }\n",
       "</style>\n",
       "<table border=\"1\" class=\"dataframe\">\n",
       "  <thead>\n",
       "    <tr style=\"text-align: right;\">\n",
       "      <th></th>\n",
       "      <th>id_discente</th>\n",
       "      <th>discente_matricula</th>\n",
       "      <th>sexo</th>\n",
       "      <th>ano_nascimento</th>\n",
       "      <th>raca</th>\n",
       "      <th>ano_ingresso</th>\n",
       "      <th>periodo_ingresso</th>\n",
       "      <th>pais</th>\n",
       "      <th>curso</th>\n",
       "      <th>nivel</th>\n",
       "      <th>modalidade</th>\n",
       "      <th>estado</th>\n",
       "      <th>polo</th>\n",
       "      <th>forma_ingresso</th>\n",
       "      <th>programa_cota</th>\n",
       "      <th>discente_situacao</th>\n",
       "      <th>periodo_atual</th>\n",
       "      <th>data_colacao_grau</th>\n",
       "    </tr>\n",
       "  </thead>\n",
       "  <tbody>\n",
       "    <tr>\n",
       "      <th>0</th>\n",
       "      <td>03bc8af6b3061e1cae9fb0bd8b20308c</td>\n",
       "      <td>2017206***</td>\n",
       "      <td>F</td>\n",
       "      <td>1991</td>\n",
       "      <td>Não declarada</td>\n",
       "      <td>2017</td>\n",
       "      <td>2</td>\n",
       "      <td>Brasil</td>\n",
       "      <td>ADMINISTRAÇÃO PÚBLICA</td>\n",
       "      <td>G</td>\n",
       "      <td>A Distância</td>\n",
       "      <td>Ceará</td>\n",
       "      <td>Aracati</td>\n",
       "      <td>VESTIBULAR</td>\n",
       "      <td>Ampla Concorrência</td>\n",
       "      <td>ATIVO</td>\n",
       "      <td>7</td>\n",
       "      <td>NaN</td>\n",
       "    </tr>\n",
       "    <tr>\n",
       "      <th>1</th>\n",
       "      <td>0832482b8b390dc7caf355f08ebe54dd</td>\n",
       "      <td>2017101***</td>\n",
       "      <td>F</td>\n",
       "      <td>1993</td>\n",
       "      <td>Negra</td>\n",
       "      <td>2017</td>\n",
       "      <td>1</td>\n",
       "      <td>Brasil</td>\n",
       "      <td>ADMINISTRAÇÃO PÚBLICA</td>\n",
       "      <td>G</td>\n",
       "      <td>A Distância</td>\n",
       "      <td>Ceará</td>\n",
       "      <td>Aracati</td>\n",
       "      <td>SiSU</td>\n",
       "      <td>ÉTNICO</td>\n",
       "      <td>ATIVO</td>\n",
       "      <td>8</td>\n",
       "      <td>NaN</td>\n",
       "    </tr>\n",
       "    <tr>\n",
       "      <th>2</th>\n",
       "      <td>08916f4731e72e75b792d53431a2a90e</td>\n",
       "      <td>2017207***</td>\n",
       "      <td>F</td>\n",
       "      <td>1989</td>\n",
       "      <td>Parda</td>\n",
       "      <td>2017</td>\n",
       "      <td>2</td>\n",
       "      <td>Brasil</td>\n",
       "      <td>ADMINISTRAÇÃO PÚBLICA</td>\n",
       "      <td>G</td>\n",
       "      <td>A Distância</td>\n",
       "      <td>Ceará</td>\n",
       "      <td>Aracati</td>\n",
       "      <td>VESTIBULAR</td>\n",
       "      <td>Ampla Concorrência</td>\n",
       "      <td>ATIVO</td>\n",
       "      <td>6</td>\n",
       "      <td>NaN</td>\n",
       "    </tr>\n",
       "    <tr>\n",
       "      <th>3</th>\n",
       "      <td>0d919fbfce60aea4890e70e5b872f471</td>\n",
       "      <td>2017101***</td>\n",
       "      <td>M</td>\n",
       "      <td>1977</td>\n",
       "      <td>Negra</td>\n",
       "      <td>2017</td>\n",
       "      <td>1</td>\n",
       "      <td>Brasil</td>\n",
       "      <td>ADMINISTRAÇÃO PÚBLICA</td>\n",
       "      <td>G</td>\n",
       "      <td>A Distância</td>\n",
       "      <td>Ceará</td>\n",
       "      <td>Aracati</td>\n",
       "      <td>SiSU</td>\n",
       "      <td>NENHUM</td>\n",
       "      <td>ATIVO</td>\n",
       "      <td>7</td>\n",
       "      <td>NaN</td>\n",
       "    </tr>\n",
       "    <tr>\n",
       "      <th>4</th>\n",
       "      <td>0e2427404fb0f446a8a809b332209633</td>\n",
       "      <td>2017100***</td>\n",
       "      <td>F</td>\n",
       "      <td>1982</td>\n",
       "      <td>Não declarada</td>\n",
       "      <td>2017</td>\n",
       "      <td>1</td>\n",
       "      <td>Brasil</td>\n",
       "      <td>ADMINISTRAÇÃO PÚBLICA</td>\n",
       "      <td>G</td>\n",
       "      <td>A Distância</td>\n",
       "      <td>Ceará</td>\n",
       "      <td>Aracati</td>\n",
       "      <td>SiSU</td>\n",
       "      <td>NENHUM</td>\n",
       "      <td>ATIVO</td>\n",
       "      <td>7</td>\n",
       "      <td>NaN</td>\n",
       "    </tr>\n",
       "  </tbody>\n",
       "</table>\n",
       "</div>"
      ],
      "text/plain": [
       "                        id_discente discente_matricula sexo  ano_nascimento  \\\n",
       "0  03bc8af6b3061e1cae9fb0bd8b20308c         2017206***    F            1991   \n",
       "1  0832482b8b390dc7caf355f08ebe54dd         2017101***    F            1993   \n",
       "2  08916f4731e72e75b792d53431a2a90e         2017207***    F            1989   \n",
       "3  0d919fbfce60aea4890e70e5b872f471         2017101***    M            1977   \n",
       "4  0e2427404fb0f446a8a809b332209633         2017100***    F            1982   \n",
       "\n",
       "            raca  ano_ingresso  periodo_ingresso    pais  \\\n",
       "0  Não declarada          2017                 2  Brasil   \n",
       "1          Negra          2017                 1  Brasil   \n",
       "2          Parda          2017                 2  Brasil   \n",
       "3          Negra          2017                 1  Brasil   \n",
       "4  Não declarada          2017                 1  Brasil   \n",
       "\n",
       "                   curso nivel   modalidade estado     polo forma_ingresso  \\\n",
       "0  ADMINISTRAÇÃO PÚBLICA     G  A Distância  Ceará  Aracati     VESTIBULAR   \n",
       "1  ADMINISTRAÇÃO PÚBLICA     G  A Distância  Ceará  Aracati           SiSU   \n",
       "2  ADMINISTRAÇÃO PÚBLICA     G  A Distância  Ceará  Aracati     VESTIBULAR   \n",
       "3  ADMINISTRAÇÃO PÚBLICA     G  A Distância  Ceará  Aracati           SiSU   \n",
       "4  ADMINISTRAÇÃO PÚBLICA     G  A Distância  Ceará  Aracati           SiSU   \n",
       "\n",
       "        programa_cota discente_situacao  periodo_atual  data_colacao_grau  \n",
       "0  Ampla Concorrência             ATIVO              7                NaN  \n",
       "1              ÉTNICO             ATIVO              8                NaN  \n",
       "2  Ampla Concorrência             ATIVO              6                NaN  \n",
       "3              NENHUM             ATIVO              7                NaN  \n",
       "4              NENHUM             ATIVO              7                NaN  "
      ]
     },
     "execution_count": 2,
     "metadata": {},
     "output_type": "execute_result"
    }
   ],
   "source": [
    "dados = pd.read_csv('lista.csv')\n",
    "dados.head()"
   ]
  },
  {
   "cell_type": "code",
   "execution_count": 3,
   "metadata": {},
   "outputs": [
    {
     "data": {
      "text/plain": [
       "(194, 18)"
      ]
     },
     "execution_count": 3,
     "metadata": {},
     "output_type": "execute_result"
    }
   ],
   "source": [
    "dados.shape"
   ]
  },
  {
   "cell_type": "code",
   "execution_count": 5,
   "metadata": {},
   "outputs": [
    {
     "data": {
      "text/plain": [
       "Text(0.5, 0, 'Ano de Nascimento')"
      ]
     },
     "execution_count": 5,
     "metadata": {},
     "output_type": "execute_result"
    },
    {
     "data": {
      "image/png": "[encoded data removed]",
      "text/plain": [
       "<Figure size 432x288 with 1 Axes>"
      ]
     },
     "metadata": {},
     "output_type": "display_data"
    }
   ],
   "source": [
    "plt.boxplot(dados.ano_nascimento, vert = False, showfliers = False, notch = True,\n",
    "            patch_artist = True)\n",
    "plt.title('Alunos')\n",
    "plt.xlabel('Ano de Nascimento')"
   ]
  },
  {
   "cell_type": "code",
   "execution_count": 7,
   "metadata": {},
   "outputs": [
    {
     "data": {
      "text/plain": [
       "sexo\n",
       "F    98\n",
       "M    96\n",
       "dtype: int64"
      ]
     },
     "execution_count": 7,
     "metadata": {},
     "output_type": "execute_result"
    }
   ],
   "source": [
    "agru = dados.groupby(['sexo']).size()\n",
    "agru"
   ]
  },
  {
   "cell_type": "code",
   "execution_count": 8,
   "metadata": {},
   "outputs": [
    {
     "data": {
      "text/plain": [
       "<AxesSubplot:xlabel='sexo'>"
      ]
     },
     "execution_count": 8,
     "metadata": {},
     "output_type": "execute_result"
    },
    {
     "data": {
      "image/png": "[encoded data removed]",
      "text/plain": [
       "<Figure size 432x288 with 1 Axes>"
      ]
     },
     "metadata": {},
     "output_type": "display_data"
    }
   ],
   "source": [
    "agru.plot.bar(color = ['pink','cyan'])"
   ]
  },
  {
   "cell_type": "code",
   "execution_count": 9,
   "metadata": {},
   "outputs": [
    {
     "data": {
      "text/plain": [
       "raca\n",
       "Amarela            3\n",
       "Branca            24\n",
       "Negra             27\n",
       "Não declarada     38\n",
       "Parda            102\n",
       "dtype: int64"
      ]
     },
     "execution_count": 9,
     "metadata": {},
     "output_type": "execute_result"
    }
   ],
   "source": [
    "agru = dados.groupby(['raca']).size()\n",
    "agru"
   ]
  },
  {
   "cell_type": "code",
   "execution_count": 10,
   "metadata": {},
   "outputs": [
    {
     "data": {
      "text/plain": [
       "<AxesSubplot:ylabel='None'>"
      ]
     },
     "execution_count": 10,
     "metadata": {},
     "output_type": "execute_result"
    },
    {
     "data": {
      "image/png": "[encoded data removed]",
      "text/plain": [
       "<Figure size 432x288 with 1 Axes>"
      ]
     },
     "metadata": {},
     "output_type": "display_data"
    }
   ],
   "source": [
    "agru.plot.pie()"
   ]
  },
  {
   "cell_type": "code",
   "execution_count": 11,
   "metadata": {},
   "outputs": [
    {
     "data": {
      "text/plain": [
       "<AxesSubplot:ylabel='None'>"
      ]
     },
     "execution_count": 11,
     "metadata": {},
     "output_type": "execute_result"
    },
    {
     "data": {
      "image/png": "[encoded data removed]",
      "text/plain": [
       "<Figure size 432x288 with 1 Axes>"
      ]
     },
     "metadata": {},
     "output_type": "display_data"
    }
   ],
   "source": [
    "agru.plot.pie(legend = True)"
   ]
  },
  {
   "cell_type": "code",
   "execution_count": 12,
   "metadata": {},
   "outputs": [
    {
     "data": {
      "text/plain": [
       "<AxesSubplot:>"
      ]
     },
     "execution_count": 12,
     "metadata": {},
     "output_type": "execute_result"
    },
    {
     "data": {
      "image/png": "[encoded data removed]",
      "text/plain": [
       "<Figure size 432x288 with 1 Axes>"
      ]
     },
     "metadata": {},
     "output_type": "display_data"
    }
   ],
   "source": [
    "srn.boxplot(data=dados)"
   ]
  }
 ],
 "metadata": {
  "interpreter": {
   "hash": "6472c388de1e56fc3ac43c292f80bc31b4cb5c04a0aa35baa9005f87b8831804"
  },
  "kernelspec": {
   "display_name": "Python 3.9.12 ('venv': venv)",
   "language": "python",
   "name": "python3"
  },
  "language_info": {
   "codemirror_mode": {
    "name": "ipython",
    "version": 3
   },
   "file_extension": ".py",
   "mimetype": "text/x-python",
   "name": "python",
   "nbconvert_exporter": "python",
   "pygments_lexer": "ipython3",
   "version": "3.9.12"
  },
  "orig_nbformat": 4
 },
 "nbformat": 4,
 "nbformat_minor": 2
}
