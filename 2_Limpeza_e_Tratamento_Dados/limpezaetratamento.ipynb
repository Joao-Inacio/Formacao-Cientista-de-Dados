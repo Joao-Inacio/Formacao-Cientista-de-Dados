{
 "cells": [
  {
   "cell_type": "markdown",
   "id": "d94bea4c-4e04-4a6c-88e8-0620cca6d184",
   "metadata": {},
   "source": [
    " # **Formação Cientista de Dados**\n",
    "## Limpeza e tratamento de dados "
   ]
  },
  {
   "cell_type": "code",
   "execution_count": 1,
   "id": "e8ee5a5f-2570-4a50-a9e2-f355bc2f0396",
   "metadata": {},
   "outputs": [],
   "source": [
    "# Importação das Libs\n",
    "import pandas as pd \n",
    "import seaborn as srn \n",
    "import statistics as sts "
   ]
  },
  {
   "cell_type": "code",
   "execution_count": 2,
   "id": "a0d907f4-0697-456f-b7f6-7c2bf573b5cb",
   "metadata": {},
   "outputs": [
    {
     "data": {
      "text/html": [
       "<div>\n",
       "<style scoped>\n",
       "    .dataframe tbody tr th:only-of-type {\n",
       "        vertical-align: middle;\n",
       "    }\n",
       "\n",
       "    .dataframe tbody tr th {\n",
       "        vertical-align: top;\n",
       "    }\n",
       "\n",
       "    .dataframe thead th {\n",
       "        text-align: right;\n",
       "    }\n",
       "</style>\n",
       "<table border=\"1\" class=\"dataframe\">\n",
       "  <thead>\n",
       "    <tr style=\"text-align: right;\">\n",
       "      <th></th>\n",
       "      <th>X0</th>\n",
       "      <th>X1</th>\n",
       "      <th>X2</th>\n",
       "      <th>X3</th>\n",
       "      <th>X4</th>\n",
       "      <th>X4.1</th>\n",
       "      <th>X6</th>\n",
       "      <th>X7</th>\n",
       "      <th>X8</th>\n",
       "      <th>X9</th>\n",
       "      <th>X10</th>\n",
       "      <th>X11</th>\n",
       "    </tr>\n",
       "  </thead>\n",
       "  <tbody>\n",
       "    <tr>\n",
       "      <th>0</th>\n",
       "      <td>1</td>\n",
       "      <td>619</td>\n",
       "      <td>RS</td>\n",
       "      <td>Feminino</td>\n",
       "      <td>42</td>\n",
       "      <td>2</td>\n",
       "      <td>0</td>\n",
       "      <td>1</td>\n",
       "      <td>1</td>\n",
       "      <td>1</td>\n",
       "      <td>10134888.0</td>\n",
       "      <td>1</td>\n",
       "    </tr>\n",
       "    <tr>\n",
       "      <th>1</th>\n",
       "      <td>2</td>\n",
       "      <td>608</td>\n",
       "      <td>SC</td>\n",
       "      <td>Feminino</td>\n",
       "      <td>41</td>\n",
       "      <td>1</td>\n",
       "      <td>8380786</td>\n",
       "      <td>1</td>\n",
       "      <td>0</td>\n",
       "      <td>1</td>\n",
       "      <td>11254258.0</td>\n",
       "      <td>0</td>\n",
       "    </tr>\n",
       "    <tr>\n",
       "      <th>2</th>\n",
       "      <td>3</td>\n",
       "      <td>502</td>\n",
       "      <td>RS</td>\n",
       "      <td>Feminino</td>\n",
       "      <td>42</td>\n",
       "      <td>8</td>\n",
       "      <td>1596608</td>\n",
       "      <td>3</td>\n",
       "      <td>1</td>\n",
       "      <td>0</td>\n",
       "      <td>11393157.0</td>\n",
       "      <td>1</td>\n",
       "    </tr>\n",
       "    <tr>\n",
       "      <th>3</th>\n",
       "      <td>4</td>\n",
       "      <td>699</td>\n",
       "      <td>RS</td>\n",
       "      <td>Feminino</td>\n",
       "      <td>39</td>\n",
       "      <td>1</td>\n",
       "      <td>0</td>\n",
       "      <td>2</td>\n",
       "      <td>0</td>\n",
       "      <td>0</td>\n",
       "      <td>9382663.0</td>\n",
       "      <td>0</td>\n",
       "    </tr>\n",
       "    <tr>\n",
       "      <th>4</th>\n",
       "      <td>5</td>\n",
       "      <td>850</td>\n",
       "      <td>SC</td>\n",
       "      <td>Feminino</td>\n",
       "      <td>43</td>\n",
       "      <td>2</td>\n",
       "      <td>12551082</td>\n",
       "      <td>1</td>\n",
       "      <td>1</td>\n",
       "      <td>1</td>\n",
       "      <td>790841.0</td>\n",
       "      <td>0</td>\n",
       "    </tr>\n",
       "  </tbody>\n",
       "</table>\n",
       "</div>"
      ],
      "text/plain": [
       "   X0   X1  X2        X3  X4  X4.1        X6  X7  X8  X9         X10  X11\n",
       "0   1  619  RS  Feminino  42     2         0   1   1   1  10134888.0    1\n",
       "1   2  608  SC  Feminino  41     1   8380786   1   0   1  11254258.0    0\n",
       "2   3  502  RS  Feminino  42     8   1596608   3   1   0  11393157.0    1\n",
       "3   4  699  RS  Feminino  39     1         0   2   0   0   9382663.0    0\n",
       "4   5  850  SC  Feminino  43     2  12551082   1   1   1    790841.0    0"
      ]
     },
     "execution_count": 2,
     "metadata": {},
     "output_type": "execute_result"
    }
   ],
   "source": [
    "# importar dados \n",
    "dataset = pd.read_csv('Churn.csv', sep=';')\n",
    "# visualizar \n",
    "dataset.head()\n"
   ]
  },
  {
   "cell_type": "code",
   "execution_count": null,
   "id": "3a27ef15-8aed-4d57-9491-cdf9ce14c863",
   "metadata": {},
   "outputs": [],
   "source": [
    "# tamanho \n",
    "dataset.shape"
   ]
  },
  {
   "cell_type": "code",
   "execution_count": 3,
   "id": "ed4bfc2e-7649-4daf-ab02-dd3a4dbc8a3b",
   "metadata": {},
   "outputs": [],
   "source": [
    "# primeiro problema é dar nomes as colunas \n",
    "dataset.columns = [\n",
    "    'Id','Score','Estado','Genero','Idade','Patrimonio','Saldo','Produtos',\n",
    "    'TemCartCredito','Ativo','Salario','Saiu'\n",
    "]"
   ]
  },
  {
   "cell_type": "code",
   "execution_count": 4,
   "id": "679fb74f-c0bc-4bc7-8ca6-76b69f490038",
   "metadata": {},
   "outputs": [
    {
     "data": {
      "text/html": [
       "<div>\n",
       "<style scoped>\n",
       "    .dataframe tbody tr th:only-of-type {\n",
       "        vertical-align: middle;\n",
       "    }\n",
       "\n",
       "    .dataframe tbody tr th {\n",
       "        vertical-align: top;\n",
       "    }\n",
       "\n",
       "    .dataframe thead th {\n",
       "        text-align: right;\n",
       "    }\n",
       "</style>\n",
       "<table border=\"1\" class=\"dataframe\">\n",
       "  <thead>\n",
       "    <tr style=\"text-align: right;\">\n",
       "      <th></th>\n",
       "      <th>Id</th>\n",
       "      <th>Score</th>\n",
       "      <th>Estado</th>\n",
       "      <th>Genero</th>\n",
       "      <th>Idade</th>\n",
       "      <th>Patrimonio</th>\n",
       "      <th>Saldo</th>\n",
       "      <th>Produtos</th>\n",
       "      <th>TemCartCredito</th>\n",
       "      <th>Ativo</th>\n",
       "      <th>Salario</th>\n",
       "      <th>Saiu</th>\n",
       "    </tr>\n",
       "  </thead>\n",
       "  <tbody>\n",
       "    <tr>\n",
       "      <th>0</th>\n",
       "      <td>1</td>\n",
       "      <td>619</td>\n",
       "      <td>RS</td>\n",
       "      <td>Feminino</td>\n",
       "      <td>42</td>\n",
       "      <td>2</td>\n",
       "      <td>0</td>\n",
       "      <td>1</td>\n",
       "      <td>1</td>\n",
       "      <td>1</td>\n",
       "      <td>10134888.0</td>\n",
       "      <td>1</td>\n",
       "    </tr>\n",
       "    <tr>\n",
       "      <th>1</th>\n",
       "      <td>2</td>\n",
       "      <td>608</td>\n",
       "      <td>SC</td>\n",
       "      <td>Feminino</td>\n",
       "      <td>41</td>\n",
       "      <td>1</td>\n",
       "      <td>8380786</td>\n",
       "      <td>1</td>\n",
       "      <td>0</td>\n",
       "      <td>1</td>\n",
       "      <td>11254258.0</td>\n",
       "      <td>0</td>\n",
       "    </tr>\n",
       "    <tr>\n",
       "      <th>2</th>\n",
       "      <td>3</td>\n",
       "      <td>502</td>\n",
       "      <td>RS</td>\n",
       "      <td>Feminino</td>\n",
       "      <td>42</td>\n",
       "      <td>8</td>\n",
       "      <td>1596608</td>\n",
       "      <td>3</td>\n",
       "      <td>1</td>\n",
       "      <td>0</td>\n",
       "      <td>11393157.0</td>\n",
       "      <td>1</td>\n",
       "    </tr>\n",
       "    <tr>\n",
       "      <th>3</th>\n",
       "      <td>4</td>\n",
       "      <td>699</td>\n",
       "      <td>RS</td>\n",
       "      <td>Feminino</td>\n",
       "      <td>39</td>\n",
       "      <td>1</td>\n",
       "      <td>0</td>\n",
       "      <td>2</td>\n",
       "      <td>0</td>\n",
       "      <td>0</td>\n",
       "      <td>9382663.0</td>\n",
       "      <td>0</td>\n",
       "    </tr>\n",
       "    <tr>\n",
       "      <th>4</th>\n",
       "      <td>5</td>\n",
       "      <td>850</td>\n",
       "      <td>SC</td>\n",
       "      <td>Feminino</td>\n",
       "      <td>43</td>\n",
       "      <td>2</td>\n",
       "      <td>12551082</td>\n",
       "      <td>1</td>\n",
       "      <td>1</td>\n",
       "      <td>1</td>\n",
       "      <td>790841.0</td>\n",
       "      <td>0</td>\n",
       "    </tr>\n",
       "  </tbody>\n",
       "</table>\n",
       "</div>"
      ],
      "text/plain": [
       "   Id  Score Estado    Genero  Idade  Patrimonio     Saldo  Produtos  \\\n",
       "0   1    619     RS  Feminino     42           2         0         1   \n",
       "1   2    608     SC  Feminino     41           1   8380786         1   \n",
       "2   3    502     RS  Feminino     42           8   1596608         3   \n",
       "3   4    699     RS  Feminino     39           1         0         2   \n",
       "4   5    850     SC  Feminino     43           2  12551082         1   \n",
       "\n",
       "   TemCartCredito  Ativo     Salario  Saiu  \n",
       "0               1      1  10134888.0     1  \n",
       "1               0      1  11254258.0     0  \n",
       "2               1      0  11393157.0     1  \n",
       "3               0      0   9382663.0     0  \n",
       "4               1      1    790841.0     0  "
      ]
     },
     "execution_count": 4,
     "metadata": {},
     "output_type": "execute_result"
    }
   ],
   "source": [
    "# visualizar\n",
    "dataset.head()"
   ]
  },
  {
   "cell_type": "code",
   "execution_count": null,
   "id": "bc4f8e1f-5075-4594-a34d-918094cff50e",
   "metadata": {},
   "outputs": [],
   "source": [
    "# explorar dados categóricos\n",
    "# estado \n",
    "agrupado = dataset.groupby(['Estado']).size()\n",
    "agrupado"
   ]
  },
  {
   "cell_type": "code",
   "execution_count": null,
   "id": "52def8f8-2e4c-4e4d-a747-48040fca3b2c",
   "metadata": {},
   "outputs": [],
   "source": [
    "# Visualizando o Gráfico\n",
    "agrupado.plot.bar(color = 'green')"
   ]
  },
  {
   "cell_type": "code",
   "execution_count": null,
   "id": "e9aee3ef-a751-45d4-83e6-c63889a5683e",
   "metadata": {},
   "outputs": [],
   "source": [
    "# gênero \n",
    "agrupado =dataset.groupby(['Genero']).size()\n",
    "agrupado "
   ]
  },
  {
   "cell_type": "code",
   "execution_count": null,
   "id": "3ab71d14-af51-4c93-bfaa-ccf583da79b5",
   "metadata": {},
   "outputs": [],
   "source": [
    "# Visualizando o Gráfico de gênero\n",
    "agrupado.plot.bar(color = 'gray')"
   ]
  },
  {
   "cell_type": "code",
   "execution_count": null,
   "id": "cec4b793-00af-4d93-90c5-84f01a4f9b29",
   "metadata": {},
   "outputs": [],
   "source": [
    "# explorar colunas numéricas\n",
    "# score \n",
    "dataset['Score'].describe()"
   ]
  },
  {
   "cell_type": "code",
   "execution_count": null,
   "id": "93d9c3c5-9c23-4dac-9e17-1a7ac829ceff",
   "metadata": {},
   "outputs": [],
   "source": [
    "# Visualizando o Gráfico\n",
    "srn.boxplot(dataset['Score']).set_title('Score')"
   ]
  },
  {
   "cell_type": "code",
   "execution_count": null,
   "id": "8359e1ab-b83a-44ae-a58b-6d39306a431e",
   "metadata": {},
   "outputs": [],
   "source": [
    "# Visualizando o Gráfico\n",
    "srn.distplot(dataset['Score']).set_title('Score')"
   ]
  },
  {
   "cell_type": "code",
   "execution_count": null,
   "id": "90558cc0-e1b0-49b4-bfe1-fe7e803cbd88",
   "metadata": {},
   "outputs": [],
   "source": [
    "# idade \n",
    "dataset['Idade'].describe()"
   ]
  },
  {
   "cell_type": "code",
   "execution_count": null,
   "id": "e3cf98c9-bb75-4875-81e2-5a2bd2c0a670",
   "metadata": {},
   "outputs": [],
   "source": [
    "# Visualizando o Boxplot de Idade\n",
    "srn.boxplot(dataset['Idade']).set_title('Idade')"
   ]
  },
  {
   "cell_type": "code",
   "execution_count": null,
   "id": "be731838-5e8d-40cb-8eab-a659b1c4a736",
   "metadata": {},
   "outputs": [],
   "source": [
    "# Visualizando o Gráfico de dispersão\n",
    "srn.distplot(dataset['Idade']).set_title('Idade')"
   ]
  },
  {
   "cell_type": "code",
   "execution_count": null,
   "id": "594340e2-7658-40a3-ab1b-c265ba010679",
   "metadata": {},
   "outputs": [],
   "source": [
    "# Saldo \n",
    "dataset['Saldo'].describe()"
   ]
  },
  {
   "cell_type": "code",
   "execution_count": null,
   "id": "6089671f-8d7e-409a-8974-76e2e0391e95",
   "metadata": {},
   "outputs": [],
   "source": [
    "#  Visualizando o Boxplot de Saldo\n",
    "srn.boxplot(dataset['Saldo']).set_title('Saldo')"
   ]
  },
  {
   "cell_type": "code",
   "execution_count": null,
   "id": "938b3f06-f7a1-4ca4-9487-536e9533eb92",
   "metadata": {},
   "outputs": [],
   "source": [
    "# Visualizando o Gráfico de dispersão\n",
    "srn.distplot(dataset['Saldo']).set_title('Saldo')"
   ]
  },
  {
   "cell_type": "code",
   "execution_count": null,
   "id": "f45e62c6-369f-4645-aee0-e566fd722b44",
   "metadata": {},
   "outputs": [],
   "source": [
    "# Salario \n",
    "dataset['Salario'].describe()"
   ]
  },
  {
   "cell_type": "code",
   "execution_count": null,
   "id": "2736100a-036c-4c1a-993f-2253b807f964",
   "metadata": {},
   "outputs": [],
   "source": [
    "# Visualizando o Boxplot de Salario\n",
    "srn.boxplot(dataset['Salario']).set_title('Salarioa')"
   ]
  },
  {
   "cell_type": "code",
   "execution_count": null,
   "id": "ced8cf86-9cf4-4123-8f1e-aa20d05eae45",
   "metadata": {},
   "outputs": [],
   "source": [
    "# Visualizando o Gráfico de dispersão\n",
    "srn.distplot(dataset['Salario']).set_title('Salario')"
   ]
  },
  {
   "cell_type": "code",
   "execution_count": null,
   "id": "029f3fbd-222e-4f22-bf74-4e1434df5855",
   "metadata": {},
   "outputs": [],
   "source": [
    "# Contamos valores NAN \n",
    "# Genero e Salário \n",
    "dataset.isnull().sum()"
   ]
  },
  {
   "cell_type": "code",
   "execution_count": null,
   "id": "c9541dfe-f5f0-4777-b5c5-61894c2d94f8",
   "metadata": {},
   "outputs": [],
   "source": [
    "# salario \n",
    "# removendo NAs e substituir pela mediana\n",
    "dataset['Salario'].describe()"
   ]
  },
  {
   "cell_type": "code",
   "execution_count": null,
   "id": "b6b4563f-3f70-41c6-92a9-9f0d3f84da86",
   "metadata": {},
   "outputs": [],
   "source": [
    "# Calculando a mediana\n",
    "mediana = sts.median(dataset['Salario'])\n",
    "mediana "
   ]
  },
  {
   "cell_type": "code",
   "execution_count": null,
   "id": "65a60d11-5faf-49f3-9971-ae901b5dcd85",
   "metadata": {},
   "outputs": [],
   "source": [
    "#substituir NAN por mediana\n",
    "dataset['Salario'].fillna(mediana, inplace=True)"
   ]
  },
  {
   "cell_type": "code",
   "execution_count": null,
   "id": "1bc3200d",
   "metadata": {},
   "outputs": [],
   "source": [
    "# Verificamos se NAN não existem mais \n",
    "dataset['Salario'].isnull().sum()"
   ]
  },
  {
   "cell_type": "code",
   "execution_count": null,
   "id": "8aaff195",
   "metadata": {},
   "outputs": [],
   "source": [
    "# genero, falta de padronização e NAs\n",
    "agrupado = dataset.groupby(['Genero']).size()\n",
    "agrupado"
   ]
  },
  {
   "cell_type": "code",
   "execution_count": null,
   "id": "ff9c4817",
   "metadata": {},
   "outputs": [],
   "source": [
    "# total de NAs\n",
    "dataset['Genero'].isnull().sum()"
   ]
  },
  {
   "cell_type": "code",
   "execution_count": null,
   "id": "4bb61aa0",
   "metadata": {},
   "outputs": [],
   "source": [
    "# preenche NAs com Masculino (Moda)\n",
    "dataset['Genero'].fillna('Masculino', inplace=True)"
   ]
  },
  {
   "cell_type": "code",
   "execution_count": null,
   "id": "6ff8eab5",
   "metadata": {},
   "outputs": [],
   "source": [
    "# verificamos novamente NAs\n",
    "dataset['Genero'].isnull().sum()"
   ]
  },
  {
   "cell_type": "code",
   "execution_count": null,
   "id": "f6f131eb",
   "metadata": {},
   "outputs": [],
   "source": [
    "# Padroniza de acordo com o domínio \n",
    "dataset.loc[dataset['Genero'] == 'M', 'Genero'] = 'Masculino'\n",
    "dataset.loc[dataset['Genero'].isin(['Fem','F']), 'Genero'] = 'Feminino'\n",
    "# Visualizar o resultado\n",
    "agrupado = dataset.groupby(['Genero']).size()\n",
    "agrupado"
   ]
  },
  {
   "cell_type": "code",
   "execution_count": null,
   "id": "7000920b",
   "metadata": {},
   "outputs": [],
   "source": [
    "# Idade fora do domínio\n",
    "dataset['Idade'].describe()"
   ]
  },
  {
   "cell_type": "code",
   "execution_count": null,
   "id": "47dc696e",
   "metadata": {},
   "outputs": [],
   "source": [
    "# Visualizar\n",
    "dataset.loc[(dataset['Idade'] < 0) | (dataset['Idade'] > 120)]"
   ]
  },
  {
   "cell_type": "code",
   "execution_count": null,
   "id": "9e94b9b2",
   "metadata": {},
   "outputs": [],
   "source": [
    "# Calcular a mediana \n",
    "mediana = sts.median(dataset['Idade'])  \n",
    "mediana"
   ]
  },
  {
   "cell_type": "code",
   "execution_count": null,
   "id": "dbfd9c3d",
   "metadata": {},
   "outputs": [],
   "source": [
    "# substituir\n",
    "dataset.loc[(dataset['Idade'] < 0) | (dataset['Idade'] > 120), 'Idade'] = mediana"
   ]
  },
  {
   "cell_type": "code",
   "execution_count": null,
   "id": "23e9dd99",
   "metadata": {},
   "outputs": [],
   "source": [
    "# verificamos se ainda existem idade fora do domínio\n",
    "dataset.loc[(dataset['Idade'] < 0) | (dataset['Idade'] > 120)]"
   ]
  },
  {
   "cell_type": "code",
   "execution_count": null,
   "id": "89cdcda1",
   "metadata": {},
   "outputs": [],
   "source": [
    "# dados duplicados, buscamos pelo ID\n",
    "dataset[dataset.duplicated(['Id'],keep=False)]"
   ]
  },
  {
   "cell_type": "code",
   "execution_count": null,
   "id": "dd7de813",
   "metadata": {},
   "outputs": [],
   "source": [
    "# Excluído pelo Id \n",
    "dataset.drop_duplicates(subset='Id', keep='first', inplace=True)\n",
    "#buscamos duplicados\n",
    "dataset[dataset.duplicated(['Id'],keep=False)]"
   ]
  },
  {
   "cell_type": "code",
   "execution_count": null,
   "id": "2d041a2e",
   "metadata": {},
   "outputs": [],
   "source": [
    "# estado foram do domínio\n",
    "agrupado = dataset.groupby(['Estado']).size()\n",
    "agrupado"
   ]
  },
  {
   "cell_type": "code",
   "execution_count": null,
   "id": "7218b33e",
   "metadata": {},
   "outputs": [],
   "source": [
    "# atribuímos RS (moda)\n",
    "dataset.loc[dataset['Estado'].isin(['RP','SP','TD']), 'Estado'] = 'RS'\n",
    "agrupado = dataset.groupby(['Estado']).size()"
   ]
  },
  {
   "cell_type": "code",
   "execution_count": null,
   "id": "4927d025",
   "metadata": {},
   "outputs": [],
   "source": [
    "# verificamos o resultado\n",
    "agrupado"
   ]
  },
  {
   "cell_type": "code",
   "execution_count": null,
   "id": "d789ec95",
   "metadata": {},
   "outputs": [],
   "source": [
    "# outliers em salario, vamos considerar 2 desvios padrão\n",
    "desv = sts.stdev(dataset['Salario'])\n",
    "desv"
   ]
  },
  {
   "cell_type": "code",
   "execution_count": null,
   "id": "109c3207",
   "metadata": {},
   "outputs": [],
   "source": [
    "# definir padrão como maior que 2 desvios padrão\n",
    "# checamos se algum atende critério\n",
    "dataset.loc[dataset['Salario'] >= 2 * desv]"
   ]
  },
  {
   "cell_type": "code",
   "execution_count": null,
   "id": "2af7df2d",
   "metadata": {},
   "outputs": [],
   "source": [
    "# vamos atualizar salários para mediana, calculamos \n",
    "mediana = sts.median(dataset['Salario'])\n",
    "mediana"
   ]
  },
  {
   "cell_type": "code",
   "execution_count": null,
   "id": "0f35537a",
   "metadata": {},
   "outputs": [],
   "source": [
    "# atribuímos\n",
    "dataset.loc[dataset['Salario'] >= 2 * desv, 'Salario'] = mediana\n",
    "# checamos se algum atende critério\n",
    "dataset.loc[dataset['Salario'] >= 2 * desv]"
   ]
  },
  {
   "cell_type": "code",
   "execution_count": null,
   "id": "7df2ba41",
   "metadata": {},
   "outputs": [],
   "source": [
    "# Visualizando o DataSet\n",
    "dataset.head()"
   ]
  },
  {
   "cell_type": "code",
   "execution_count": null,
   "id": "24a498dd",
   "metadata": {},
   "outputs": [],
   "source": [
    "# Verificamos o tamanho\n",
    "dataset.shape"
   ]
  }
 ],
 "metadata": {
  "kernelspec": {
   "display_name": "Python 3.9.12 ('venv': venv)",
   "language": "python",
   "name": "python3"
  },
  "language_info": {
   "codemirror_mode": {
    "name": "ipython",
    "version": 3
   },
   "file_extension": ".py",
   "mimetype": "text/x-python",
   "name": "python",
   "nbconvert_exporter": "python",
   "pygments_lexer": "ipython3",
   "version": "3.11.7"
  },
  "vscode": {
   "interpreter": {
    "hash": "fea19b5a4fed20f0abd4b41fa1930df0fe4b8c94eabf60df86233fb8f94f9656"
   }
  }
 },
 "nbformat": 4,
 "nbformat_minor": 5
}
