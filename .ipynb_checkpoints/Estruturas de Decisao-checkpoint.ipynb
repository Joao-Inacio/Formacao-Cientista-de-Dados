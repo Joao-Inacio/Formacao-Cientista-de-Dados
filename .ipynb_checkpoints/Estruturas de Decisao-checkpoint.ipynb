{
 "cells": [
  {
   "cell_type": "markdown",
   "id": "dabeb67e-7426-4e29-9e9d-b8bdce9b37ff",
   "metadata": {},
   "source": [
    "# Formação Cientista  de Dados\n",
    "## Estruturas de Decisão"
   ]
  },
  {
   "cell_type": "code",
   "execution_count": 1,
   "id": "5204104e-837e-43bb-951c-f3e44697c5ab",
   "metadata": {},
   "outputs": [
    {
     "name": "stdout",
     "output_type": "stream",
     "text": [
      "Aprovado\n",
      "Parabéns\n"
     ]
    }
   ],
   "source": [
    "nota = 7\n",
    "if nota >= 7:\n",
    "    print(\"Aprovado\")\n",
    "    print(\"Parabéns\")\n",
    "else:\n",
    "    print(\"Reprovado\")"
   ]
  },
  {
   "cell_type": "code",
   "execution_count": 2,
   "id": "ea21ea64-d051-4026-b0e0-928a8463d15d",
   "metadata": {},
   "outputs": [
    {
     "name": "stdout",
     "output_type": "stream",
     "text": [
      "Reprovado\n"
     ]
    }
   ],
   "source": [
    "# só mudar o valor da variável \n",
    "nota = 5\n",
    "if nota >= 7:\n",
    "    print(\"Aprovado\")\n",
    "    print(\"Parabéns\")\n",
    "else:\n",
    "    print(\"Reprovado\")"
   ]
  },
  {
   "cell_type": "code",
   "execution_count": 6,
   "id": "100d2c6e-7fff-4adb-8036-04bf5a9b2075",
   "metadata": {},
   "outputs": [
    {
     "name": "stdout",
     "output_type": "stream",
     "text": [
      "Reprovado\n"
     ]
    }
   ],
   "source": [
    "# teste com 4, 5 e 7\n",
    "nota = 3\n",
    "if nota <= 4:\n",
    "    print(\"Reprovado\")\n",
    "elif nota > 4 and nota <= 6:\n",
    "    print(\"Exame\")\n",
    "else:\n",
    "    print('Aprovado')"
   ]
  }
 ],
 "metadata": {
  "kernelspec": {
   "display_name": "Python 3 (ipykernel)",
   "language": "python",
   "name": "python3"
  },
  "language_info": {
   "codemirror_mode": {
    "name": "ipython",
    "version": 3
   },
   "file_extension": ".py",
   "mimetype": "text/x-python",
   "name": "python",
   "nbconvert_exporter": "python",
   "pygments_lexer": "ipython3",
   "version": "3.9.7"
  }
 },
 "nbformat": 4,
 "nbformat_minor": 5
}
