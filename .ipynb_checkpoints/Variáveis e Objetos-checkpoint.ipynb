{
 "cells": [
  {
   "cell_type": "markdown",
   "id": "19841a33",
   "metadata": {},
   "source": [
    "# Formação Cientista de Dados"
   ]
  },
  {
   "cell_type": "markdown",
   "id": "7b627727",
   "metadata": {},
   "source": [
    "### Variáveis e Objetos"
   ]
  },
  {
   "cell_type": "code",
   "execution_count": 2,
   "id": "9c4c2b77",
   "metadata": {},
   "outputs": [
    {
     "name": "stdout",
     "output_type": "stream",
     "text": [
      "1\n",
      "3.13\n",
      "Python\n",
      "True False\n"
     ]
    }
   ],
   "source": [
    "# criar variáveis do tipo inteiro \n",
    "x = 1\n",
    "print(x)\n",
    "# Tipo float\n",
    "y = 3.13\n",
    "print(y)\n",
    "# str\n",
    "s = \"Python\"\n",
    "s = 'Python'\n",
    "print(s)\n",
    "#Lógica\n",
    "t = True\n",
    "f = False\n",
    "print(t, f)"
   ]
  },
  {
   "cell_type": "code",
   "execution_count": 3,
   "id": "e4412b0e",
   "metadata": {},
   "outputs": [
    {
     "name": "stdout",
     "output_type": "stream",
     "text": [
      "30.0\n"
     ]
    }
   ],
   "source": [
    "# Calculadora\n",
    "x = 10\n",
    "y = 20\n",
    "z = 100\n",
    "w = (x + y) * z / 100\n",
    "print(w)"
   ]
  },
  {
   "cell_type": "code",
   "execution_count": 4,
   "id": "f18028ed",
   "metadata": {},
   "outputs": [
    {
     "name": "stdout",
     "output_type": "stream",
     "text": [
      "Estou no console\n"
     ]
    }
   ],
   "source": [
    "# texto no console\n",
    "print('Estou no console')"
   ]
  },
  {
   "cell_type": "code",
   "execution_count": 5,
   "id": "5333ca51",
   "metadata": {},
   "outputs": [
    {
     "name": "stdout",
     "output_type": "stream",
     "text": [
      "<class 'int'>\n",
      "<class 'int'>\n"
     ]
    }
   ],
   "source": [
    "# verificar tipo\n",
    "print(type(x))\n",
    "print(type(y))"
   ]
  },
  {
   "cell_type": "code",
   "execution_count": 6,
   "id": "b8096449",
   "metadata": {},
   "outputs": [
    {
     "name": "stdout",
     "output_type": "stream",
     "text": [
      "Informe o valor\n",
      "15\n",
      "<class 'str'>\n"
     ]
    }
   ],
   "source": [
    "# entrada de dados\n",
    "print('Informe o valor')\n",
    "i = input()\n",
    "print(type(i))"
   ]
  },
  {
   "cell_type": "code",
   "execution_count": null,
   "id": "751e175f",
   "metadata": {},
   "outputs": [],
   "source": [
    "# entrada de valor com msg separada e junto\n",
    "print(\"Informe o valor\")\n",
    "i = input()\n",
    "# ou \n",
    "i = input('Informe o valor: ')"
   ]
  },
  {
   "cell_type": "code",
   "execution_count": null,
   "id": "a8f6a866",
   "metadata": {},
   "outputs": [],
   "source": [
    "# conversão de valores\n",
    "# para inteiro\n",
    "var = input('Informe o valor: ')\n",
    "print(type(var))\n",
    "var = int(var)\n",
    "print(type(var))"
   ]
  },
  {
   "cell_type": "code",
   "execution_count": null,
   "id": "2838c2fd",
   "metadata": {},
   "outputs": [],
   "source": [
    "# para float\n",
    "var = input('Informe o valor: ')\n",
    "print(type(var))\n",
    "var = float(var)\n",
    "print(type(var))"
   ]
  },
  {
   "cell_type": "code",
   "execution_count": null,
   "id": "7decbce6",
   "metadata": {},
   "outputs": [],
   "source": [
    "x = 10 #comentário a partir daqui"
   ]
  }
 ],
 "metadata": {
  "kernelspec": {
   "display_name": "Python 3 (ipykernel)",
   "language": "python",
   "name": "python3"
  },
  "language_info": {
   "codemirror_mode": {
    "name": "ipython",
    "version": 3
   },
   "file_extension": ".py",
   "mimetype": "text/x-python",
   "name": "python",
   "nbconvert_exporter": "python",
   "pygments_lexer": "ipython3",
   "version": "3.9.7"
  }
 },
 "nbformat": 4,
 "nbformat_minor": 5
}
