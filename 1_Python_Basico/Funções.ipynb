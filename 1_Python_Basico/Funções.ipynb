{
 "cells": [
  {
   "cell_type": "markdown",
   "id": "4945d7bd-6129-43f0-ba5f-4770645e3fe6",
   "metadata": {},
   "source": [
    "# Ciência de Dados \n",
    "## Funções "
   ]
  },
  {
   "cell_type": "code",
   "execution_count": 1,
   "id": "d40f3753-89ba-4de7-ae14-4dfe16db1f87",
   "metadata": {},
   "outputs": [
    {
     "name": "stdout",
     "output_type": "stream",
     "text": [
      "esta é uma função\n"
     ]
    }
   ],
   "source": [
    "def imprime():\n",
    "    print('esta é uma função')\n",
    "\n",
    "imprime()"
   ]
  },
  {
   "cell_type": "code",
   "execution_count": 2,
   "id": "c85866ac-1cc4-4e52-883b-d6ce07f035bb",
   "metadata": {},
   "outputs": [
    {
     "name": "stdout",
     "output_type": "stream",
     "text": [
      "Impressão deste texto\n"
     ]
    }
   ],
   "source": [
    "# com parametro \n",
    "def imprime(n):\n",
    "    print(n)\n",
    "\n",
    "imprime('Impressão deste texto')"
   ]
  },
  {
   "cell_type": "code",
   "execution_count": 3,
   "id": "035b4562-19d6-4a28-bcbb-62a904ef6662",
   "metadata": {},
   "outputs": [
    {
     "name": "stdout",
     "output_type": "stream",
     "text": [
      "9\n"
     ]
    }
   ],
   "source": [
    "# com retorno \n",
    "def potencia(n):\n",
    "    return n * n \n",
    "\n",
    "x = potencia(3)\n",
    "print(x)"
   ]
  },
  {
   "cell_type": "code",
   "execution_count": 5,
   "id": "fe38e105-2d7b-4546-8612-3e690ac6c091",
   "metadata": {},
   "outputs": [
    {
     "name": "stdout",
     "output_type": "stream",
     "text": [
      "1\n",
      "2\n",
      "3\n",
      "4\n",
      "5\n",
      "6\n",
      "7\n",
      "8\n",
      "9\n",
      "10\n",
      "1\n",
      "2\n",
      "3\n",
      "4\n",
      "5\n",
      "6\n",
      "7\n",
      "8\n",
      "9\n",
      "10\n"
     ]
    }
   ],
   "source": [
    "# com valor default  \n",
    "def intervalo(inic=1,fim=10):\n",
    "    for n in range(inic, fim+1):\n",
    "        print(n)\n",
    "\n",
    "x = intervalo(1, 10)\n",
    "y = intervalo() "
   ]
  }
 ],
 "metadata": {
  "kernelspec": {
   "display_name": "Python 3 (ipykernel)",
   "language": "python",
   "name": "python3"
  },
  "language_info": {
   "codemirror_mode": {
    "name": "ipython",
    "version": 3
   },
   "file_extension": ".py",
   "mimetype": "text/x-python",
   "name": "python",
   "nbconvert_exporter": "python",
   "pygments_lexer": "ipython3",
   "version": "3.9.7"
  }
 },
 "nbformat": 4,
 "nbformat_minor": 5
}
