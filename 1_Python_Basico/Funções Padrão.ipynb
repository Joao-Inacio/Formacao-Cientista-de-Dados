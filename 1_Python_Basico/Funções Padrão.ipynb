{
 "cells": [
  {
   "cell_type": "markdown",
   "id": "db48064d-4025-4622-889c-dd601e04b841",
   "metadata": {},
   "source": [
    "# Formação Cientistas de Dados\n",
    "## Funções Padrão"
   ]
  },
  {
   "cell_type": "code",
   "execution_count": 1,
   "id": "46e48089-ff4e-4354-a8dc-f89378278a9d",
   "metadata": {},
   "outputs": [
    {
     "name": "stdout",
     "output_type": "stream",
     "text": [
      "200\n",
      "Maior valor: 45\n",
      "Menor valor: 1\n",
      "Soma: 108\n",
      "Arredondamento: 2.35\n"
     ]
    }
   ],
   "source": [
    "# funções internas \n",
    "print(abs(-200))\n",
    "lst = [1,2,30,30,45]\n",
    "print(f'Maior valor: {max(lst)}') \n",
    "print(f'Menor valor: {min(lst)}')\n",
    "print(f'Soma: {sum(lst)}') \n",
    "print(f'Arredondamento: {round(2.34567,2)}')"
   ]
  },
  {
   "cell_type": "code",
   "execution_count": 2,
   "id": "ce7dd4d8-8f05-46bb-93d1-44686c442b7e",
   "metadata": {},
   "outputs": [
    {
     "name": "stdout",
     "output_type": "stream",
     "text": [
      "Média: 21.6\n",
      "Mediana: 30\n",
      "Moda: 30\n"
     ]
    }
   ],
   "source": [
    "# statistico \n",
    "from statistics import * \n",
    "print(f'Média: {mean(lst)}') \n",
    "print(f'Mediana: {median(lst)}') \n",
    "print(f'Moda: {mode(lst)}')"
   ]
  },
  {
   "cell_type": "code",
   "execution_count": 3,
   "id": "fd704ec3-cb04-4a8e-8ddb-9d38a6bf8c81",
   "metadata": {},
   "outputs": [
    {
     "name": "stdout",
     "output_type": "stream",
     "text": [
      "Desvio padrão: 19.346834366376324\n"
     ]
    }
   ],
   "source": [
    "# desvio padrão da amostra \n",
    "print(f'Desvio padrão: {stdev(lst)}')"
   ]
  },
  {
   "cell_type": "code",
   "execution_count": 4,
   "id": "52884f6e-cb12-4f2d-8c6a-fee8144a3417",
   "metadata": {},
   "outputs": [
    {
     "name": "stdout",
     "output_type": "stream",
     "text": [
      "Variância: 374.3\n"
     ]
    }
   ],
   "source": [
    "# variancia da amostra \n",
    "print(f'Variância: {variance(lst)}')"
   ]
  },
  {
   "cell_type": "code",
   "execution_count": 5,
   "id": "a4a98045-e4c2-4643-91fc-8e964dba3e00",
   "metadata": {},
   "outputs": [
    {
     "name": "stdout",
     "output_type": "stream",
     "text": [
      "<class 'numpy.ndarray'>\n",
      "[[0.49749411 0.15292641 0.48785841 0.94894028 0.64340064 0.75881441\n",
      "  0.00310406 0.83128349]\n",
      " [0.96940922 0.3940811  0.45438506 0.97288518 0.33423296 0.34100226\n",
      "  0.9334722  0.25202595]\n",
      " [0.14803311 0.08567676 0.87262366 0.55524457 0.63326694 0.82927757\n",
      "  0.73447857 0.76953077]\n",
      " [0.29258791 0.135911   0.79299445 0.62996953 0.70854392 0.19479601\n",
      "  0.85003723 0.16497549]\n",
      " [0.62712131 0.1101957  0.52219386 0.04546037 0.69227132 0.78243626\n",
      "  0.71724169 0.2951893 ]\n",
      " [0.06862517 0.95074261 0.91147685 0.52721222 0.63995295 0.87663627\n",
      "  0.70165821 0.16004711]\n",
      " [0.43474044 0.59072453 0.23119233 0.53471037 0.6728432  0.49982909\n",
      "  0.27086471 0.21930058]\n",
      " [0.99277033 0.50171121 0.28944119 0.83951566 0.75955872 0.51881545\n",
      "  0.08026797 0.61007231]]\n"
     ]
    }
   ],
   "source": [
    "from numpy import * \n",
    "a = random.random((8,8))\n",
    "print(type(a))\n",
    "print(a)"
   ]
  }
 ],
 "metadata": {
  "kernelspec": {
   "display_name": "Python 3 (ipykernel)",
   "language": "python",
   "name": "python3"
  },
  "language_info": {
   "codemirror_mode": {
    "name": "ipython",
    "version": 3
   },
   "file_extension": ".py",
   "mimetype": "text/x-python",
   "name": "python",
   "nbconvert_exporter": "python",
   "pygments_lexer": "ipython3",
   "version": "3.11.7"
  }
 },
 "nbformat": 4,
 "nbformat_minor": 5
}
