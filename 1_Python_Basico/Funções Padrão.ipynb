{
 "cells": [
  {
   "cell_type": "markdown",
   "id": "db48064d-4025-4622-889c-dd601e04b841",
   "metadata": {},
   "source": [
    "# Formação Cientistas de Dados\n",
    "## Funções Padrão"
   ]
  },
  {
   "cell_type": "code",
   "execution_count": 5,
   "id": "46e48089-ff4e-4354-a8dc-f89378278a9d",
   "metadata": {},
   "outputs": [
    {
     "name": "stdout",
     "output_type": "stream",
     "text": [
      "200\n",
      "Maior valor: 45\n",
      "Menor valor: 1\n",
      "Soma: 108\n",
      "Arredondamento: 2.35\n"
     ]
    }
   ],
   "source": [
    "# funções internas \n",
    "print(abs(-200))\n",
    "lst = [1,2,30,30,45]\n",
    "print(f'Maior valor: {max(lst)}') \n",
    "print(f'Menor valor: {min(lst)}')\n",
    "print(f'Soma: {sum(lst)}') \n",
    "print(f'Arredondamento: {round(2.34567,2)}')"
   ]
  },
  {
   "cell_type": "code",
   "execution_count": 6,
   "id": "ce7dd4d8-8f05-46bb-93d1-44686c442b7e",
   "metadata": {},
   "outputs": [
    {
     "name": "stdout",
     "output_type": "stream",
     "text": [
      "Média: 21.6\n",
      "Mediana: 30\n",
      "Moda: 30\n"
     ]
    }
   ],
   "source": [
    "# statistico \n",
    "from statistics import * \n",
    "print(f'Média: {mean(lst)}') \n",
    "print(f'Mediana: {median(lst)}') \n",
    "print(f'Moda: {mode(lst)}')"
   ]
  },
  {
   "cell_type": "code",
   "execution_count": 7,
   "id": "fd704ec3-cb04-4a8e-8ddb-9d38a6bf8c81",
   "metadata": {},
   "outputs": [
    {
     "name": "stdout",
     "output_type": "stream",
     "text": [
      "Desvio padrão: 19.346834366376324\n"
     ]
    }
   ],
   "source": [
    "# desvio padrão da amostra \n",
    "print(f'Desvio padrão: {stdev(lst)}')"
   ]
  },
  {
   "cell_type": "code",
   "execution_count": 8,
   "id": "52884f6e-cb12-4f2d-8c6a-fee8144a3417",
   "metadata": {},
   "outputs": [
    {
     "name": "stdout",
     "output_type": "stream",
     "text": [
      "Variância: 374.3\n"
     ]
    }
   ],
   "source": [
    "# variancia da amostra \n",
    "print(f'Variância: {variance(lst)}')"
   ]
  },
  {
   "cell_type": "code",
   "execution_count": 9,
   "id": "a4a98045-e4c2-4643-91fc-8e964dba3e00",
   "metadata": {},
   "outputs": [
    {
     "name": "stdout",
     "output_type": "stream",
     "text": [
      "<class 'numpy.ndarray'>\n",
      "[[0.67251711 0.94664083 0.52976921 0.64661232 0.07223154 0.97846459\n",
      "  0.76419766 0.17567791]\n",
      " [0.76706938 0.73777558 0.06943144 0.20075144 0.56151419 0.03345432\n",
      "  0.87005542 0.23983203]\n",
      " [0.49565995 0.59977177 0.83831652 0.04053013 0.10627363 0.60550092\n",
      "  0.19047745 0.97920675]\n",
      " [0.98533713 0.90907826 0.09207215 0.17776192 0.43335412 0.8713083\n",
      "  0.31953099 0.70137463]\n",
      " [0.44906691 0.03798916 0.67123295 0.9631592  0.51144299 0.95958087\n",
      "  0.07527444 0.9622295 ]\n",
      " [0.55038663 0.20499651 0.26261452 0.4272724  0.52986236 0.8817683\n",
      "  0.62535769 0.41574119]\n",
      " [0.55235701 0.67325222 0.03489922 0.77083625 0.926825   0.78284262\n",
      "  0.63383434 0.46488845]\n",
      " [0.039791   0.81525121 0.8911649  0.75726341 0.8477617  0.21613453\n",
      "  0.16995309 0.86117677]]\n"
     ]
    }
   ],
   "source": [
    "from numpy import * \n",
    "a = random.random((8,8))\n",
    "print(type(a))\n",
    "print(a)"
   ]
  }
 ],
 "metadata": {
  "kernelspec": {
   "display_name": "Python 3 (ipykernel)",
   "language": "python",
   "name": "python3"
  },
  "language_info": {
   "codemirror_mode": {
    "name": "ipython",
    "version": 3
   },
   "file_extension": ".py",
   "mimetype": "text/x-python",
   "name": "python",
   "nbconvert_exporter": "python",
   "pygments_lexer": "ipython3",
   "version": "3.9.7"
  }
 },
 "nbformat": 4,
 "nbformat_minor": 5
}
