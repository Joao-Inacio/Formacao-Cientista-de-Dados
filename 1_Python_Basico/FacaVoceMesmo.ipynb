{
 "cells": [
  {
   "cell_type": "markdown",
   "id": "21c66f93-be32-40f4-895c-be290871c14a",
   "metadata": {},
   "source": [
    "# Formação Cientista De Dados\n",
    "## Desafio faça você mesmo"
   ]
  },
  {
   "cell_type": "markdown",
   "id": "8bf082fd",
   "metadata": {},
   "source": [
    "## Importação"
   ]
  },
  {
   "cell_type": "code",
   "execution_count": 1,
   "id": "009ced69-4f5c-4ee8-826a-242477fb9399",
   "metadata": {},
   "outputs": [],
   "source": [
    "import numpy"
   ]
  },
  {
   "cell_type": "markdown",
   "id": "b06dc4f2-b234-40d0-9cf4-7a6f0f05e415",
   "metadata": {},
   "source": [
    "### 1 \n",
    "Faça um programa que tenha uma função chamada amplitude. A função deve receber uma lista e \n",
    "imprimir a amplitude.\n",
    "Crie também um código para testar sua função"
   ]
  },
  {
   "cell_type": "code",
   "execution_count": 2,
   "id": "cbee3901-13e9-4fdd-8ebe-045ea1a7e94c",
   "metadata": {},
   "outputs": [
    {
     "name": "stdout",
     "output_type": "stream",
     "text": [
      "Amplitude: 98\n"
     ]
    }
   ],
   "source": [
    "def amplitude(lst):\n",
    "    print(\"Amplitude:\", max(lst) - min(lst))\n",
    "\n",
    "lis = [12,23,45,2,100]\n",
    "amplitude(lis)\n",
    "    "
   ]
  },
  {
   "cell_type": "markdown",
   "id": "a36a5771-b73e-4c76-92b3-1487d15803f0",
   "metadata": {},
   "source": [
    "### 2\n",
    ". Faça uma função que receba uma string e imprima esta string na forma vertical\n",
    "Por exemplo, se receber python, deve imprimir\n",
    "p\n",
    "y\n",
    "t\n",
    "h\n",
    "o\n",
    "n\n",
    "Dica: uma string do python funciona como uma lista!\n",
    "Crie também um código para testar sua função"
   ]
  },
  {
   "cell_type": "code",
   "execution_count": 3,
   "id": "70a617dd-4579-4867-9c92-2a5763d28ec9",
   "metadata": {},
   "outputs": [
    {
     "name": "stdout",
     "output_type": "stream",
     "text": [
      "C\n",
      "i\n",
      "e\n",
      "n\n",
      "t\n",
      "i\n",
      "s\n",
      "t\n",
      "a\n"
     ]
    }
   ],
   "source": [
    "def str_por_esteco(strs):\n",
    "    for i in strs:\n",
    "        print(i) \n",
    "        \n",
    "str_por_esteco('Cientista')"
   ]
  },
  {
   "cell_type": "markdown",
   "id": "c15fe5cd-a2a9-41f7-ae99-2d727f82e97c",
   "metadata": {
    "jp-MarkdownHeadingCollapsed": true,
    "tags": []
   },
   "source": [
    "### 3\n",
    "Crie um programa que leia o peso de uma carga em números inteiros. Se o peso for até 10 kg, informe \n",
    "que o valor será de R$ 50,00. Entre 11 e 20 kg, informe que o valor será de R$ 80. Se for maior que 20 \n",
    "informe que o transporte não é aceito. Teste vários pesos"
   ]
  },
  {
   "cell_type": "code",
   "execution_count": 4,
   "id": "e344d927-7e3c-4bcd-af60-903797ea0716",
   "metadata": {},
   "outputs": [
    {
     "name": "stdout",
     "output_type": "stream",
     "text": [
      "O valor será de R$ 50,00\n"
     ]
    }
   ],
   "source": [
    "peso = int(input())\n",
    "if peso <= 10:\n",
    "    print('O valor será de R$ 50,00')\n",
    "elif peso >= 11 and peso <= 20:\n",
    "    print('O peso sera de R$80')\n",
    "else:\n",
    "    print('O transporte não é aceito')"
   ]
  }
 ],
 "metadata": {
  "kernelspec": {
   "display_name": "Python 3 (ipykernel)",
   "language": "python",
   "name": "python3"
  },
  "language_info": {
   "codemirror_mode": {
    "name": "ipython",
    "version": 3
   },
   "file_extension": ".py",
   "mimetype": "text/x-python",
   "name": "python",
   "nbconvert_exporter": "python",
   "pygments_lexer": "ipython3",
   "version": "3.11.7"
  }
 },
 "nbformat": 4,
 "nbformat_minor": 5
}
