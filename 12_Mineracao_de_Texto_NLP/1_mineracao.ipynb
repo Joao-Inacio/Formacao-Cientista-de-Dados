{
 "cells": [
  {
   "cell_type": "markdown",
   "metadata": {},
   "source": [
    "#### Formação Cientista de Dados - Fernando Amaral e Jones Granatyr\n",
    "* Mineração de textos"
   ]
  },
  {
   "cell_type": "code",
   "execution_count": 1,
   "metadata": {},
   "outputs": [
    {
     "name": "stderr",
     "output_type": "stream",
     "text": [
      "[nltk_data] Downloading package stopwords to C:\\Users\\João\n",
      "[nltk_data]     Inácio\\AppData\\Roaming\\nltk_data...\n",
      "[nltk_data]   Unzipping corpora\\stopwords.zip.\n"
     ]
    }
   ],
   "source": [
    "# Importação das bibliotecas\n",
    "import matplotlib.pyplot as plt\n",
    "import nltk\n",
    "#nltk.download() (pode ser executado após instalar o nltk - pip install nltk)\n",
    "nltk.download('stopwords')\n",
    "from nltk.corpus import PlaintextCorpusReader\n",
    "from nltk.corpus import stopwords\n",
    "from matplotlib.colors import ListedColormap\n",
    "from wordcloud import WordCloud\n",
    "import string"
   ]
  },
  {
   "cell_type": "code",
   "execution_count": 2,
   "metadata": {},
   "outputs": [],
   "source": [
    "# Criação de um corpus lendo textos do disco\n",
    "corpus = PlaintextCorpusReader('Arquivos', '.*', encoding = \"ISO-8859-1\")"
   ]
  },
  {
   "cell_type": "code",
   "execution_count": 3,
   "metadata": {},
   "outputs": [
    {
     "data": {
      "text/plain": [
       "'Arquivos/1.txt'"
      ]
     },
     "execution_count": 3,
     "metadata": {},
     "output_type": "execute_result"
    }
   ],
   "source": [
    "# Leitura dos arquivos do disco, percorrer os registros e mostrar o nome dos primeiros 100 arquivos\n",
    "arquivos = corpus.fileids()\n",
    "#primeiro arquivo\n",
    "arquivos[0]"
   ]
  },
  {
   "cell_type": "code",
   "execution_count": 4,
   "metadata": {},
   "outputs": [
    {
     "data": {
      "text/plain": [
       "['Arquivos/1.txt',\n",
       " 'Arquivos/10.txt',\n",
       " 'Arquivos/100.txt',\n",
       " 'Arquivos/1000.txt',\n",
       " 'Arquivos/1001.txt',\n",
       " 'Arquivos/1002.txt',\n",
       " 'Arquivos/1003.txt',\n",
       " 'Arquivos/1004.txt',\n",
       " 'Arquivos/1005.txt',\n",
       " 'Arquivos/1006.txt']"
      ]
     },
     "execution_count": 4,
     "metadata": {},
     "output_type": "execute_result"
    }
   ],
   "source": [
    "# Zero a 10\n",
    "arquivos[0:10]"
   ]
  },
  {
   "cell_type": "code",
   "execution_count": 6,
   "metadata": {},
   "outputs": [
    {
     "data": {
      "text/plain": [
       "\"@relation 'Reuters-21578 Corn ModApte Train-weka.filters.unsupervised.attribute.NumericToBinary-weka.filters.unsupervised.instance.RemoveFolds-S0-N5-F1'\\r\\n\""
      ]
     },
     "execution_count": 6,
     "metadata": {},
     "output_type": "execute_result"
    }
   ],
   "source": [
    "# Acesso ao texto do primeiro arquivo\n",
    "texto = corpus.raw('Arquivos/1.txt')\n",
    "texto"
   ]
  },
  {
   "cell_type": "code",
   "execution_count": 7,
   "metadata": {},
   "outputs": [],
   "source": [
    "# Acesso a todos as palavras de todos os arquivos do corpus\n",
    "todo_texto = corpus.raw()"
   ]
  },
  {
   "cell_type": "code",
   "execution_count": 8,
   "metadata": {},
   "outputs": [
    {
     "data": {
      "text/plain": [
       "'dividend'"
      ]
     },
     "execution_count": 8,
     "metadata": {},
     "output_type": "execute_result"
    }
   ],
   "source": [
    "# Obtenção de todas as palavras do corpus e visualização da quantidade\n",
    "palavras = corpus.words()\n",
    "# acessando pelo indices\n",
    "palavras[170]"
   ]
  },
  {
   "cell_type": "code",
   "execution_count": 9,
   "metadata": {},
   "outputs": [
    {
     "data": {
      "text/plain": [
       "619424"
      ]
     },
     "execution_count": 9,
     "metadata": {},
     "output_type": "execute_result"
    }
   ],
   "source": [
    "# Quantidade\n",
    "len(palavras)"
   ]
  },
  {
   "cell_type": "code",
   "execution_count": 10,
   "metadata": {},
   "outputs": [
    {
     "data": {
      "text/plain": [
       "['i',\n",
       " 'me',\n",
       " 'my',\n",
       " 'myself',\n",
       " 'we',\n",
       " 'our',\n",
       " 'ours',\n",
       " 'ourselves',\n",
       " 'you',\n",
       " \"you're\",\n",
       " \"you've\",\n",
       " \"you'll\",\n",
       " \"you'd\",\n",
       " 'your',\n",
       " 'yours',\n",
       " 'yourself',\n",
       " 'yourselves',\n",
       " 'he',\n",
       " 'him',\n",
       " 'his',\n",
       " 'himself',\n",
       " 'she',\n",
       " \"she's\",\n",
       " 'her',\n",
       " 'hers',\n",
       " 'herself',\n",
       " 'it',\n",
       " \"it's\",\n",
       " 'its',\n",
       " 'itself',\n",
       " 'they',\n",
       " 'them',\n",
       " 'their',\n",
       " 'theirs',\n",
       " 'themselves',\n",
       " 'what',\n",
       " 'which',\n",
       " 'who',\n",
       " 'whom',\n",
       " 'this',\n",
       " 'that',\n",
       " \"that'll\",\n",
       " 'these',\n",
       " 'those',\n",
       " 'am',\n",
       " 'is',\n",
       " 'are',\n",
       " 'was',\n",
       " 'were',\n",
       " 'be',\n",
       " 'been',\n",
       " 'being',\n",
       " 'have',\n",
       " 'has',\n",
       " 'had',\n",
       " 'having',\n",
       " 'do',\n",
       " 'does',\n",
       " 'did',\n",
       " 'doing',\n",
       " 'a',\n",
       " 'an',\n",
       " 'the',\n",
       " 'and',\n",
       " 'but',\n",
       " 'if',\n",
       " 'or',\n",
       " 'because',\n",
       " 'as',\n",
       " 'until',\n",
       " 'while',\n",
       " 'of',\n",
       " 'at',\n",
       " 'by',\n",
       " 'for',\n",
       " 'with',\n",
       " 'about',\n",
       " 'against',\n",
       " 'between',\n",
       " 'into',\n",
       " 'through',\n",
       " 'during',\n",
       " 'before',\n",
       " 'after',\n",
       " 'above',\n",
       " 'below',\n",
       " 'to',\n",
       " 'from',\n",
       " 'up',\n",
       " 'down',\n",
       " 'in',\n",
       " 'out',\n",
       " 'on',\n",
       " 'off',\n",
       " 'over',\n",
       " 'under',\n",
       " 'again',\n",
       " 'further',\n",
       " 'then',\n",
       " 'once',\n",
       " 'here',\n",
       " 'there',\n",
       " 'when',\n",
       " 'where',\n",
       " 'why',\n",
       " 'how',\n",
       " 'all',\n",
       " 'any',\n",
       " 'both',\n",
       " 'each',\n",
       " 'few',\n",
       " 'more',\n",
       " 'most',\n",
       " 'other',\n",
       " 'some',\n",
       " 'such',\n",
       " 'no',\n",
       " 'nor',\n",
       " 'not',\n",
       " 'only',\n",
       " 'own',\n",
       " 'same',\n",
       " 'so',\n",
       " 'than',\n",
       " 'too',\n",
       " 'very',\n",
       " 's',\n",
       " 't',\n",
       " 'can',\n",
       " 'will',\n",
       " 'just',\n",
       " 'don',\n",
       " \"don't\",\n",
       " 'should',\n",
       " \"should've\",\n",
       " 'now',\n",
       " 'd',\n",
       " 'll',\n",
       " 'm',\n",
       " 'o',\n",
       " 're',\n",
       " 've',\n",
       " 'y',\n",
       " 'ain',\n",
       " 'aren',\n",
       " \"aren't\",\n",
       " 'couldn',\n",
       " \"couldn't\",\n",
       " 'didn',\n",
       " \"didn't\",\n",
       " 'doesn',\n",
       " \"doesn't\",\n",
       " 'hadn',\n",
       " \"hadn't\",\n",
       " 'hasn',\n",
       " \"hasn't\",\n",
       " 'haven',\n",
       " \"haven't\",\n",
       " 'isn',\n",
       " \"isn't\",\n",
       " 'ma',\n",
       " 'mightn',\n",
       " \"mightn't\",\n",
       " 'mustn',\n",
       " \"mustn't\",\n",
       " 'needn',\n",
       " \"needn't\",\n",
       " 'shan',\n",
       " \"shan't\",\n",
       " 'shouldn',\n",
       " \"shouldn't\",\n",
       " 'wasn',\n",
       " \"wasn't\",\n",
       " 'weren',\n",
       " \"weren't\",\n",
       " 'won',\n",
       " \"won't\",\n",
       " 'wouldn',\n",
       " \"wouldn't\"]"
      ]
     },
     "execution_count": 10,
     "metadata": {},
     "output_type": "execute_result"
    }
   ],
   "source": [
    "# Usando o NLTK, obtemos as stop word em inglês\n",
    "stops = stopwords.words('english')\n",
    "#stops = stopwords.words('portuguese')\n",
    "stops"
   ]
  },
  {
   "cell_type": "code",
   "execution_count": 11,
   "metadata": {},
   "outputs": [
    {
     "data": {
      "text/plain": [
       "<matplotlib.image.AxesImage at 0x1bbaaced370>"
      ]
     },
     "execution_count": 11,
     "metadata": {},
     "output_type": "execute_result"
    },
    {
     "data": {
      "image/png": "[encoded data removed]",
      "text/plain": [
       "<Figure size 432x288 with 1 Axes>"
      ]
     },
     "metadata": {},
     "output_type": "display_data"
    }
   ],
   "source": [
    "# Definição das cores que serão utilizados na nuvem de palavras\n",
    "mapa_cores = ListedColormap(['orange','green','red','cyan'])\n",
    "# criação da nuvem de palavras, com no máximo 100 palavras e utilizando as stop words\n",
    "nuvem = WordCloud(\n",
    "    background_color='white', colormap=mapa_cores, stopwords=stops, max_words=100 \n",
    ")\n",
    "# Criação e visualização da nuvem de palavras\n",
    "nuvem.generate(todo_texto)\n",
    "plt.imshow(nuvem)"
   ]
  },
  {
   "cell_type": "code",
   "execution_count": 12,
   "metadata": {},
   "outputs": [
    {
     "data": {
      "text/plain": [
       "555712"
      ]
     },
     "execution_count": 12,
     "metadata": {},
     "output_type": "execute_result"
    }
   ],
   "source": [
    "# Criação de nova lista de palavras, removendo stop words\n",
    "palavras_semstop = [p for p in palavras if p not in stops]\n",
    "len(palavras_semstop)"
   ]
  },
  {
   "cell_type": "code",
   "execution_count": 13,
   "metadata": {},
   "outputs": [
    {
     "data": {
      "text/plain": [
       "492087"
      ]
     },
     "execution_count": 13,
     "metadata": {},
     "output_type": "execute_result"
    }
   ],
   "source": [
    "# Remoção da pontuação, gerando uma lista sem stop words e sem pontuação \n",
    "palavras_sem_pontuacao = [p for p in palavras_semstop if p not in string.punctuation]\n",
    "len(palavras_sem_pontuacao)"
   ]
  },
  {
   "cell_type": "code",
   "execution_count": 14,
   "metadata": {},
   "outputs": [
    {
     "data": {
      "text/plain": [
       "FreqDist({'¸': 3886, 'said': 3398, '3': 2836, '0': 2728, 'mln': 2724, '1': 2321, 'vs': 2201, 'J': 2145, 'dlrs': 1946, '000': 1641, ...})"
      ]
     },
     "execution_count": 14,
     "metadata": {},
     "output_type": "execute_result"
    }
   ],
   "source": [
    "# Cálculo da frequência das palavras e visualização das mais comuns\n",
    "frequencia = nltk.FreqDist(palavras_sem_pontuacao)\n",
    "frequencia"
   ]
  },
  {
   "cell_type": "code",
   "execution_count": 15,
   "metadata": {},
   "outputs": [
    {
     "data": {
      "text/plain": [
       "[('¸', 3886),\n",
       " ('said', 3398),\n",
       " ('3', 2836),\n",
       " ('0', 2728),\n",
       " ('mln', 2724),\n",
       " ('1', 2321),\n",
       " ('vs', 2201),\n",
       " ('J', 2145),\n",
       " ('dlrs', 1946),\n",
       " ('000', 1641),\n",
       " ('2', 1584),\n",
       " ('txtPK', 1558),\n",
       " ('&#', 1466),\n",
       " (\";',\", 1432),\n",
       " ('The', 1429),\n",
       " ('U', 1422),\n",
       " ('S', 1414),\n",
       " ('PK', 1397),\n",
       " ('cts', 1374),\n",
       " ('\\x00\\x00\\x00', 1318),\n",
       " ('4', 1296),\n",
       " ('lt', 1288),\n",
       " ('5', 1274),\n",
       " ('Reuter', 1214),\n",
       " ('\\x10', 1181),\n",
       " ('pct', 1147),\n",
       " ('6', 1117),\n",
       " ('\\x00', 1117),\n",
       " ('8', 1111),\n",
       " ('\\x0f', 1087),\n",
       " ('7', 1080),\n",
       " ('\\x14', 1072),\n",
       " ('\\x91', 1048),\n",
       " ('\\x08', 1041),\n",
       " ('\\x83', 1041),\n",
       " ('9', 1039),\n",
       " ('\\x03', 1039),\n",
       " ('\\x9e', 995),\n",
       " ('\\x92', 993),\n",
       " ('÷', 991),\n",
       " ('\\x06', 975),\n",
       " ('\\x05', 967),\n",
       " ('\\x8e', 963),\n",
       " ('¶', 962),\n",
       " ('\\x1b', 962),\n",
       " ('\\x90', 960),\n",
       " ('\\x93', 960),\n",
       " ('\\x18', 949),\n",
       " ('\\x94', 945),\n",
       " ('\\x07', 945),\n",
       " ('\\x8b', 942),\n",
       " ('\\x8d', 941),\n",
       " ('\\x9a', 936),\n",
       " ('±', 933),\n",
       " ('\\x0e', 929),\n",
       " ('ï', 924),\n",
       " ('A', 923),\n",
       " ('\\x1a', 922),\n",
       " ('\\x9d', 912),\n",
       " ('´', 911),\n",
       " ('\\x16', 910),\n",
       " ('\\x81', 910),\n",
       " ('»', 906),\n",
       " ('\\x82', 906),\n",
       " ('\\x9c', 898),\n",
       " ('\\x9b', 897),\n",
       " ('¤', 897),\n",
       " ('°', 886),\n",
       " ('£', 886),\n",
       " ('\\x02', 882),\n",
       " ('\\x19', 880),\n",
       " ('year', 878),\n",
       " ('\\x96', 878),\n",
       " ('\\x8f', 877),\n",
       " ('\\x8a', 877),\n",
       " ('¬', 871),\n",
       " ('\\x01', 869),\n",
       " ('\\x89', 866),\n",
       " ('®', 864),\n",
       " ('\\x17', 864),\n",
       " ('¡', 859),\n",
       " ('¨', 859),\n",
       " ('\\x84', 859),\n",
       " ('·', 857),\n",
       " ('\\x87', 857),\n",
       " ('\\xad', 852),\n",
       " ('\\x99', 849),\n",
       " ('\\x7f', 847),\n",
       " ('«', 844),\n",
       " ('¢', 844),\n",
       " ('©', 841),\n",
       " ('×', 834),\n",
       " ('\\x95', 829),\n",
       " ('¦', 827),\n",
       " ('§', 826),\n",
       " ('\\x04', 823),\n",
       " ('¥', 821),\n",
       " ('\\x13', 818),\n",
       " ('V', 815),\n",
       " ('\\x86', 810)]"
      ]
     },
     "execution_count": 15,
     "metadata": {},
     "output_type": "execute_result"
    }
   ],
   "source": [
    "# Mais comuns\n",
    "mais_comuns = frequencia.most_common(100)\n",
    "mais_comuns"
   ]
  }
 ],
 "metadata": {
  "kernelspec": {
   "display_name": "Python 3.9.12 ('venv': venv)",
   "language": "python",
   "name": "python3"
  },
  "language_info": {
   "codemirror_mode": {
    "name": "ipython",
    "version": 3
   },
   "file_extension": ".py",
   "mimetype": "text/x-python",
   "name": "python",
   "nbconvert_exporter": "python",
   "pygments_lexer": "ipython3",
   "version": "3.9.12"
  },
  "orig_nbformat": 4,
  "vscode": {
   "interpreter": {
    "hash": "fea19b5a4fed20f0abd4b41fa1930df0fe4b8c94eabf60df86233fb8f94f9656"
   }
  }
 },
 "nbformat": 4,
 "nbformat_minor": 2
}
