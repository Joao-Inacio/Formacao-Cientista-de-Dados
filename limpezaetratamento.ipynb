{
 "cells": [
  {
   "cell_type": "markdown",
   "id": "d94bea4c-4e04-4a6c-88e8-0620cca6d184",
   "metadata": {},
   "source": [
    " #### Formação Cientista de Dados\n",
    " * Limpeza e tratamento de dados "
   ]
  },
  {
   "cell_type": "code",
   "execution_count": 1,
   "id": "e8ee5a5f-2570-4a50-a9e2-f355bc2f0396",
   "metadata": {},
   "outputs": [],
   "source": [
    "# Importação das Libs\n",
    "import pandas as pd \n",
    "import seaborn as srn \n",
    "import statistics as sts "
   ]
  },
  {
   "cell_type": "code",
   "execution_count": 2,
   "id": "a0d907f4-0697-456f-b7f6-7c2bf573b5cb",
   "metadata": {},
   "outputs": [
    {
     "data": {
      "text/html": [
       "<div>\n",
       "<style scoped>\n",
       "    .dataframe tbody tr th:only-of-type {\n",
       "        vertical-align: middle;\n",
       "    }\n",
       "\n",
       "    .dataframe tbody tr th {\n",
       "        vertical-align: top;\n",
       "    }\n",
       "\n",
       "    .dataframe thead th {\n",
       "        text-align: right;\n",
       "    }\n",
       "</style>\n",
       "<table border=\"1\" class=\"dataframe\">\n",
       "  <thead>\n",
       "    <tr style=\"text-align: right;\">\n",
       "      <th></th>\n",
       "      <th>X0</th>\n",
       "      <th>X1</th>\n",
       "      <th>X2</th>\n",
       "      <th>X3</th>\n",
       "      <th>X4</th>\n",
       "      <th>X4.1</th>\n",
       "      <th>X6</th>\n",
       "      <th>X7</th>\n",
       "      <th>X8</th>\n",
       "      <th>X9</th>\n",
       "      <th>X10</th>\n",
       "      <th>X11</th>\n",
       "    </tr>\n",
       "  </thead>\n",
       "  <tbody>\n",
       "    <tr>\n",
       "      <th>0</th>\n",
       "      <td>1</td>\n",
       "      <td>619</td>\n",
       "      <td>RS</td>\n",
       "      <td>Feminino</td>\n",
       "      <td>42</td>\n",
       "      <td>2</td>\n",
       "      <td>0</td>\n",
       "      <td>1</td>\n",
       "      <td>1</td>\n",
       "      <td>1</td>\n",
       "      <td>10134888.0</td>\n",
       "      <td>1</td>\n",
       "    </tr>\n",
       "    <tr>\n",
       "      <th>1</th>\n",
       "      <td>2</td>\n",
       "      <td>608</td>\n",
       "      <td>SC</td>\n",
       "      <td>Feminino</td>\n",
       "      <td>41</td>\n",
       "      <td>1</td>\n",
       "      <td>8380786</td>\n",
       "      <td>1</td>\n",
       "      <td>0</td>\n",
       "      <td>1</td>\n",
       "      <td>11254258.0</td>\n",
       "      <td>0</td>\n",
       "    </tr>\n",
       "    <tr>\n",
       "      <th>2</th>\n",
       "      <td>3</td>\n",
       "      <td>502</td>\n",
       "      <td>RS</td>\n",
       "      <td>Feminino</td>\n",
       "      <td>42</td>\n",
       "      <td>8</td>\n",
       "      <td>1596608</td>\n",
       "      <td>3</td>\n",
       "      <td>1</td>\n",
       "      <td>0</td>\n",
       "      <td>11393157.0</td>\n",
       "      <td>1</td>\n",
       "    </tr>\n",
       "    <tr>\n",
       "      <th>3</th>\n",
       "      <td>4</td>\n",
       "      <td>699</td>\n",
       "      <td>RS</td>\n",
       "      <td>Feminino</td>\n",
       "      <td>39</td>\n",
       "      <td>1</td>\n",
       "      <td>0</td>\n",
       "      <td>2</td>\n",
       "      <td>0</td>\n",
       "      <td>0</td>\n",
       "      <td>9382663.0</td>\n",
       "      <td>0</td>\n",
       "    </tr>\n",
       "    <tr>\n",
       "      <th>4</th>\n",
       "      <td>5</td>\n",
       "      <td>850</td>\n",
       "      <td>SC</td>\n",
       "      <td>Feminino</td>\n",
       "      <td>43</td>\n",
       "      <td>2</td>\n",
       "      <td>12551082</td>\n",
       "      <td>1</td>\n",
       "      <td>1</td>\n",
       "      <td>1</td>\n",
       "      <td>790841.0</td>\n",
       "      <td>0</td>\n",
       "    </tr>\n",
       "  </tbody>\n",
       "</table>\n",
       "</div>"
      ],
      "text/plain": [
       "   X0   X1  X2        X3  X4  X4.1        X6  X7  X8  X9         X10  X11\n",
       "0   1  619  RS  Feminino  42     2         0   1   1   1  10134888.0    1\n",
       "1   2  608  SC  Feminino  41     1   8380786   1   0   1  11254258.0    0\n",
       "2   3  502  RS  Feminino  42     8   1596608   3   1   0  11393157.0    1\n",
       "3   4  699  RS  Feminino  39     1         0   2   0   0   9382663.0    0\n",
       "4   5  850  SC  Feminino  43     2  12551082   1   1   1    790841.0    0"
      ]
     },
     "execution_count": 2,
     "metadata": {},
     "output_type": "execute_result"
    }
   ],
   "source": [
    "# importar dados \n",
    "dataset = pd.read_csv('Churn.csv', sep=';')\n",
    "# visualizar \n",
    "dataset.head()\n"
   ]
  },
  {
   "cell_type": "code",
   "execution_count": 3,
   "id": "3a27ef15-8aed-4d57-9491-cdf9ce14c863",
   "metadata": {},
   "outputs": [
    {
     "data": {
      "text/plain": [
       "(999, 12)"
      ]
     },
     "execution_count": 3,
     "metadata": {},
     "output_type": "execute_result"
    }
   ],
   "source": [
    "# tamanho \n",
    "dataset.shape"
   ]
  },
  {
   "cell_type": "code",
   "execution_count": 4,
   "id": "ed4bfc2e-7649-4daf-ab02-dd3a4dbc8a3b",
   "metadata": {},
   "outputs": [],
   "source": [
    "# primeiro problema é dar nomes as colunas \n",
    "dataset.columns = [\n",
    "    'Id','Score','Estado','Genero','Idade','Patrimonio','Saldo','Produtos',\n",
    "    'TemCartCredito','Ativo','Salario','Saiu'\n",
    "]"
   ]
  },
  {
   "cell_type": "code",
   "execution_count": 5,
   "id": "679fb74f-c0bc-4bc7-8ca6-76b69f490038",
   "metadata": {},
   "outputs": [
    {
     "data": {
      "text/html": [
       "<div>\n",
       "<style scoped>\n",
       "    .dataframe tbody tr th:only-of-type {\n",
       "        vertical-align: middle;\n",
       "    }\n",
       "\n",
       "    .dataframe tbody tr th {\n",
       "        vertical-align: top;\n",
       "    }\n",
       "\n",
       "    .dataframe thead th {\n",
       "        text-align: right;\n",
       "    }\n",
       "</style>\n",
       "<table border=\"1\" class=\"dataframe\">\n",
       "  <thead>\n",
       "    <tr style=\"text-align: right;\">\n",
       "      <th></th>\n",
       "      <th>Id</th>\n",
       "      <th>Score</th>\n",
       "      <th>Estado</th>\n",
       "      <th>Genero</th>\n",
       "      <th>Idade</th>\n",
       "      <th>Patrimonio</th>\n",
       "      <th>Saldo</th>\n",
       "      <th>Produtos</th>\n",
       "      <th>TemCartCredito</th>\n",
       "      <th>Ativo</th>\n",
       "      <th>Salario</th>\n",
       "      <th>Saiu</th>\n",
       "    </tr>\n",
       "  </thead>\n",
       "  <tbody>\n",
       "    <tr>\n",
       "      <th>0</th>\n",
       "      <td>1</td>\n",
       "      <td>619</td>\n",
       "      <td>RS</td>\n",
       "      <td>Feminino</td>\n",
       "      <td>42</td>\n",
       "      <td>2</td>\n",
       "      <td>0</td>\n",
       "      <td>1</td>\n",
       "      <td>1</td>\n",
       "      <td>1</td>\n",
       "      <td>10134888.0</td>\n",
       "      <td>1</td>\n",
       "    </tr>\n",
       "    <tr>\n",
       "      <th>1</th>\n",
       "      <td>2</td>\n",
       "      <td>608</td>\n",
       "      <td>SC</td>\n",
       "      <td>Feminino</td>\n",
       "      <td>41</td>\n",
       "      <td>1</td>\n",
       "      <td>8380786</td>\n",
       "      <td>1</td>\n",
       "      <td>0</td>\n",
       "      <td>1</td>\n",
       "      <td>11254258.0</td>\n",
       "      <td>0</td>\n",
       "    </tr>\n",
       "    <tr>\n",
       "      <th>2</th>\n",
       "      <td>3</td>\n",
       "      <td>502</td>\n",
       "      <td>RS</td>\n",
       "      <td>Feminino</td>\n",
       "      <td>42</td>\n",
       "      <td>8</td>\n",
       "      <td>1596608</td>\n",
       "      <td>3</td>\n",
       "      <td>1</td>\n",
       "      <td>0</td>\n",
       "      <td>11393157.0</td>\n",
       "      <td>1</td>\n",
       "    </tr>\n",
       "    <tr>\n",
       "      <th>3</th>\n",
       "      <td>4</td>\n",
       "      <td>699</td>\n",
       "      <td>RS</td>\n",
       "      <td>Feminino</td>\n",
       "      <td>39</td>\n",
       "      <td>1</td>\n",
       "      <td>0</td>\n",
       "      <td>2</td>\n",
       "      <td>0</td>\n",
       "      <td>0</td>\n",
       "      <td>9382663.0</td>\n",
       "      <td>0</td>\n",
       "    </tr>\n",
       "    <tr>\n",
       "      <th>4</th>\n",
       "      <td>5</td>\n",
       "      <td>850</td>\n",
       "      <td>SC</td>\n",
       "      <td>Feminino</td>\n",
       "      <td>43</td>\n",
       "      <td>2</td>\n",
       "      <td>12551082</td>\n",
       "      <td>1</td>\n",
       "      <td>1</td>\n",
       "      <td>1</td>\n",
       "      <td>790841.0</td>\n",
       "      <td>0</td>\n",
       "    </tr>\n",
       "  </tbody>\n",
       "</table>\n",
       "</div>"
      ],
      "text/plain": [
       "   Id  Score Estado    Genero  Idade  Patrimonio     Saldo  Produtos  \\\n",
       "0   1    619     RS  Feminino     42           2         0         1   \n",
       "1   2    608     SC  Feminino     41           1   8380786         1   \n",
       "2   3    502     RS  Feminino     42           8   1596608         3   \n",
       "3   4    699     RS  Feminino     39           1         0         2   \n",
       "4   5    850     SC  Feminino     43           2  12551082         1   \n",
       "\n",
       "   TemCartCredito  Ativo     Salario  Saiu  \n",
       "0               1      1  10134888.0     1  \n",
       "1               0      1  11254258.0     0  \n",
       "2               1      0  11393157.0     1  \n",
       "3               0      0   9382663.0     0  \n",
       "4               1      1    790841.0     0  "
      ]
     },
     "execution_count": 5,
     "metadata": {},
     "output_type": "execute_result"
    }
   ],
   "source": [
    "# visualizar\n",
    "dataset.head()"
   ]
  },
  {
   "cell_type": "code",
   "execution_count": 6,
   "id": "bc4f8e1f-5075-4594-a34d-918094cff50e",
   "metadata": {},
   "outputs": [
    {
     "data": {
      "text/plain": [
       "Estado\n",
       "PR    257\n",
       "RP      1\n",
       "RS    478\n",
       "SC    258\n",
       "SP      4\n",
       "TD      1\n",
       "dtype: int64"
      ]
     },
     "execution_count": 6,
     "metadata": {},
     "output_type": "execute_result"
    }
   ],
   "source": [
    "# explorar dados categóricos\n",
    "# estado \n",
    "agrupado = dataset.groupby(['Estado']).size()\n",
    "agrupado"
   ]
  },
  {
   "cell_type": "code",
   "execution_count": 7,
   "id": "52def8f8-2e4c-4e4d-a747-48040fca3b2c",
   "metadata": {},
   "outputs": [
    {
     "data": {
      "text/plain": [
       "<AxesSubplot:xlabel='Estado'>"
      ]
     },
     "execution_count": 7,
     "metadata": {},
     "output_type": "execute_result"
    },
    {
     "data": {
      "image/png": "[encoded data removed]",
      "text/plain": [
       "<Figure size 432x288 with 1 Axes>"
      ]
     },
     "metadata": {},
     "output_type": "display_data"
    }
   ],
   "source": [
    "# Visualizando o Gráfico\n",
    "agrupado.plot.bar(color = 'green')"
   ]
  },
  {
   "cell_type": "code",
   "execution_count": 8,
   "id": "e9aee3ef-a751-45d4-83e6-c63889a5683e",
   "metadata": {},
   "outputs": [
    {
     "data": {
      "text/plain": [
       "Genero\n",
       "F              2\n",
       "Fem            1\n",
       "Feminino     461\n",
       "M              6\n",
       "Masculino    521\n",
       "dtype: int64"
      ]
     },
     "execution_count": 8,
     "metadata": {},
     "output_type": "execute_result"
    }
   ],
   "source": [
    "# gênero \n",
    "agrupado =dataset.groupby(['Genero']).size()\n",
    "agrupado "
   ]
  },
  {
   "cell_type": "code",
   "execution_count": 9,
   "id": "3ab71d14-af51-4c93-bfaa-ccf583da79b5",
   "metadata": {},
   "outputs": [
    {
     "data": {
      "text/plain": [
       "<AxesSubplot:xlabel='Genero'>"
      ]
     },
     "execution_count": 9,
     "metadata": {},
     "output_type": "execute_result"
    },
    {
     "data": {
      "image/png": "[encoded data removed]",
      "text/plain": [
       "<Figure size 432x288 with 1 Axes>"
      ]
     },
     "metadata": {},
     "output_type": "display_data"
    }
   ],
   "source": [
    "# Visualizando o Gráfico de gênero\n",
    "agrupado.plot.bar(color = 'gray')"
   ]
  },
  {
   "cell_type": "code",
   "execution_count": 10,
   "id": "cec4b793-00af-4d93-90c5-84f01a4f9b29",
   "metadata": {},
   "outputs": [
    {
     "data": {
      "text/plain": [
       "count    999.000000\n",
       "mean     648.621622\n",
       "std       98.264219\n",
       "min      376.000000\n",
       "25%      580.000000\n",
       "50%      653.000000\n",
       "75%      721.000000\n",
       "max      850.000000\n",
       "Name: Score, dtype: float64"
      ]
     },
     "execution_count": 10,
     "metadata": {},
     "output_type": "execute_result"
    }
   ],
   "source": [
    "# explorar colunas numéricas\n",
    "# score \n",
    "dataset['Score'].describe()"
   ]
  },
  {
   "cell_type": "code",
   "execution_count": 11,
   "id": "93d9c3c5-9c23-4dac-9e17-1a7ac829ceff",
   "metadata": {},
   "outputs": [
    {
     "name": "stderr",
     "output_type": "stream",
     "text": [
      "c:\\Users\\João Inácio\\dadospython\\venv\\lib\\site-packages\\seaborn\\_decorators.py:36: FutureWarning: Pass the following variable as a keyword arg: x. From version 0.12, the only valid positional argument will be `data`, and passing other arguments without an explicit keyword will result in an error or misinterpretation.\n",
      "  warnings.warn(\n"
     ]
    },
    {
     "data": {
      "text/plain": [
       "Text(0.5, 1.0, 'Score')"
      ]
     },
     "execution_count": 11,
     "metadata": {},
     "output_type": "execute_result"
    },
    {
     "data": {
      "image/png": "[encoded data removed]",
      "text/plain": [
       "<Figure size 432x288 with 1 Axes>"
      ]
     },
     "metadata": {},
     "output_type": "display_data"
    }
   ],
   "source": [
    "# Visualizando o Gráfico\n",
    "srn.boxplot(dataset['Score']).set_title('Score')"
   ]
  },
  {
   "cell_type": "code",
   "execution_count": 12,
   "id": "8359e1ab-b83a-44ae-a58b-6d39306a431e",
   "metadata": {},
   "outputs": [
    {
     "name": "stderr",
     "output_type": "stream",
     "text": [
      "c:\\Users\\João Inácio\\dadospython\\venv\\lib\\site-packages\\seaborn\\distributions.py:2619: FutureWarning: `distplot` is a deprecated function and will be removed in a future version. Please adapt your code to use either `displot` (a figure-level function with similar flexibility) or `histplot` (an axes-level function for histograms).\n",
      "  warnings.warn(msg, FutureWarning)\n"
     ]
    },
    {
     "data": {
      "text/plain": [
       "Text(0.5, 1.0, 'Score')"
      ]
     },
     "execution_count": 12,
     "metadata": {},
     "output_type": "execute_result"
    },
    {
     "data": {
      "image/png": "[encoded data removed]",
      "text/plain": [
       "<Figure size 432x288 with 1 Axes>"
      ]
     },
     "metadata": {},
     "output_type": "display_data"
    }
   ],
   "source": [
    "# Visualizando o Gráfico\n",
    "srn.distplot(dataset['Score']).set_title('Score')"
   ]
  },
  {
   "cell_type": "code",
   "execution_count": 13,
   "id": "90558cc0-e1b0-49b4-bfe1-fe7e803cbd88",
   "metadata": {},
   "outputs": [
    {
     "data": {
      "text/plain": [
       "count    999.000000\n",
       "mean      38.902903\n",
       "std       11.401912\n",
       "min      -20.000000\n",
       "25%       32.000000\n",
       "50%       37.000000\n",
       "75%       44.000000\n",
       "max      140.000000\n",
       "Name: Idade, dtype: float64"
      ]
     },
     "execution_count": 13,
     "metadata": {},
     "output_type": "execute_result"
    }
   ],
   "source": [
    "# idade \n",
    "dataset['Idade'].describe()"
   ]
  },
  {
   "cell_type": "code",
   "execution_count": 14,
   "id": "e3cf98c9-bb75-4875-81e2-5a2bd2c0a670",
   "metadata": {},
   "outputs": [
    {
     "name": "stderr",
     "output_type": "stream",
     "text": [
      "c:\\Users\\João Inácio\\dadospython\\venv\\lib\\site-packages\\seaborn\\_decorators.py:36: FutureWarning: Pass the following variable as a keyword arg: x. From version 0.12, the only valid positional argument will be `data`, and passing other arguments without an explicit keyword will result in an error or misinterpretation.\n",
      "  warnings.warn(\n"
     ]
    },
    {
     "data": {
      "text/plain": [
       "Text(0.5, 1.0, 'Idade')"
      ]
     },
     "execution_count": 14,
     "metadata": {},
     "output_type": "execute_result"
    },
    {
     "data": {
      "image/png": "[encoded data removed]",
      "text/plain": [
       "<Figure size 432x288 with 1 Axes>"
      ]
     },
     "metadata": {},
     "output_type": "display_data"
    }
   ],
   "source": [
    "# Visualizando o Boxplot de Idade\n",
    "srn.boxplot(dataset['Idade']).set_title('Idade')"
   ]
  },
  {
   "cell_type": "code",
   "execution_count": 15,
   "id": "be731838-5e8d-40cb-8eab-a659b1c4a736",
   "metadata": {},
   "outputs": [
    {
     "name": "stderr",
     "output_type": "stream",
     "text": [
      "c:\\Users\\João Inácio\\dadospython\\venv\\lib\\site-packages\\seaborn\\distributions.py:2619: FutureWarning: `distplot` is a deprecated function and will be removed in a future version. Please adapt your code to use either `displot` (a figure-level function with similar flexibility) or `histplot` (an axes-level function for histograms).\n",
      "  warnings.warn(msg, FutureWarning)\n"
     ]
    },
    {
     "data": {
      "text/plain": [
       "Text(0.5, 1.0, 'Idade')"
      ]
     },
     "execution_count": 15,
     "metadata": {},
     "output_type": "execute_result"
    },
    {
     "data": {
      "image/png": "[encoded data removed]",
      "text/plain": [
       "<Figure size 432x288 with 1 Axes>"
      ]
     },
     "metadata": {},
     "output_type": "display_data"
    }
   ],
   "source": [
    "# Visualizando o Gráfico de dispersão\n",
    "srn.distplot(dataset['Idade']).set_title('Idade')"
   ]
  },
  {
   "cell_type": "code",
   "execution_count": 16,
   "id": "594340e2-7658-40a3-ab1b-c265ba010679",
   "metadata": {},
   "outputs": [
    {
     "data": {
      "text/plain": [
       "count    9.990000e+02\n",
       "mean     7.164928e+06\n",
       "std      6.311840e+06\n",
       "min      0.000000e+00\n",
       "25%      0.000000e+00\n",
       "50%      8.958835e+06\n",
       "75%      1.258684e+07\n",
       "max      2.117743e+07\n",
       "Name: Saldo, dtype: float64"
      ]
     },
     "execution_count": 16,
     "metadata": {},
     "output_type": "execute_result"
    }
   ],
   "source": [
    "# Saldo \n",
    "dataset['Saldo'].describe()"
   ]
  },
  {
   "cell_type": "code",
   "execution_count": 17,
   "id": "6089671f-8d7e-409a-8974-76e2e0391e95",
   "metadata": {},
   "outputs": [
    {
     "name": "stderr",
     "output_type": "stream",
     "text": [
      "c:\\Users\\João Inácio\\dadospython\\venv\\lib\\site-packages\\seaborn\\_decorators.py:36: FutureWarning: Pass the following variable as a keyword arg: x. From version 0.12, the only valid positional argument will be `data`, and passing other arguments without an explicit keyword will result in an error or misinterpretation.\n",
      "  warnings.warn(\n"
     ]
    },
    {
     "data": {
      "text/plain": [
       "Text(0.5, 1.0, 'Saldo')"
      ]
     },
     "execution_count": 17,
     "metadata": {},
     "output_type": "execute_result"
    },
    {
     "data": {
      "image/png": "[encoded data removed]",
      "text/plain": [
       "<Figure size 432x288 with 1 Axes>"
      ]
     },
     "metadata": {},
     "output_type": "display_data"
    }
   ],
   "source": [
    "#  Visualizando o Boxplot de Saldo\n",
    "srn.boxplot(dataset['Saldo']).set_title('Saldo')"
   ]
  },
  {
   "cell_type": "code",
   "execution_count": 18,
   "id": "938b3f06-f7a1-4ca4-9487-536e9533eb92",
   "metadata": {},
   "outputs": [
    {
     "name": "stderr",
     "output_type": "stream",
     "text": [
      "c:\\Users\\João Inácio\\dadospython\\venv\\lib\\site-packages\\seaborn\\distributions.py:2619: FutureWarning: `distplot` is a deprecated function and will be removed in a future version. Please adapt your code to use either `displot` (a figure-level function with similar flexibility) or `histplot` (an axes-level function for histograms).\n",
      "  warnings.warn(msg, FutureWarning)\n"
     ]
    },
    {
     "data": {
      "text/plain": [
       "Text(0.5, 1.0, 'Saldo')"
      ]
     },
     "execution_count": 18,
     "metadata": {},
     "output_type": "execute_result"
    },
    {
     "data": {
      "image/png": "[encoded data removed]",
      "text/plain": [
       "<Figure size 432x288 with 1 Axes>"
      ]
     },
     "metadata": {},
     "output_type": "display_data"
    }
   ],
   "source": [
    "# Visualizando o Gráfico de dispersão\n",
    "srn.distplot(dataset['Saldo']).set_title('Saldo')"
   ]
  },
  {
   "cell_type": "code",
   "execution_count": 19,
   "id": "f45e62c6-369f-4645-aee0-e566fd722b44",
   "metadata": {},
   "outputs": [
    {
     "data": {
      "text/plain": [
       "count    9.920000e+02\n",
       "mean     3.528762e+07\n",
       "std      5.305800e+08\n",
       "min      9.677000e+03\n",
       "25%      3.029011e+06\n",
       "50%      8.703250e+06\n",
       "75%      1.405213e+07\n",
       "max      1.193469e+10\n",
       "Name: Salario, dtype: float64"
      ]
     },
     "execution_count": 19,
     "metadata": {},
     "output_type": "execute_result"
    }
   ],
   "source": [
    "# Salario \n",
    "dataset['Salario'].describe()"
   ]
  },
  {
   "cell_type": "code",
   "execution_count": 20,
   "id": "2736100a-036c-4c1a-993f-2253b807f964",
   "metadata": {},
   "outputs": [
    {
     "name": "stderr",
     "output_type": "stream",
     "text": [
      "c:\\Users\\João Inácio\\dadospython\\venv\\lib\\site-packages\\seaborn\\_decorators.py:36: FutureWarning: Pass the following variable as a keyword arg: x. From version 0.12, the only valid positional argument will be `data`, and passing other arguments without an explicit keyword will result in an error or misinterpretation.\n",
      "  warnings.warn(\n"
     ]
    },
    {
     "data": {
      "text/plain": [
       "Text(0.5, 1.0, 'Salarioa')"
      ]
     },
     "execution_count": 20,
     "metadata": {},
     "output_type": "execute_result"
    },
    {
     "data": {
      "image/png": "[encoded data removed]",
      "text/plain": [
       "<Figure size 432x288 with 1 Axes>"
      ]
     },
     "metadata": {},
     "output_type": "display_data"
    }
   ],
   "source": [
    "# Visualizando o Boxplot de Salario\n",
    "srn.boxplot(dataset['Salario']).set_title('Salarioa')"
   ]
  },
  {
   "cell_type": "code",
   "execution_count": 21,
   "id": "ced8cf86-9cf4-4123-8f1e-aa20d05eae45",
   "metadata": {},
   "outputs": [
    {
     "name": "stderr",
     "output_type": "stream",
     "text": [
      "c:\\Users\\João Inácio\\dadospython\\venv\\lib\\site-packages\\seaborn\\distributions.py:2619: FutureWarning: `distplot` is a deprecated function and will be removed in a future version. Please adapt your code to use either `displot` (a figure-level function with similar flexibility) or `histplot` (an axes-level function for histograms).\n",
      "  warnings.warn(msg, FutureWarning)\n"
     ]
    },
    {
     "data": {
      "text/plain": [
       "Text(0.5, 1.0, 'Salario')"
      ]
     },
     "execution_count": 21,
     "metadata": {},
     "output_type": "execute_result"
    },
    {
     "data": {
      "image/png": "[encoded data removed]",
      "text/plain": [
       "<Figure size 432x288 with 1 Axes>"
      ]
     },
     "metadata": {},
     "output_type": "display_data"
    }
   ],
   "source": [
    "# Visualizando o Gráfico de dispersão\n",
    "srn.distplot(dataset['Salario']).set_title('Salario')"
   ]
  },
  {
   "cell_type": "code",
   "execution_count": 22,
   "id": "029f3fbd-222e-4f22-bf74-4e1434df5855",
   "metadata": {},
   "outputs": [
    {
     "data": {
      "text/plain": [
       "Id                0\n",
       "Score             0\n",
       "Estado            0\n",
       "Genero            8\n",
       "Idade             0\n",
       "Patrimonio        0\n",
       "Saldo             0\n",
       "Produtos          0\n",
       "TemCartCredito    0\n",
       "Ativo             0\n",
       "Salario           7\n",
       "Saiu              0\n",
       "dtype: int64"
      ]
     },
     "execution_count": 22,
     "metadata": {},
     "output_type": "execute_result"
    }
   ],
   "source": [
    "# Contamos valores NAN \n",
    "# Genero e Salário \n",
    "dataset.isnull().sum()"
   ]
  },
  {
   "cell_type": "code",
   "execution_count": 23,
   "id": "c9541dfe-f5f0-4777-b5c5-61894c2d94f8",
   "metadata": {},
   "outputs": [
    {
     "data": {
      "text/plain": [
       "count    9.920000e+02\n",
       "mean     3.528762e+07\n",
       "std      5.305800e+08\n",
       "min      9.677000e+03\n",
       "25%      3.029011e+06\n",
       "50%      8.703250e+06\n",
       "75%      1.405213e+07\n",
       "max      1.193469e+10\n",
       "Name: Salario, dtype: float64"
      ]
     },
     "execution_count": 23,
     "metadata": {},
     "output_type": "execute_result"
    }
   ],
   "source": [
    "# salario \n",
    "# removendo NAs e substituir pela mediana\n",
    "dataset['Salario'].describe()"
   ]
  },
  {
   "cell_type": "code",
   "execution_count": 24,
   "id": "b6b4563f-3f70-41c6-92a9-9f0d3f84da86",
   "metadata": {},
   "outputs": [
    {
     "data": {
      "text/plain": [
       "70518.0"
      ]
     },
     "execution_count": 24,
     "metadata": {},
     "output_type": "execute_result"
    }
   ],
   "source": [
    "# Calculando a mediana\n",
    "mediana = sts.median(dataset['Salario'])\n",
    "mediana "
   ]
  },
  {
   "cell_type": "code",
   "execution_count": 25,
   "id": "65a60d11-5faf-49f3-9971-ae901b5dcd85",
   "metadata": {},
   "outputs": [],
   "source": [
    "#substituir NAN por mediana\n",
    "dataset['Salario'].fillna(mediana, inplace=True)"
   ]
  },
  {
   "cell_type": "code",
   "execution_count": 26,
   "id": "1bc3200d",
   "metadata": {},
   "outputs": [
    {
     "data": {
      "text/plain": [
       "0"
      ]
     },
     "execution_count": 26,
     "metadata": {},
     "output_type": "execute_result"
    }
   ],
   "source": [
    "# Verificamos se NAN não existem mais \n",
    "dataset['Salario'].isnull().sum()"
   ]
  },
  {
   "cell_type": "code",
   "execution_count": 27,
   "id": "8aaff195",
   "metadata": {},
   "outputs": [
    {
     "data": {
      "text/plain": [
       "Genero\n",
       "F              2\n",
       "Fem            1\n",
       "Feminino     461\n",
       "M              6\n",
       "Masculino    521\n",
       "dtype: int64"
      ]
     },
     "execution_count": 27,
     "metadata": {},
     "output_type": "execute_result"
    }
   ],
   "source": [
    "# genero, falta de padronização e NAs\n",
    "agrupado = dataset.groupby(['Genero']).size()\n",
    "agrupado"
   ]
  },
  {
   "cell_type": "code",
   "execution_count": 28,
   "id": "ff9c4817",
   "metadata": {},
   "outputs": [
    {
     "data": {
      "text/plain": [
       "8"
      ]
     },
     "execution_count": 28,
     "metadata": {},
     "output_type": "execute_result"
    }
   ],
   "source": [
    "# total de NAs\n",
    "dataset['Genero'].isnull().sum()"
   ]
  },
  {
   "cell_type": "code",
   "execution_count": 29,
   "id": "4bb61aa0",
   "metadata": {},
   "outputs": [],
   "source": [
    "# preenche NAs com Masculino (Moda)\n",
    "dataset['Genero'].fillna('Masculino', inplace=True)"
   ]
  },
  {
   "cell_type": "code",
   "execution_count": 30,
   "id": "6ff8eab5",
   "metadata": {},
   "outputs": [
    {
     "data": {
      "text/plain": [
       "0"
      ]
     },
     "execution_count": 30,
     "metadata": {},
     "output_type": "execute_result"
    }
   ],
   "source": [
    "# verificamos novamente NAs\n",
    "dataset['Genero'].isnull().sum()"
   ]
  },
  {
   "cell_type": "code",
   "execution_count": 31,
   "id": "f6f131eb",
   "metadata": {},
   "outputs": [
    {
     "data": {
      "text/plain": [
       "Genero\n",
       "Feminino     464\n",
       "Masculino    535\n",
       "dtype: int64"
      ]
     },
     "execution_count": 31,
     "metadata": {},
     "output_type": "execute_result"
    }
   ],
   "source": [
    "# Padroniza de acordo com o domínio \n",
    "dataset.loc[dataset['Genero'] == 'M', 'Genero'] = 'Masculino'\n",
    "dataset.loc[dataset['Genero'].isin(['Fem','F']), 'Genero'] = 'Feminino'\n",
    "# Visualizar o resultado\n",
    "agrupado = dataset.groupby(['Genero']).size()\n",
    "agrupado"
   ]
  },
  {
   "cell_type": "code",
   "execution_count": 32,
   "id": "7000920b",
   "metadata": {},
   "outputs": [
    {
     "data": {
      "text/plain": [
       "count    999.000000\n",
       "mean      38.902903\n",
       "std       11.401912\n",
       "min      -20.000000\n",
       "25%       32.000000\n",
       "50%       37.000000\n",
       "75%       44.000000\n",
       "max      140.000000\n",
       "Name: Idade, dtype: float64"
      ]
     },
     "execution_count": 32,
     "metadata": {},
     "output_type": "execute_result"
    }
   ],
   "source": [
    "# Idade fora do domínio\n",
    "dataset['Idade'].describe()"
   ]
  },
  {
   "cell_type": "code",
   "execution_count": 33,
   "id": "47dc696e",
   "metadata": {},
   "outputs": [
    {
     "data": {
      "text/html": [
       "<div>\n",
       "<style scoped>\n",
       "    .dataframe tbody tr th:only-of-type {\n",
       "        vertical-align: middle;\n",
       "    }\n",
       "\n",
       "    .dataframe tbody tr th {\n",
       "        vertical-align: top;\n",
       "    }\n",
       "\n",
       "    .dataframe thead th {\n",
       "        text-align: right;\n",
       "    }\n",
       "</style>\n",
       "<table border=\"1\" class=\"dataframe\">\n",
       "  <thead>\n",
       "    <tr style=\"text-align: right;\">\n",
       "      <th></th>\n",
       "      <th>Id</th>\n",
       "      <th>Score</th>\n",
       "      <th>Estado</th>\n",
       "      <th>Genero</th>\n",
       "      <th>Idade</th>\n",
       "      <th>Patrimonio</th>\n",
       "      <th>Saldo</th>\n",
       "      <th>Produtos</th>\n",
       "      <th>TemCartCredito</th>\n",
       "      <th>Ativo</th>\n",
       "      <th>Salario</th>\n",
       "      <th>Saiu</th>\n",
       "    </tr>\n",
       "  </thead>\n",
       "  <tbody>\n",
       "    <tr>\n",
       "      <th>867</th>\n",
       "      <td>869</td>\n",
       "      <td>636</td>\n",
       "      <td>RS</td>\n",
       "      <td>Feminino</td>\n",
       "      <td>-10</td>\n",
       "      <td>1</td>\n",
       "      <td>17083346</td>\n",
       "      <td>1</td>\n",
       "      <td>1</td>\n",
       "      <td>0</td>\n",
       "      <td>11051028.0</td>\n",
       "      <td>1</td>\n",
       "    </tr>\n",
       "    <tr>\n",
       "      <th>984</th>\n",
       "      <td>986</td>\n",
       "      <td>773</td>\n",
       "      <td>RS</td>\n",
       "      <td>Masculino</td>\n",
       "      <td>-20</td>\n",
       "      <td>1</td>\n",
       "      <td>12453278</td>\n",
       "      <td>2</td>\n",
       "      <td>0</td>\n",
       "      <td>1</td>\n",
       "      <td>1172357.0</td>\n",
       "      <td>0</td>\n",
       "    </tr>\n",
       "    <tr>\n",
       "      <th>990</th>\n",
       "      <td>992</td>\n",
       "      <td>655</td>\n",
       "      <td>RS</td>\n",
       "      <td>Masculino</td>\n",
       "      <td>140</td>\n",
       "      <td>5</td>\n",
       "      <td>93147</td>\n",
       "      <td>2</td>\n",
       "      <td>1</td>\n",
       "      <td>0</td>\n",
       "      <td>6621413.0</td>\n",
       "      <td>0</td>\n",
       "    </tr>\n",
       "  </tbody>\n",
       "</table>\n",
       "</div>"
      ],
      "text/plain": [
       "      Id  Score Estado     Genero  Idade  Patrimonio     Saldo  Produtos  \\\n",
       "867  869    636     RS   Feminino    -10           1  17083346         1   \n",
       "984  986    773     RS  Masculino    -20           1  12453278         2   \n",
       "990  992    655     RS  Masculino    140           5     93147         2   \n",
       "\n",
       "     TemCartCredito  Ativo     Salario  Saiu  \n",
       "867               1      0  11051028.0     1  \n",
       "984               0      1   1172357.0     0  \n",
       "990               1      0   6621413.0     0  "
      ]
     },
     "execution_count": 33,
     "metadata": {},
     "output_type": "execute_result"
    }
   ],
   "source": [
    "# Visualizar\n",
    "dataset.loc[(dataset['Idade'] < 0) | (dataset['Idade'] > 120)]"
   ]
  },
  {
   "cell_type": "code",
   "execution_count": 34,
   "id": "9e94b9b2",
   "metadata": {},
   "outputs": [
    {
     "data": {
      "text/plain": [
       "37"
      ]
     },
     "execution_count": 34,
     "metadata": {},
     "output_type": "execute_result"
    }
   ],
   "source": [
    "# Calcular a mediana \n",
    "mediana = sts.median(dataset['Idade'])  \n",
    "mediana"
   ]
  },
  {
   "cell_type": "code",
   "execution_count": 35,
   "id": "dbfd9c3d",
   "metadata": {},
   "outputs": [],
   "source": [
    "# substituir\n",
    "dataset.loc[(dataset['Idade'] < 0) | (dataset['Idade'] > 120), 'Idade'] = mediana"
   ]
  },
  {
   "cell_type": "code",
   "execution_count": 36,
   "id": "23e9dd99",
   "metadata": {},
   "outputs": [
    {
     "data": {
      "text/html": [
       "<div>\n",
       "<style scoped>\n",
       "    .dataframe tbody tr th:only-of-type {\n",
       "        vertical-align: middle;\n",
       "    }\n",
       "\n",
       "    .dataframe tbody tr th {\n",
       "        vertical-align: top;\n",
       "    }\n",
       "\n",
       "    .dataframe thead th {\n",
       "        text-align: right;\n",
       "    }\n",
       "</style>\n",
       "<table border=\"1\" class=\"dataframe\">\n",
       "  <thead>\n",
       "    <tr style=\"text-align: right;\">\n",
       "      <th></th>\n",
       "      <th>Id</th>\n",
       "      <th>Score</th>\n",
       "      <th>Estado</th>\n",
       "      <th>Genero</th>\n",
       "      <th>Idade</th>\n",
       "      <th>Patrimonio</th>\n",
       "      <th>Saldo</th>\n",
       "      <th>Produtos</th>\n",
       "      <th>TemCartCredito</th>\n",
       "      <th>Ativo</th>\n",
       "      <th>Salario</th>\n",
       "      <th>Saiu</th>\n",
       "    </tr>\n",
       "  </thead>\n",
       "  <tbody>\n",
       "  </tbody>\n",
       "</table>\n",
       "</div>"
      ],
      "text/plain": [
       "Empty DataFrame\n",
       "Columns: [Id, Score, Estado, Genero, Idade, Patrimonio, Saldo, Produtos, TemCartCredito, Ativo, Salario, Saiu]\n",
       "Index: []"
      ]
     },
     "execution_count": 36,
     "metadata": {},
     "output_type": "execute_result"
    }
   ],
   "source": [
    "# verificamos se ainda existem idade fora do domínio\n",
    "dataset.loc[(dataset['Idade'] < 0) | (dataset['Idade'] > 120)]"
   ]
  },
  {
   "cell_type": "code",
   "execution_count": 37,
   "id": "89cdcda1",
   "metadata": {},
   "outputs": [
    {
     "data": {
      "text/html": [
       "<div>\n",
       "<style scoped>\n",
       "    .dataframe tbody tr th:only-of-type {\n",
       "        vertical-align: middle;\n",
       "    }\n",
       "\n",
       "    .dataframe tbody tr th {\n",
       "        vertical-align: top;\n",
       "    }\n",
       "\n",
       "    .dataframe thead th {\n",
       "        text-align: right;\n",
       "    }\n",
       "</style>\n",
       "<table border=\"1\" class=\"dataframe\">\n",
       "  <thead>\n",
       "    <tr style=\"text-align: right;\">\n",
       "      <th></th>\n",
       "      <th>Id</th>\n",
       "      <th>Score</th>\n",
       "      <th>Estado</th>\n",
       "      <th>Genero</th>\n",
       "      <th>Idade</th>\n",
       "      <th>Patrimonio</th>\n",
       "      <th>Saldo</th>\n",
       "      <th>Produtos</th>\n",
       "      <th>TemCartCredito</th>\n",
       "      <th>Ativo</th>\n",
       "      <th>Salario</th>\n",
       "      <th>Saiu</th>\n",
       "    </tr>\n",
       "  </thead>\n",
       "  <tbody>\n",
       "    <tr>\n",
       "      <th>80</th>\n",
       "      <td>81</td>\n",
       "      <td>665</td>\n",
       "      <td>RS</td>\n",
       "      <td>Feminino</td>\n",
       "      <td>34</td>\n",
       "      <td>1</td>\n",
       "      <td>9664554</td>\n",
       "      <td>2</td>\n",
       "      <td>0</td>\n",
       "      <td>0</td>\n",
       "      <td>17141366.0</td>\n",
       "      <td>0</td>\n",
       "    </tr>\n",
       "    <tr>\n",
       "      <th>81</th>\n",
       "      <td>81</td>\n",
       "      <td>665</td>\n",
       "      <td>RS</td>\n",
       "      <td>Feminino</td>\n",
       "      <td>34</td>\n",
       "      <td>1</td>\n",
       "      <td>9664554</td>\n",
       "      <td>2</td>\n",
       "      <td>0</td>\n",
       "      <td>0</td>\n",
       "      <td>17141366.0</td>\n",
       "      <td>0</td>\n",
       "    </tr>\n",
       "  </tbody>\n",
       "</table>\n",
       "</div>"
      ],
      "text/plain": [
       "    Id  Score Estado    Genero  Idade  Patrimonio    Saldo  Produtos  \\\n",
       "80  81    665     RS  Feminino     34           1  9664554         2   \n",
       "81  81    665     RS  Feminino     34           1  9664554         2   \n",
       "\n",
       "    TemCartCredito  Ativo     Salario  Saiu  \n",
       "80               0      0  17141366.0     0  \n",
       "81               0      0  17141366.0     0  "
      ]
     },
     "execution_count": 37,
     "metadata": {},
     "output_type": "execute_result"
    }
   ],
   "source": [
    "# dados duplicados, buscamos pelo ID\n",
    "dataset[dataset.duplicated(['Id'],keep=False)]"
   ]
  },
  {
   "cell_type": "code",
   "execution_count": 38,
   "id": "dd7de813",
   "metadata": {},
   "outputs": [
    {
     "data": {
      "text/html": [
       "<div>\n",
       "<style scoped>\n",
       "    .dataframe tbody tr th:only-of-type {\n",
       "        vertical-align: middle;\n",
       "    }\n",
       "\n",
       "    .dataframe tbody tr th {\n",
       "        vertical-align: top;\n",
       "    }\n",
       "\n",
       "    .dataframe thead th {\n",
       "        text-align: right;\n",
       "    }\n",
       "</style>\n",
       "<table border=\"1\" class=\"dataframe\">\n",
       "  <thead>\n",
       "    <tr style=\"text-align: right;\">\n",
       "      <th></th>\n",
       "      <th>Id</th>\n",
       "      <th>Score</th>\n",
       "      <th>Estado</th>\n",
       "      <th>Genero</th>\n",
       "      <th>Idade</th>\n",
       "      <th>Patrimonio</th>\n",
       "      <th>Saldo</th>\n",
       "      <th>Produtos</th>\n",
       "      <th>TemCartCredito</th>\n",
       "      <th>Ativo</th>\n",
       "      <th>Salario</th>\n",
       "      <th>Saiu</th>\n",
       "    </tr>\n",
       "  </thead>\n",
       "  <tbody>\n",
       "  </tbody>\n",
       "</table>\n",
       "</div>"
      ],
      "text/plain": [
       "Empty DataFrame\n",
       "Columns: [Id, Score, Estado, Genero, Idade, Patrimonio, Saldo, Produtos, TemCartCredito, Ativo, Salario, Saiu]\n",
       "Index: []"
      ]
     },
     "execution_count": 38,
     "metadata": {},
     "output_type": "execute_result"
    }
   ],
   "source": [
    "# Excluído pelo Id \n",
    "dataset.drop_duplicates(subset='Id', keep='first', inplace=True)\n",
    "#buscamos duplicados\n",
    "dataset[dataset.duplicated(['Id'],keep=False)]"
   ]
  },
  {
   "cell_type": "code",
   "execution_count": 39,
   "id": "2d041a2e",
   "metadata": {},
   "outputs": [
    {
     "data": {
      "text/plain": [
       "Estado\n",
       "PR    257\n",
       "RP      1\n",
       "RS    477\n",
       "SC    258\n",
       "SP      4\n",
       "TD      1\n",
       "dtype: int64"
      ]
     },
     "execution_count": 39,
     "metadata": {},
     "output_type": "execute_result"
    }
   ],
   "source": [
    "# estado foram do domínio\n",
    "agrupado = dataset.groupby(['Estado']).size()\n",
    "agrupado"
   ]
  },
  {
   "cell_type": "code",
   "execution_count": 40,
   "id": "7218b33e",
   "metadata": {},
   "outputs": [],
   "source": [
    "# atribuímos RS (moda)\n",
    "dataset.loc[dataset['Estado'].isin(['RP','SP','TD']), 'Estado'] = 'RS'\n",
    "agrupado = dataset.groupby(['Estado']).size()"
   ]
  },
  {
   "cell_type": "code",
   "execution_count": 41,
   "id": "4927d025",
   "metadata": {},
   "outputs": [
    {
     "data": {
      "text/plain": [
       "Estado\n",
       "PR    257\n",
       "RS    483\n",
       "SC    258\n",
       "dtype: int64"
      ]
     },
     "execution_count": 41,
     "metadata": {},
     "output_type": "execute_result"
    }
   ],
   "source": [
    "# verificamos o resultado\n",
    "agrupado"
   ]
  },
  {
   "cell_type": "code",
   "execution_count": 42,
   "id": "d789ec95",
   "metadata": {},
   "outputs": [
    {
     "data": {
      "text/plain": [
       "528988918.4679201"
      ]
     },
     "execution_count": 42,
     "metadata": {},
     "output_type": "execute_result"
    }
   ],
   "source": [
    "# outliers em salario, vamos considerar 2 desvios padrão\n",
    "desv = sts.stdev(dataset['Salario'])\n",
    "desv"
   ]
  },
  {
   "cell_type": "code",
   "execution_count": 43,
   "id": "109c3207",
   "metadata": {},
   "outputs": [
    {
     "data": {
      "text/html": [
       "<div>\n",
       "<style scoped>\n",
       "    .dataframe tbody tr th:only-of-type {\n",
       "        vertical-align: middle;\n",
       "    }\n",
       "\n",
       "    .dataframe tbody tr th {\n",
       "        vertical-align: top;\n",
       "    }\n",
       "\n",
       "    .dataframe thead th {\n",
       "        text-align: right;\n",
       "    }\n",
       "</style>\n",
       "<table border=\"1\" class=\"dataframe\">\n",
       "  <thead>\n",
       "    <tr style=\"text-align: right;\">\n",
       "      <th></th>\n",
       "      <th>Id</th>\n",
       "      <th>Score</th>\n",
       "      <th>Estado</th>\n",
       "      <th>Genero</th>\n",
       "      <th>Idade</th>\n",
       "      <th>Patrimonio</th>\n",
       "      <th>Saldo</th>\n",
       "      <th>Produtos</th>\n",
       "      <th>TemCartCredito</th>\n",
       "      <th>Ativo</th>\n",
       "      <th>Salario</th>\n",
       "      <th>Saiu</th>\n",
       "    </tr>\n",
       "  </thead>\n",
       "  <tbody>\n",
       "    <tr>\n",
       "      <th>7</th>\n",
       "      <td>8</td>\n",
       "      <td>376</td>\n",
       "      <td>PR</td>\n",
       "      <td>Feminino</td>\n",
       "      <td>29</td>\n",
       "      <td>4</td>\n",
       "      <td>11504674</td>\n",
       "      <td>4</td>\n",
       "      <td>1</td>\n",
       "      <td>0</td>\n",
       "      <td>1.193469e+10</td>\n",
       "      <td>1</td>\n",
       "    </tr>\n",
       "    <tr>\n",
       "      <th>116</th>\n",
       "      <td>118</td>\n",
       "      <td>668</td>\n",
       "      <td>PR</td>\n",
       "      <td>Feminino</td>\n",
       "      <td>37</td>\n",
       "      <td>6</td>\n",
       "      <td>1678644</td>\n",
       "      <td>1</td>\n",
       "      <td>1</td>\n",
       "      <td>0</td>\n",
       "      <td>1.156383e+10</td>\n",
       "      <td>0</td>\n",
       "    </tr>\n",
       "    <tr>\n",
       "      <th>170</th>\n",
       "      <td>172</td>\n",
       "      <td>484</td>\n",
       "      <td>RS</td>\n",
       "      <td>Feminino</td>\n",
       "      <td>29</td>\n",
       "      <td>4</td>\n",
       "      <td>13011439</td>\n",
       "      <td>1</td>\n",
       "      <td>1</td>\n",
       "      <td>0</td>\n",
       "      <td>1.640179e+09</td>\n",
       "      <td>0</td>\n",
       "    </tr>\n",
       "    <tr>\n",
       "      <th>230</th>\n",
       "      <td>232</td>\n",
       "      <td>673</td>\n",
       "      <td>RS</td>\n",
       "      <td>Masculino</td>\n",
       "      <td>72</td>\n",
       "      <td>1</td>\n",
       "      <td>0</td>\n",
       "      <td>2</td>\n",
       "      <td>0</td>\n",
       "      <td>1</td>\n",
       "      <td>1.119812e+09</td>\n",
       "      <td>0</td>\n",
       "    </tr>\n",
       "  </tbody>\n",
       "</table>\n",
       "</div>"
      ],
      "text/plain": [
       "      Id  Score Estado     Genero  Idade  Patrimonio     Saldo  Produtos  \\\n",
       "7      8    376     PR   Feminino     29           4  11504674         4   \n",
       "116  118    668     PR   Feminino     37           6   1678644         1   \n",
       "170  172    484     RS   Feminino     29           4  13011439         1   \n",
       "230  232    673     RS  Masculino     72           1         0         2   \n",
       "\n",
       "     TemCartCredito  Ativo       Salario  Saiu  \n",
       "7                 1      0  1.193469e+10     1  \n",
       "116               1      0  1.156383e+10     0  \n",
       "170               1      0  1.640179e+09     0  \n",
       "230               0      1  1.119812e+09     0  "
      ]
     },
     "execution_count": 43,
     "metadata": {},
     "output_type": "execute_result"
    }
   ],
   "source": [
    "# definir padrão como maior que 2 desvios padrão\n",
    "# checamos se algum atende critério\n",
    "dataset.loc[dataset['Salario'] >= 2 * desv]"
   ]
  },
  {
   "cell_type": "code",
   "execution_count": 44,
   "id": "2af7df2d",
   "metadata": {},
   "outputs": [
    {
     "data": {
      "text/plain": [
       "8637195.5"
      ]
     },
     "execution_count": 44,
     "metadata": {},
     "output_type": "execute_result"
    }
   ],
   "source": [
    "# vamos atualizar salários para mediana, calculamos \n",
    "mediana = sts.median(dataset['Salario'])\n",
    "mediana"
   ]
  },
  {
   "cell_type": "code",
   "execution_count": 45,
   "id": "0f35537a",
   "metadata": {},
   "outputs": [
    {
     "data": {
      "text/html": [
       "<div>\n",
       "<style scoped>\n",
       "    .dataframe tbody tr th:only-of-type {\n",
       "        vertical-align: middle;\n",
       "    }\n",
       "\n",
       "    .dataframe tbody tr th {\n",
       "        vertical-align: top;\n",
       "    }\n",
       "\n",
       "    .dataframe thead th {\n",
       "        text-align: right;\n",
       "    }\n",
       "</style>\n",
       "<table border=\"1\" class=\"dataframe\">\n",
       "  <thead>\n",
       "    <tr style=\"text-align: right;\">\n",
       "      <th></th>\n",
       "      <th>Id</th>\n",
       "      <th>Score</th>\n",
       "      <th>Estado</th>\n",
       "      <th>Genero</th>\n",
       "      <th>Idade</th>\n",
       "      <th>Patrimonio</th>\n",
       "      <th>Saldo</th>\n",
       "      <th>Produtos</th>\n",
       "      <th>TemCartCredito</th>\n",
       "      <th>Ativo</th>\n",
       "      <th>Salario</th>\n",
       "      <th>Saiu</th>\n",
       "    </tr>\n",
       "  </thead>\n",
       "  <tbody>\n",
       "  </tbody>\n",
       "</table>\n",
       "</div>"
      ],
      "text/plain": [
       "Empty DataFrame\n",
       "Columns: [Id, Score, Estado, Genero, Idade, Patrimonio, Saldo, Produtos, TemCartCredito, Ativo, Salario, Saiu]\n",
       "Index: []"
      ]
     },
     "execution_count": 45,
     "metadata": {},
     "output_type": "execute_result"
    }
   ],
   "source": [
    "# atribuímos\n",
    "dataset.loc[dataset['Salario'] >= 2 * desv, 'Salario'] = mediana\n",
    "# checamos se algum atende critério\n",
    "dataset.loc[dataset['Salario'] >= 2 * desv]"
   ]
  },
  {
   "cell_type": "code",
   "execution_count": 46,
   "id": "7df2ba41",
   "metadata": {},
   "outputs": [
    {
     "data": {
      "text/html": [
       "<div>\n",
       "<style scoped>\n",
       "    .dataframe tbody tr th:only-of-type {\n",
       "        vertical-align: middle;\n",
       "    }\n",
       "\n",
       "    .dataframe tbody tr th {\n",
       "        vertical-align: top;\n",
       "    }\n",
       "\n",
       "    .dataframe thead th {\n",
       "        text-align: right;\n",
       "    }\n",
       "</style>\n",
       "<table border=\"1\" class=\"dataframe\">\n",
       "  <thead>\n",
       "    <tr style=\"text-align: right;\">\n",
       "      <th></th>\n",
       "      <th>Id</th>\n",
       "      <th>Score</th>\n",
       "      <th>Estado</th>\n",
       "      <th>Genero</th>\n",
       "      <th>Idade</th>\n",
       "      <th>Patrimonio</th>\n",
       "      <th>Saldo</th>\n",
       "      <th>Produtos</th>\n",
       "      <th>TemCartCredito</th>\n",
       "      <th>Ativo</th>\n",
       "      <th>Salario</th>\n",
       "      <th>Saiu</th>\n",
       "    </tr>\n",
       "  </thead>\n",
       "  <tbody>\n",
       "    <tr>\n",
       "      <th>0</th>\n",
       "      <td>1</td>\n",
       "      <td>619</td>\n",
       "      <td>RS</td>\n",
       "      <td>Feminino</td>\n",
       "      <td>42</td>\n",
       "      <td>2</td>\n",
       "      <td>0</td>\n",
       "      <td>1</td>\n",
       "      <td>1</td>\n",
       "      <td>1</td>\n",
       "      <td>10134888.0</td>\n",
       "      <td>1</td>\n",
       "    </tr>\n",
       "    <tr>\n",
       "      <th>1</th>\n",
       "      <td>2</td>\n",
       "      <td>608</td>\n",
       "      <td>SC</td>\n",
       "      <td>Feminino</td>\n",
       "      <td>41</td>\n",
       "      <td>1</td>\n",
       "      <td>8380786</td>\n",
       "      <td>1</td>\n",
       "      <td>0</td>\n",
       "      <td>1</td>\n",
       "      <td>11254258.0</td>\n",
       "      <td>0</td>\n",
       "    </tr>\n",
       "    <tr>\n",
       "      <th>2</th>\n",
       "      <td>3</td>\n",
       "      <td>502</td>\n",
       "      <td>RS</td>\n",
       "      <td>Feminino</td>\n",
       "      <td>42</td>\n",
       "      <td>8</td>\n",
       "      <td>1596608</td>\n",
       "      <td>3</td>\n",
       "      <td>1</td>\n",
       "      <td>0</td>\n",
       "      <td>11393157.0</td>\n",
       "      <td>1</td>\n",
       "    </tr>\n",
       "    <tr>\n",
       "      <th>3</th>\n",
       "      <td>4</td>\n",
       "      <td>699</td>\n",
       "      <td>RS</td>\n",
       "      <td>Feminino</td>\n",
       "      <td>39</td>\n",
       "      <td>1</td>\n",
       "      <td>0</td>\n",
       "      <td>2</td>\n",
       "      <td>0</td>\n",
       "      <td>0</td>\n",
       "      <td>9382663.0</td>\n",
       "      <td>0</td>\n",
       "    </tr>\n",
       "    <tr>\n",
       "      <th>4</th>\n",
       "      <td>5</td>\n",
       "      <td>850</td>\n",
       "      <td>SC</td>\n",
       "      <td>Feminino</td>\n",
       "      <td>43</td>\n",
       "      <td>2</td>\n",
       "      <td>12551082</td>\n",
       "      <td>1</td>\n",
       "      <td>1</td>\n",
       "      <td>1</td>\n",
       "      <td>790841.0</td>\n",
       "      <td>0</td>\n",
       "    </tr>\n",
       "  </tbody>\n",
       "</table>\n",
       "</div>"
      ],
      "text/plain": [
       "   Id  Score Estado    Genero  Idade  Patrimonio     Saldo  Produtos  \\\n",
       "0   1    619     RS  Feminino     42           2         0         1   \n",
       "1   2    608     SC  Feminino     41           1   8380786         1   \n",
       "2   3    502     RS  Feminino     42           8   1596608         3   \n",
       "3   4    699     RS  Feminino     39           1         0         2   \n",
       "4   5    850     SC  Feminino     43           2  12551082         1   \n",
       "\n",
       "   TemCartCredito  Ativo     Salario  Saiu  \n",
       "0               1      1  10134888.0     1  \n",
       "1               0      1  11254258.0     0  \n",
       "2               1      0  11393157.0     1  \n",
       "3               0      0   9382663.0     0  \n",
       "4               1      1    790841.0     0  "
      ]
     },
     "execution_count": 46,
     "metadata": {},
     "output_type": "execute_result"
    }
   ],
   "source": [
    "# Visualizando o DataSet\n",
    "dataset.head()"
   ]
  },
  {
   "cell_type": "code",
   "execution_count": 47,
   "id": "24a498dd",
   "metadata": {},
   "outputs": [
    {
     "data": {
      "text/plain": [
       "(998, 12)"
      ]
     },
     "execution_count": 47,
     "metadata": {},
     "output_type": "execute_result"
    }
   ],
   "source": [
    "# Verificamos o tamanho\n",
    "dataset.shape"
   ]
  }
 ],
 "metadata": {
  "kernelspec": {
   "display_name": "Python 3.9.12 ('venv': venv)",
   "language": "python",
   "name": "python3"
  },
  "language_info": {
   "codemirror_mode": {
    "name": "ipython",
    "version": 3
   },
   "file_extension": ".py",
   "mimetype": "text/x-python",
   "name": "python",
   "nbconvert_exporter": "python",
   "pygments_lexer": "ipython3",
   "version": "3.9.12"
  },
  "vscode": {
   "interpreter": {
    "hash": "fea19b5a4fed20f0abd4b41fa1930df0fe4b8c94eabf60df86233fb8f94f9656"
   }
  }
 },
 "nbformat": 4,
 "nbformat_minor": 5
}
