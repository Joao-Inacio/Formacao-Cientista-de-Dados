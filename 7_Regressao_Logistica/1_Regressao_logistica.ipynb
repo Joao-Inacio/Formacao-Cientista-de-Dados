{
 "cells": [
  {
   "cell_type": "markdown",
   "metadata": {},
   "source": [
    "#### Formação Cientista de Dados\n",
    "* Regressão Logística"
   ]
  },
  {
   "cell_type": "code",
   "execution_count": 1,
   "metadata": {},
   "outputs": [],
   "source": [
    "# Importação das bibliotecas\n",
    "import pandas as pd\n",
    "import matplotlib.pyplot as plt\n",
    "import numpy as np\n",
    "from sklearn.linear_model import LogisticRegression"
   ]
  },
  {
   "cell_type": "code",
   "execution_count": 2,
   "metadata": {},
   "outputs": [
    {
     "data": {
      "text/html": [
       "<div>\n",
       "<style scoped>\n",
       "    .dataframe tbody tr th:only-of-type {\n",
       "        vertical-align: middle;\n",
       "    }\n",
       "\n",
       "    .dataframe tbody tr th {\n",
       "        vertical-align: top;\n",
       "    }\n",
       "\n",
       "    .dataframe thead th {\n",
       "        text-align: right;\n",
       "    }\n",
       "</style>\n",
       "<table border=\"1\" class=\"dataframe\">\n",
       "  <thead>\n",
       "    <tr style=\"text-align: right;\">\n",
       "      <th></th>\n",
       "      <th>SITUACAO</th>\n",
       "      <th>DESPESAS</th>\n",
       "    </tr>\n",
       "  </thead>\n",
       "  <tbody>\n",
       "    <tr>\n",
       "      <th>count</th>\n",
       "      <td>47.000000</td>\n",
       "      <td>47.000000</td>\n",
       "    </tr>\n",
       "    <tr>\n",
       "      <th>mean</th>\n",
       "      <td>0.510638</td>\n",
       "      <td>1085.744681</td>\n",
       "    </tr>\n",
       "    <tr>\n",
       "      <th>std</th>\n",
       "      <td>0.505291</td>\n",
       "      <td>870.968338</td>\n",
       "    </tr>\n",
       "    <tr>\n",
       "      <th>min</th>\n",
       "      <td>0.000000</td>\n",
       "      <td>10.000000</td>\n",
       "    </tr>\n",
       "    <tr>\n",
       "      <th>25%</th>\n",
       "      <td>0.000000</td>\n",
       "      <td>300.000000</td>\n",
       "    </tr>\n",
       "    <tr>\n",
       "      <th>50%</th>\n",
       "      <td>1.000000</td>\n",
       "      <td>800.000000</td>\n",
       "    </tr>\n",
       "    <tr>\n",
       "      <th>75%</th>\n",
       "      <td>1.000000</td>\n",
       "      <td>1700.000000</td>\n",
       "    </tr>\n",
       "    <tr>\n",
       "      <th>max</th>\n",
       "      <td>1.000000</td>\n",
       "      <td>3300.000000</td>\n",
       "    </tr>\n",
       "  </tbody>\n",
       "</table>\n",
       "</div>"
      ],
      "text/plain": [
       "        SITUACAO     DESPESAS\n",
       "count  47.000000    47.000000\n",
       "mean    0.510638  1085.744681\n",
       "std     0.505291   870.968338\n",
       "min     0.000000    10.000000\n",
       "25%     0.000000   300.000000\n",
       "50%     1.000000   800.000000\n",
       "75%     1.000000  1700.000000\n",
       "max     1.000000  3300.000000"
      ]
     },
     "execution_count": 2,
     "metadata": {},
     "output_type": "execute_result"
    },
    {
     "data": {
      "image/png": "[encoded data removed]",
      "text/plain": [
       "<Figure size 432x288 with 1 Axes>"
      ]
     },
     "metadata": {},
     "output_type": "display_data"
    }
   ],
   "source": [
    "# Carregamento da base de dados\n",
    "base = pd.read_csv('./Data/Eleicao.csv', sep=';')\n",
    "# visualização de gráfico com os pontos e visualização de estatísticas\n",
    "plt.scatter(base.DESPESAS, base.SITUACAO)\n",
    "base.describe()"
   ]
  },
  {
   "cell_type": "code",
   "execution_count": 3,
   "metadata": {},
   "outputs": [
    {
     "data": {
      "text/html": [
       "<div>\n",
       "<style scoped>\n",
       "    .dataframe tbody tr th:only-of-type {\n",
       "        vertical-align: middle;\n",
       "    }\n",
       "\n",
       "    .dataframe tbody tr th {\n",
       "        vertical-align: top;\n",
       "    }\n",
       "\n",
       "    .dataframe thead th {\n",
       "        text-align: right;\n",
       "    }\n",
       "</style>\n",
       "<table border=\"1\" class=\"dataframe\">\n",
       "  <thead>\n",
       "    <tr style=\"text-align: right;\">\n",
       "      <th></th>\n",
       "      <th>CANDIDATO</th>\n",
       "      <th>SITUACAO</th>\n",
       "      <th>DESPESAS</th>\n",
       "    </tr>\n",
       "  </thead>\n",
       "  <tbody>\n",
       "    <tr>\n",
       "      <th>0</th>\n",
       "      <td>George Turner</td>\n",
       "      <td>0</td>\n",
       "      <td>10</td>\n",
       "    </tr>\n",
       "    <tr>\n",
       "      <th>1</th>\n",
       "      <td>Victor Johnson</td>\n",
       "      <td>0</td>\n",
       "      <td>100</td>\n",
       "    </tr>\n",
       "    <tr>\n",
       "      <th>2</th>\n",
       "      <td>Jerry Perry</td>\n",
       "      <td>1</td>\n",
       "      <td>1600</td>\n",
       "    </tr>\n",
       "    <tr>\n",
       "      <th>3</th>\n",
       "      <td>Shirley Cook</td>\n",
       "      <td>1</td>\n",
       "      <td>1500</td>\n",
       "    </tr>\n",
       "    <tr>\n",
       "      <th>4</th>\n",
       "      <td>Carolyn Bailey</td>\n",
       "      <td>1</td>\n",
       "      <td>3300</td>\n",
       "    </tr>\n",
       "  </tbody>\n",
       "</table>\n",
       "</div>"
      ],
      "text/plain": [
       "        CANDIDATO  SITUACAO  DESPESAS\n",
       "0   George Turner         0        10\n",
       "1  Victor Johnson         0       100\n",
       "2     Jerry Perry         1      1600\n",
       "3    Shirley Cook         1      1500\n",
       "4  Carolyn Bailey         1      3300"
      ]
     },
     "execution_count": 3,
     "metadata": {},
     "output_type": "execute_result"
    }
   ],
   "source": [
    "# Visualizando o cabeçalho \n",
    "base.head()"
   ]
  },
  {
   "cell_type": "code",
   "execution_count": 4,
   "metadata": {},
   "outputs": [
    {
     "data": {
      "text/plain": [
       "array([[1.        , 0.81218717],\n",
       "       [0.81218717, 1.        ]])"
      ]
     },
     "execution_count": 4,
     "metadata": {},
     "output_type": "execute_result"
    }
   ],
   "source": [
    "# Visualização o coeficiente de correlação entre o atributo \"despesas\" e \"situação\"\n",
    "np.corrcoef(base.DESPESAS, base.SITUACAO)"
   ]
  },
  {
   "cell_type": "code",
   "execution_count": 5,
   "metadata": {},
   "outputs": [
    {
     "data": {
      "text/plain": [
       "array([[  10],\n",
       "       [ 100],\n",
       "       [1600],\n",
       "       [1500],\n",
       "       [3300],\n",
       "       [ 200],\n",
       "       [1800],\n",
       "       [1700],\n",
       "       [ 300],\n",
       "       [1800],\n",
       "       [ 100],\n",
       "       [ 500],\n",
       "       [3000],\n",
       "       [  20],\n",
       "       [ 200],\n",
       "       [ 700],\n",
       "       [1600],\n",
       "       [1900],\n",
       "       [ 100],\n",
       "       [ 400],\n",
       "       [2700],\n",
       "       [ 200],\n",
       "       [ 300],\n",
       "       [ 500],\n",
       "       [2500],\n",
       "       [1400],\n",
       "       [ 700],\n",
       "       [1700],\n",
       "       [1400],\n",
       "       [1600],\n",
       "       [ 400],\n",
       "       [ 200],\n",
       "       [1600],\n",
       "       [2200],\n",
       "       [1900],\n",
       "       [ 200],\n",
       "       [1200],\n",
       "       [1700],\n",
       "       [1500],\n",
       "       [2100],\n",
       "       [ 400],\n",
       "       [ 800],\n",
       "       [ 400],\n",
       "       [ 500],\n",
       "       [1000],\n",
       "       [ 300],\n",
       "       [ 800]], dtype=int64)"
      ]
     },
     "execution_count": 5,
     "metadata": {},
     "output_type": "execute_result"
    }
   ],
   "source": [
    "# Criação das variáveis X e y (variável independente e variável dependente)\n",
    "# Transformação de X para o formato de matriz adicionando um novo eixo (newaxis)\n",
    "X = base.iloc[:, 2].values\n",
    "X = X[:, np.newaxis]\n",
    "y = base.iloc[:, 1].values\n",
    "X"
   ]
  },
  {
   "cell_type": "code",
   "execution_count": 6,
   "metadata": {},
   "outputs": [
    {
     "data": {
      "text/plain": [
       "LogisticRegression()"
      ]
     },
     "execution_count": 6,
     "metadata": {},
     "output_type": "execute_result"
    }
   ],
   "source": [
    "# Criação do modelo, treinamento e visualização dos coeficientes\n",
    "modelo = LogisticRegression()\n",
    "modelo.fit(X, y)"
   ]
  },
  {
   "cell_type": "code",
   "execution_count": 7,
   "metadata": {},
   "outputs": [
    {
     "name": "stdout",
     "output_type": "stream",
     "text": [
      "Coeficiente Angular: [[0.00498364]] \n",
      " Coeficiente Linear [-4.60287217]\n"
     ]
    }
   ],
   "source": [
    "# Coeficiente Angular e Coeficiente de intercessão\n",
    "a_coeff = modelo.coef_\n",
    "l_coeff = modelo.intercept_\n",
    "# Visualizando os Coeficiente \n",
    "print(f'Coeficiente Angular: {a_coeff} \\n Coeficiente Linear {l_coeff}')"
   ]
  },
  {
   "cell_type": "code",
   "execution_count": 8,
   "metadata": {},
   "outputs": [
    {
     "data": {
      "text/plain": [
       "[<matplotlib.lines.Line2D at 0x212ffe28340>]"
      ]
     },
     "execution_count": 8,
     "metadata": {},
     "output_type": "execute_result"
    },
    {
     "data": {
      "image/png": "[encoded data removed]",
      "text/plain": [
       "<Figure size 432x288 with 1 Axes>"
      ]
     },
     "metadata": {},
     "output_type": "display_data"
    }
   ],
   "source": [
    "plt.scatter(X, y)\n",
    "# Geração de novos dados para gerar a função sigmoide\n",
    "X_teste = np.linspace(10, 3000, 100)\n",
    "# Implementação da função sigmoide\n",
    "def model(x):\n",
    "    return 1 / (1 + np.exp(-x))\n",
    "# Geração de previsões (variável r) e visualização dos resultados\n",
    "r = model(X_teste * modelo.coef_ + modelo.intercept_).ravel()\n",
    "plt.plot(X_teste, r, color = 'red')"
   ]
  },
  {
   "cell_type": "code",
   "execution_count": 10,
   "metadata": {},
   "outputs": [],
   "source": [
    "# Carregamento da base de dados com os novos candidatos\n",
    "base_previsoes = pd.read_csv('./Data/NovosCandidatos.csv', sep = ';')"
   ]
  },
  {
   "cell_type": "code",
   "execution_count": 11,
   "metadata": {},
   "outputs": [
    {
     "data": {
      "text/html": [
       "<div>\n",
       "<style scoped>\n",
       "    .dataframe tbody tr th:only-of-type {\n",
       "        vertical-align: middle;\n",
       "    }\n",
       "\n",
       "    .dataframe tbody tr th {\n",
       "        vertical-align: top;\n",
       "    }\n",
       "\n",
       "    .dataframe thead th {\n",
       "        text-align: right;\n",
       "    }\n",
       "</style>\n",
       "<table border=\"1\" class=\"dataframe\">\n",
       "  <thead>\n",
       "    <tr style=\"text-align: right;\">\n",
       "      <th></th>\n",
       "      <th>CANDIDATO</th>\n",
       "      <th>DESPESAS</th>\n",
       "    </tr>\n",
       "  </thead>\n",
       "  <tbody>\n",
       "    <tr>\n",
       "      <th>0</th>\n",
       "      <td>A</td>\n",
       "      <td>0</td>\n",
       "    </tr>\n",
       "    <tr>\n",
       "      <th>1</th>\n",
       "      <td>B</td>\n",
       "      <td>10</td>\n",
       "    </tr>\n",
       "    <tr>\n",
       "      <th>2</th>\n",
       "      <td>C</td>\n",
       "      <td>200</td>\n",
       "    </tr>\n",
       "    <tr>\n",
       "      <th>3</th>\n",
       "      <td>D</td>\n",
       "      <td>500</td>\n",
       "    </tr>\n",
       "    <tr>\n",
       "      <th>4</th>\n",
       "      <td>E</td>\n",
       "      <td>900</td>\n",
       "    </tr>\n",
       "  </tbody>\n",
       "</table>\n",
       "</div>"
      ],
      "text/plain": [
       "  CANDIDATO  DESPESAS\n",
       "0         A         0\n",
       "1         B        10\n",
       "2         C       200\n",
       "3         D       500\n",
       "4         E       900"
      ]
     },
     "execution_count": 11,
     "metadata": {},
     "output_type": "execute_result"
    }
   ],
   "source": [
    "# Visualizando\n",
    "base_previsoes.head()"
   ]
  },
  {
   "cell_type": "code",
   "execution_count": 12,
   "metadata": {},
   "outputs": [
    {
     "data": {
      "text/plain": [
       "array([0, 0, 0, 0, 0, 1, 1], dtype=int64)"
      ]
     },
     "execution_count": 12,
     "metadata": {},
     "output_type": "execute_result"
    }
   ],
   "source": [
    "# Mudança dos dados para formato de matriz\n",
    "despesas = base_previsoes.iloc[:, 1].values\n",
    "despesas = despesas.reshape(-1, 1)\n",
    "# Previsões e geração de nova base de dados com os valores originais e as previsões\n",
    "previsoes_teste = modelo.predict(despesas)\n",
    "previsoes_teste"
   ]
  },
  {
   "cell_type": "code",
   "execution_count": 13,
   "metadata": {},
   "outputs": [
    {
     "data": {
      "text/plain": [
       "array([['A', 0, 0],\n",
       "       ['B', 10, 0],\n",
       "       ['C', 200, 0],\n",
       "       ['D', 500, 0],\n",
       "       ['E', 900, 0],\n",
       "       ['F', 1500, 1],\n",
       "       ['G', 3000, 1]], dtype=object)"
      ]
     },
     "execution_count": 13,
     "metadata": {},
     "output_type": "execute_result"
    }
   ],
   "source": [
    "# Adicionado a previsões no conjunto de dados\n",
    "base_previsoes = np.column_stack((base_previsoes, previsoes_teste))\n",
    "base_previsoes"
   ]
  }
 ],
 "metadata": {
  "interpreter": {
   "hash": "fea19b5a4fed20f0abd4b41fa1930df0fe4b8c94eabf60df86233fb8f94f9656"
  },
  "kernelspec": {
   "display_name": "Python 3.9.12 ('venv': venv)",
   "language": "python",
   "name": "python3"
  },
  "language_info": {
   "codemirror_mode": {
    "name": "ipython",
    "version": 3
   },
   "file_extension": ".py",
   "mimetype": "text/x-python",
   "name": "python",
   "nbconvert_exporter": "python",
   "pygments_lexer": "ipython3",
   "version": "3.9.12"
  },
  "orig_nbformat": 4
 },
 "nbformat": 4,
 "nbformat_minor": 2
}
