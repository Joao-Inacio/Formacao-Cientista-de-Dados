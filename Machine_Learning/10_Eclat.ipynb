{
 "cells": [
  {
   "cell_type": "markdown",
   "metadata": {},
   "source": [
    "### Formação Cientista de Dados\n",
    "* Algoritmo ECLAT"
   ]
  },
  {
   "cell_type": "code",
   "execution_count": 1,
   "metadata": {},
   "outputs": [],
   "source": [
    "# Função pronta para o algoritmo ECLAT (atualmente o algoritmo não está disponível em uma biblioteca)\n",
    "import os;\n",
    "import sys;\n",
    "import numpy as np;\n",
    "import datetime as dt;\n",
    "from numpy import linalg as LA;\n",
    "import optparse;\n",
    "import argparse;"
   ]
  },
  {
   "cell_type": "code",
   "execution_count": 2,
   "metadata": {},
   "outputs": [],
   "source": [
    "# Global variable \n",
    "#containing all frequent patterns with its tid's\n",
    "F =[];\n",
    "# Time calculation\n",
    "#start_time =0;\n",
    "#end_time=0;\n",
    "\n",
    "# Pattern class:\n",
    "class Pattern:\n",
    "\tdef __init__(self, item, tids):\n",
    "\t\t# list of item Id's in the pattern\n",
    "\t\tself.item_id = item;\n",
    "\t\t# tid of the pattern\n",
    "\t\tself.tid_list = tids;\n",
    "\n",
    "\t# union operation of item Id's for two patterns to get ID of candidate pattern\n",
    "\tdef \tunion_id(self,next_node):\n",
    "\t\tt = set(self.item_id);\n",
    "\t\ttt = set(next_node.item_id);\n",
    "\t\tnew = t | tt;\n",
    "\t\tnew_id = list(new);\n",
    "\t\tnew_id.sort();\n",
    "\t\treturn new_id;\n",
    "\n",
    "\t# intersection of tid's of two patterns to find tid of candidate pattern\n",
    "\tdef \tintersec_tid_list(self,next_node):\n",
    "\t\tt = set(self.tid_list);\n",
    "\t\ttt = set(next_node.tid_list);\n",
    "\t\tnew = t & tt;\n",
    "\t\tnew_list = list(new);\n",
    "\t\tnew_list.sort();\n",
    "\t\treturn new_list;\n",
    "\t\n",
    "\t# returns support value for the pattern\n",
    "\tdef\tgetSup(self):\n",
    "\t\treturn len(self.tid_list);\n",
    "\t\n",
    "\t\n",
    "#\tdef\tcompare(self,n):\n",
    "#\t\tif self.item_id == n.item_id:\n",
    "#\t\t\treturn 1;\n",
    "#\t\treturn 0;\n",
    "\n",
    "\t#Candidate generation & check for support\t\n",
    "\tdef\tgenerate_check(self, n , minsup):\n",
    "\t\t\n",
    "\t\t# generating tid_list first\n",
    "\t\ttemp_tid_list = self.intersec_tid_list(n);\n",
    "\t\t\n",
    "\t\t# if support for new candidate is >= minsup then only generate ID for that candidate\t\t\n",
    "\t\tif len(temp_tid_list) >= minsup:\n",
    "\t\t\ttemp_id = self.union_id(n);\n",
    "\t\t\treturn (temp_id,temp_tid_list);\n",
    "\t\telse:\n",
    "\t\t\treturn ([],[]);\n",
    "\tdef\tpattern_print(self):\n",
    "\t\tpattern_ID = str(\"\");\n",
    "\t\tfor i in self.item_id:\n",
    "\t\t\tpattern_ID = pattern_ID + str(i) + ' ';\n",
    "\t\tprint(pattern_ID + '\\t\\t : ' + str(self.tid_list)); \n",
    "\t\t\t\n",
    "#End of Pattern class"
   ]
  },
  {
   "cell_type": "code",
   "execution_count": 3,
   "metadata": {},
   "outputs": [],
   "source": [
    "# Pattern Store class:\n",
    "class PatternStore:\n",
    "\tdef \t__init__(self):\n",
    "\t\tself.Pattern_list = [];\n",
    "\t\n",
    "\t# Add a whole group of pattern to the list\n",
    "\tdef\taddGroup(self,list_nodes):\n",
    "\t\tfor n in list_nodes:\n",
    "\t\t\tself.Pattern_list.append(n);\n",
    "\n",
    "\t# Retursn i_th pattern from the list if available\n",
    "\tdef\tgetNode(self,index):\n",
    "\t\tif index < len(self.Pattern_list):\n",
    "\t\t\treturn self.Pattern_list[index];\n",
    "\t\telse:\n",
    "\t\t\treturn [];\n",
    "\t\n",
    "\t# To Fallow DFS method: Recursive function is used - to calculate all frequent patterns from the 1st level frequent list\n",
    "\tdef \tEclat(self,minsup):\n",
    "\t\tfor node in self.Pattern_list:\n",
    "\t\t\tF.append(node);\n",
    "\t\t\tnew_P = PatternStore();\n",
    "\t\t\t# As all patterns are sorted initially get only next pattern from the current\n",
    "\t\t\tindex = self.Pattern_list.index(node);\n",
    "\t\t\ti = index +1;\n",
    "\t\t\tn = self.getNode(i);\n",
    "\t\t\t\n",
    "\t\t\twhile n:\n",
    "\t\t\t\t# Here I am doing 2 steps togather: 1- candidate generation & 2- checking for minsup\n",
    "\t\t\t\t(temp_id,temp_tid_list) = node.generate_check(n,minsup);\n",
    "\t\t\t\t# if temp_id is not empty\t\t\t\t\n",
    "\t\t\t\tif temp_id:\t\t\t\t\n",
    "\t\t\t\t\tnew_P.Pattern_list.append(Pattern(temp_id,temp_tid_list));\n",
    "\t\t\t\ti = i +1;\n",
    "\t\t\t\t# get next node from the list\n",
    "\t\t\t\tn = self.getNode(i);\n",
    "\t\t\t# if any possible pattern child go to child first, DFS\n",
    "\t\t\tif new_P.Pattern_list:\n",
    "\t\t\t\tnew_P.Eclat(minsup);\n",
    "\n",
    "#End of PatternStore class"
   ]
  },
  {
   "cell_type": "code",
   "execution_count": 4,
   "metadata": {},
   "outputs": [],
   "source": [
    "class DBReader:\n",
    "\n",
    "\tdef\t__init__(self,filetoread):\n",
    "\t\tself.file_id = filetoread;\n",
    "\tdef\treadFile(self):\n",
    "\t\t# stores each transaction\n",
    "\t\tself.trans=[];\n",
    "\t\t# stores no of items in each tansaction\n",
    "\t\tself.no_items = [];\n",
    "\t\tfor\tline\tin\tself.file_id:\n",
    "\t\t\ttuplex=line.split(\" \");\n",
    "\t\t\tmylist=[];\n",
    "\t\t\tself.no_items.append(tuplex[0]);\n",
    "\t\t\tfor\tposition\tin\trange(1,len(tuplex)):\n",
    "\t\t\t\tmylist.append(tuplex[position]);\t\n",
    "\t\n",
    "\t\t\tself.trans.append(mylist);\n",
    "\n",
    "\t# From transactions: generate patterns and prepare a list\n",
    "\tdef\tgenPatternList(self):\n",
    "\t\t#all items\n",
    "\t\ttemp = [item for sublist in self.trans for item in sublist];\n",
    "\n",
    "\t\t#removing duplicates\n",
    "\t\tmy_set = set(temp)\n",
    "\t\tself.items = list(my_set)\n",
    "\n",
    "\t\t#put in sorted oirder\n",
    "\t\tself.items.sort();\n",
    "\t\t\n",
    "\t\t# generate level_1 pattern list\n",
    "\t\tself.level_1 = [];\n",
    "\n",
    "\t\t# Start the timmer as candidate generation for level 1 is a part of Eclat algorithm.\n",
    "\t\tstart_time = dt.datetime.now();\t\t\n",
    "\t\t\n",
    "\t\t#generate all candidates for level 1\n",
    "\t\tfor it in self.items:\n",
    "\t\t\titem = [];\n",
    "\t\t\titem.append(it)\n",
    "\t\t\tself.level_1.append(Pattern(item,[]));\t\n",
    "\t\t\n",
    "\t\t# generate tid_list for every items in level 1 \n",
    "\t\ti=0;\n",
    "\t\tfor t in self.trans:\n",
    "\t\t\ti = i + 1;\n",
    "\t\t\tt.sort();\n",
    "\t\t\tfor it_id in t:\n",
    "\t\t\t\tindex = self.items.index(it_id);\n",
    "\t\t\t\tself.level_1[index].tid_list.append(i);\n",
    "\t\n",
    "\t\treturn start_time;\n",
    "\n",
    "\t# returns frequent patterns\n",
    "\tdef\tgetFrequent(self,minsup):\n",
    "\t\tself.P = [];\n",
    "\t\tfor n in self.level_1:\n",
    "\t\t\tc = int(n.getSup());\n",
    "\t\t\tif  c >= minsup:\n",
    "\t\t\t\t#print c;\n",
    "\t\t\t\tself.P.append(n);\n",
    "\t\treturn self.P;\n",
    "\n",
    "#End of DBReader class"
   ]
  },
  {
   "cell_type": "code",
   "execution_count": 5,
   "metadata": {},
   "outputs": [],
   "source": [
    "def main(file, support):\n",
    "\t#printing flag\n",
    "\tp_flag = 1;\n",
    "\n",
    "\t#parser = optparse.OptionParser(\"usage: %prog [options] arg1 arg2\")\n",
    "\t#parser.add_option(\"-f\",  dest=\"filename\", default=\"data.txt\", type=\"string\", help=\"specify filename to run on\");\n",
    "\t#parser.add_option(\"-s\",  dest=\"supnum\", default=0, type=\"int\", help=\"give minimun support to run on\");\n",
    "\t#parser.add_option(\"-p\",  dest=\"p\", default=1, type=\"int\");\n",
    "\t#(options, args) = parser.parse_args();\n",
    "\n",
    "\tparser = argparse.ArgumentParser();\n",
    "\tparser.add_argument(\"-f\",\"--filename\");\n",
    "\tparser.add_argument(\"-s\",\"--supnum\", type=int);\n",
    "\tparser.add_argument(\"-p\", \"--print_flag\", action=\"store_true\");\n",
    "\targs = parser.parse_args();\n",
    "\t\n",
    " \n",
    "\t#if\tlen(sys.argv) < 3:\n",
    "\t#\tprint('Please give me the filename &  minimum support value'+os.linesep);\n",
    "\t#\tsys.exit(1);\n",
    "\ttry:\t\n",
    "\t\t#file name\n",
    "\t\tf_name = file;\n",
    "\t\tfileToRead=open(f_name);\n",
    "\t\t#fileToRead = open(\"data.txt\");\n",
    "\t\t#Minimum Spport vlaue\t\n",
    "\t\tminsup = support;\n",
    "\t\t# printing flag \n",
    "\t\tif args.print_flag:\n",
    "\t\t\tp_flag = 1;\t\n",
    "\texcept(IOError,IndexError):\n",
    "\t\tprint('Bad file name'+os.linesep);\n",
    "\t\tsys.exit(1);\n",
    "\n",
    "\t\n",
    "\tprint('minsup = '+str(minsup));\n",
    "\n",
    "\t#minsup = 2;\n",
    "\n",
    "\t# DBReader object\n",
    "\treader = DBReader(fileToRead);\n",
    "\t#reading the file\n",
    "\treader.readFile();\n",
    "\t# Pattern generation for level 1 - It will return the starting time from when candidate generation is started.\t\n",
    "\tstart_time = reader.genPatternList();\n",
    "\t#print\n",
    "\t\n",
    "\t# Get frequent patterns from all candidates of level 1:\n",
    "\tlevel1_P = reader.getFrequent(minsup)\n",
    "\n",
    "\t#for n in level1_P:\n",
    "\t#\tprint n.item_id;\n",
    "\t#\tprint n.tid_list;\n",
    "\n",
    "\t#correct\n",
    "\n",
    "\t# Create Pattern Store object\n",
    "\tPttStr = PatternStore();\n",
    "\t\n",
    "\t# Add frequent patterns from level 1\n",
    "\tPttStr.addGroup(level1_P);\n",
    "\n",
    "\t# Eclat Algorithm\n",
    "\tPttStr.Eclat(minsup);\n",
    "\t\n",
    "\tend_time = dt.datetime.now();\n",
    "\t\n",
    "\t#print start_time;\n",
    "\t#print end_time;\n",
    "\t\t\n",
    "\ttime = end_time - start_time;\n",
    "\t\n",
    "\tprint('Computation time = '+ str(time.total_seconds()) + ' Seconds');\n",
    "\t\n",
    "\tif p_flag == 1:\n",
    "\t\tprint('Pattern\\t\\t : Tid_List');\t\n",
    "\t\tfor n in F:\n",
    "\t\t\tn.pattern_print();\n",
    "\n",
    "#End of main function"
   ]
  },
  {
   "cell_type": "code",
   "execution_count": 8,
   "metadata": {},
   "outputs": [
    {
     "name": "stderr",
     "output_type": "stream",
     "text": [
      "usage: ipykernel_launcher.py [-h] [-f FILENAME] [-s SUPNUM] [-p]\n",
      "ipykernel_launcher.py: error: unrecognized arguments: --ip=127.0.0.1 --stdin=9003 --control=9001 --hb=9000 --Session.signature_scheme=\"hmac-sha256\" --Session.key=b\"1bd32344-a733-4bca-b513-79189ed2bed6\" --shell=9002 --transport=\"tcp\" --iopub=9004\n"
     ]
    },
    {
     "ename": "SystemExit",
     "evalue": "2",
     "output_type": "error",
     "traceback": [
      "An exception has occurred, use %tb to see the full traceback.\n",
      "\u001b[1;31mSystemExit\u001b[0m\u001b[1;31m:\u001b[0m 2\n"
     ]
    }
   ],
   "source": [
    "# Geração dos itens frequentes\n",
    "if\t__name__== \"__main__\":\n",
    "\tmain('transacoes2.txt', 2);"
   ]
  },
  {
   "cell_type": "code",
   "execution_count": 9,
   "metadata": {},
   "outputs": [],
   "source": [
    "import pandas as pd\n",
    "from pyECLAT import ECLAT"
   ]
  },
  {
   "cell_type": "code",
   "execution_count": 10,
   "metadata": {},
   "outputs": [],
   "source": [
    "dados = pd.read_csv('transacoes.txt', header = None)"
   ]
  },
  {
   "cell_type": "code",
   "execution_count": 11,
   "metadata": {},
   "outputs": [
    {
     "name": "stderr",
     "output_type": "stream",
     "text": [
      "100%|██████████| 3/3 [00:00<00:00, 62.67it/s]\n",
      "100%|██████████| 3/3 [00:00<?, ?it/s]\n",
      "100%|██████████| 3/3 [00:00<00:00, 375.97it/s]\n"
     ]
    }
   ],
   "source": [
    "eclat_instance = ECLAT(data=dados, verbose=True)"
   ]
  },
  {
   "cell_type": "code",
   "execution_count": 12,
   "metadata": {},
   "outputs": [
    {
     "data": {
      "text/plain": [
       "['Pizza', nan, 'Cerveja', 'Sorvete']"
      ]
     },
     "execution_count": 12,
     "metadata": {},
     "output_type": "execute_result"
    }
   ],
   "source": [
    "eclat_instance.df_bin\n",
    "eclat_instance.uniq_"
   ]
  },
  {
   "cell_type": "code",
   "execution_count": 13,
   "metadata": {},
   "outputs": [
    {
     "name": "stdout",
     "output_type": "stream",
     "text": [
      "Combination 1 by 1\n"
     ]
    },
    {
     "name": "stderr",
     "output_type": "stream",
     "text": [
      "3it [00:00, 20.46it/s]\n"
     ]
    },
    {
     "name": "stdout",
     "output_type": "stream",
     "text": [
      "Combination 2 by 2\n"
     ]
    },
    {
     "name": "stderr",
     "output_type": "stream",
     "text": [
      "3it [00:00, 176.94it/s]\n"
     ]
    },
    {
     "name": "stdout",
     "output_type": "stream",
     "text": [
      "Combination 3 by 3\n"
     ]
    },
    {
     "name": "stderr",
     "output_type": "stream",
     "text": [
      "1it [00:00, 71.42it/s]\n"
     ]
    },
    {
     "data": {
      "text/plain": [
       "{'Pizza': 1.0,\n",
       " 'Cerveja': 0.6666666666666666,\n",
       " 'Sorvete': 0.5,\n",
       " 'Pizza & Cerveja': 0.6666666666666666,\n",
       " 'Pizza & Sorvete': 0.5,\n",
       " 'Cerveja & Sorvete': 0.3333333333333333,\n",
       " 'Pizza & Cerveja & Sorvete': 0.3333333333333333}"
      ]
     },
     "execution_count": 13,
     "metadata": {},
     "output_type": "execute_result"
    }
   ],
   "source": [
    "get_ECLAT_indexes, get_ECLAT_supports = eclat_instance.fit(\n",
    "    min_support=0.08, min_combination=1, max_combination=3, separator=' & ',\n",
    "    verbose=True\n",
    ")\n",
    "get_ECLAT_indexes\n",
    "get_ECLAT_supports"
   ]
  }
 ],
 "metadata": {
  "kernelspec": {
   "display_name": "Python 3.9.12 ('venv': venv)",
   "language": "python",
   "name": "python3"
  },
  "language_info": {
   "codemirror_mode": {
    "name": "ipython",
    "version": 3
   },
   "file_extension": ".py",
   "mimetype": "text/x-python",
   "name": "python",
   "nbconvert_exporter": "python",
   "pygments_lexer": "ipython3",
   "version": "3.9.12"
  },
  "orig_nbformat": 4,
  "vscode": {
   "interpreter": {
    "hash": "fea19b5a4fed20f0abd4b41fa1930df0fe4b8c94eabf60df86233fb8f94f9656"
   }
  }
 },
 "nbformat": 4,
 "nbformat_minor": 2
}
