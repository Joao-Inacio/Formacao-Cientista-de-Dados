{
 "cells": [
  {
   "cell_type": "markdown",
   "id": "b660f433-db72-4af7-912c-775bbda5a77a",
   "metadata": {},
   "source": [
    "# Ciência de Dados \n",
    "## Numpy"
   ]
  },
  {
   "cell_type": "code",
   "execution_count": 7,
   "id": "eaec7d80-d264-4571-831e-5c4360d1a072",
   "metadata": {},
   "outputs": [],
   "source": [
    "import numpy as np"
   ]
  },
  {
   "cell_type": "code",
   "execution_count": 2,
   "id": "9cc1704b-1731-4e5a-9265-5c54bbadbea0",
   "metadata": {},
   "outputs": [
    {
     "name": "stdout",
     "output_type": "stream",
     "text": [
      "[12 34 26 18 10]\n",
      "<class 'numpy.ndarray'>\n"
     ]
    }
   ],
   "source": [
    "# cria uma matriz unidimensional\n",
    "mt = np.array([12,34,26,18,10])\n",
    "print(mt)\n",
    "print(type(mt))"
   ]
  },
  {
   "cell_type": "code",
   "execution_count": 3,
   "id": "27a4f22a-7844-4092-9c72-73f48b348738",
   "metadata": {},
   "outputs": [
    {
     "name": "stdout",
     "output_type": "stream",
     "text": [
      "[1. 2. 3.]\n",
      "<class 'numpy.ndarray'>\n",
      "[1 2 3]\n",
      "<class 'numpy.ndarray'>\n"
     ]
    }
   ],
   "source": [
    "# criar o array com um tipo específico \n",
    "# criar o array como float de 64 bits\n",
    "mtfloat = np.array([1, 2, 3], dtype = np.float64)\n",
    "print(mtfloat)\n",
    "print(type(mtfloat))\n",
    "mtint = np.array([1, 2, 3], dtype = np.int32)\n",
    "print(mtint)\n",
    "print(type(mtint))"
   ]
  },
  {
   "cell_type": "code",
   "execution_count": 4,
   "id": "f0ff557c-05de-49af-a781-1e242e0fbc03",
   "metadata": {},
   "outputs": [
    {
     "name": "stdout",
     "output_type": "stream",
     "text": [
      "[ 1.4      3.6     -5.1      9.42     4.99999]\n",
      "[ 1  3 -5  9  4]\n"
     ]
    }
   ],
   "source": [
    "# mudar o tipo do array\n",
    "# podemos transformar tipos de dados de array\n",
    "mtnew = np.array([1.4, 3.6, -5.1, 9.42, 4.99999])\n",
    "print(mtnew)\n",
    "# quando transformamos de float para int os valores são truncados\n",
    "mtnewint = mtnew.astype(np.int32)\n",
    "print(mtnewint)"
   ]
  },
  {
   "cell_type": "code",
   "execution_count": 5,
   "id": "48fcac99-c6fc-4336-83b4-4b7c28111d81",
   "metadata": {},
   "outputs": [
    {
     "name": "stdout",
     "output_type": "stream",
     "text": [
      "[1 2 3 4]\n",
      "[1. 2. 3. 4.]\n"
     ]
    }
   ],
   "source": [
    "# podemos fazer o inverso também.\n",
    "mt5 = np.array([1, 2, 3, 4])\n",
    "print(mt5)\n",
    "mt6 = mt5.astype(float)\n",
    "print(mt6)"
   ]
  },
  {
   "cell_type": "code",
   "execution_count": 6,
   "id": "a897b0b1-087e-407f-b392-e6a7ffb20aa6",
   "metadata": {},
   "outputs": [
    {
     "name": "stdout",
     "output_type": "stream",
     "text": [
      "[[ 7  2 23]\n",
      " [12 27  4]\n",
      " [ 5 34 23]]\n"
     ]
    }
   ],
   "source": [
    "# mais de uma dimensão\n",
    "# criar uma matriz bidimensional\n",
    "mt7 = np.array([[7,2,23],[12,27,4],[5,34,23]])\n",
    "print(mt7)"
   ]
  },
  {
   "cell_type": "code",
   "execution_count": 10,
   "id": "d728de0d-240d-417f-a6cf-68e1018d1322",
   "metadata": {},
   "outputs": [
    {
     "name": "stdout",
     "output_type": "stream",
     "text": [
      "[[         0 1072693248]\n",
      " [         0 1073741824]\n",
      " [         0 1074266112]]\n",
      "-----\n",
      "[[0. 0. 0.]\n",
      " [0. 0. 0.]\n",
      " [0. 0. 0.]\n",
      " [0. 0. 0.]]\n",
      "-----\n",
      "[[1. 1. 1. 1. 1. 1. 1.]\n",
      " [1. 1. 1. 1. 1. 1. 1.]\n",
      " [1. 1. 1. 1. 1. 1. 1.]\n",
      " [1. 1. 1. 1. 1. 1. 1.]\n",
      " [1. 1. 1. 1. 1. 1. 1.]]\n",
      "-----\n",
      "[[1. 0. 0. 0. 0.]\n",
      " [0. 1. 0. 0. 0.]\n",
      " [0. 0. 1. 0. 0.]\n",
      " [0. 0. 0. 1. 0.]\n",
      " [0. 0. 0. 0. 1.]]\n"
     ]
    }
   ],
   "source": [
    "# criar array vazios tipificados\n",
    "# empty significa que não são inicializados, não que são vazios\n",
    "vazio = np.empty([3,2], dtype = int)\n",
    "print(vazio)\n",
    "print('-----')\n",
    "# cria uma matriz 4x3 com valores zero\n",
    "zeros = np.zeros([4,3])\n",
    "print(zeros)\n",
    "print('-----')\n",
    "# com valores igual a um \n",
    "um = np.ones([5,7])\n",
    "print(um)\n",
    "print('-----')\n",
    "# cria matriz quadrada com dioganal principal com valores 1 e os outros valores zero\n",
    "diagonal = np.eye(5)\n",
    "print(diagonal)"
   ]
  },
  {
   "cell_type": "code",
   "execution_count": 12,
   "id": "8d751bba-c549-4666-8e77-4236161c4c91",
   "metadata": {},
   "outputs": [
    {
     "name": "stdout",
     "output_type": "stream",
     "text": [
      "[0.66463695 0.15046048 0.66357211 0.66669641 0.48663708]\n",
      "------\n",
      "[ 1.27473192  0.54390066 -1.49897781  0.50627057  0.86371016]\n",
      "-------\n",
      "[[3.7618391  5.13676593 2.41942442 8.31796562]\n",
      " [6.20345378 1.12019587 8.11779048 9.95572419]\n",
      " [4.68756895 5.83282224 2.91104241 4.37941407]]\n"
     ]
    }
   ],
   "source": [
    "# valores aleatórios entre zero e um\n",
    "ale = np.random.random((5))\n",
    "print(ale)\n",
    "print('------')\n",
    "# valores aleatórios distr. normal contendo negativos\n",
    "ale2 = np.random.randn((5))\n",
    "print(ale2)\n",
    "print('-------')\n",
    "# valores aleatórios  3 x 4\n",
    "ale3 = (10*np.random.random((3,4)))\n",
    "print(ale3)"
   ]
  },
  {
   "cell_type": "code",
   "execution_count": 13,
   "id": "041f15d2-a730-40a3-bc2d-3131fd6ca8b3",
   "metadata": {},
   "outputs": [
    {
     "name": "stdout",
     "output_type": "stream",
     "text": [
      "[0.51182162 0.9504637  0.14415961]\n",
      "[[8 9 2 3]\n",
      " [8 4 2 8]\n",
      " [2 4 6 5]]\n"
     ]
    }
   ],
   "source": [
    "# outra forma de gerar aleatórios \n",
    "# uso de semente\n",
    "gnr = np.random.default_rng(1)\n",
    "ale5 = gnr.random(3)\n",
    "print(ale5)\n",
    "\n",
    "# gerar inteiros\n",
    "ale6 = gnr.integers(10, size=(3, 4))\n",
    "print(ale6)"
   ]
  },
  {
   "cell_type": "code",
   "execution_count": 14,
   "id": "c4bbdd22-430e-4afd-bf7f-587201f93255",
   "metadata": {},
   "outputs": [
    {
     "name": "stdout",
     "output_type": "stream",
     "text": [
      "[11 12 13 14 15 16 17 18 19 20]\n"
     ]
    }
   ],
   "source": [
    "#unique remove repetições\n",
    "j = np.array([11, 12, 13, 14, 15, 16, 17, 12, 13, 11, 18, 19, 20])\n",
    "j = np.unique(j)\n",
    "print(j)"
   ]
  },
  {
   "cell_type": "code",
   "execution_count": 15,
   "id": "d817e102-8612-42fb-b1cb-38d6c10bbc4f",
   "metadata": {},
   "outputs": [
    {
     "name": "stdout",
     "output_type": "stream",
     "text": [
      "[[17 22 43]\n",
      " [27 25 14]\n",
      " [15 24 32]]\n",
      "22\n",
      "(3, 3)\n"
     ]
    }
   ],
   "source": [
    "#funções específicas\n",
    "# cria a matriz bidimensional k\n",
    "k = np.array([[17,22,43],[27,25,14],[15,24,32]])\n",
    "# Mostra a matriz k\n",
    "print(k)\n",
    "# Mostra um elemento específico da matriz k\n",
    "print(k[0][1])\n",
    "# Mostra o tamanho das dimensões da matriz k\n",
    "print(k.shape)"
   ]
  },
  {
   "cell_type": "code",
   "execution_count": 16,
   "id": "01c6371c-4f23-45e0-bb81-28523c7fff81",
   "metadata": {},
   "outputs": [
    {
     "name": "stdout",
     "output_type": "stream",
     "text": [
      "43\n",
      "14\n",
      "219\n",
      "24.333333333333332\n",
      "8.615231988880057\n"
     ]
    }
   ],
   "source": [
    "#Funções Matemáticas\n",
    "# Mostra o maior valor da matriz k\n",
    "print(k.max())\n",
    "# Mostra o menor valor da matriz k\n",
    "print(k.min())\n",
    "# Mostra a soma dos valores da matriz k\n",
    "print((k.sum()))\n",
    "# Mostra o valor da média dos valores da matriz k\n",
    "print(k.mean())\n",
    "# Mostra o valor do desvio padrão (standard deviation) dos valores da matiz k\n",
    "print(k.std())"
   ]
  },
  {
   "cell_type": "code",
   "execution_count": 17,
   "id": "39cc3aaa-14b0-4ac0-ae82-28cad89c39fa",
   "metadata": {},
   "outputs": [
    {
     "name": "stdout",
     "output_type": "stream",
     "text": [
      "[1. 2. 3. 4. 5. 6.]\n",
      "[2.71828183e+00 5.45981500e+01 8.10308393e+03 8.88611052e+06\n",
      " 7.20048993e+10 4.31123155e+15]\n"
     ]
    }
   ],
   "source": [
    "#funções universais, aplicadas a todos os elementos\n",
    "# Mostra o valor da raiz quadrada de todos elementos\n",
    "k1 = np.array([1, 4, 9, 16, 25, 36])\n",
    "print(np.sqrt(k1))\n",
    "# Mostra o valor do exponencial de todos elementos\n",
    "print(np.exp(k1))"
   ]
  },
  {
   "cell_type": "code",
   "execution_count": 18,
   "id": "6ca56299-28bf-429a-b70e-2ac763f218ca",
   "metadata": {},
   "outputs": [
    {
     "name": "stdout",
     "output_type": "stream",
     "text": [
      "2\n",
      "-------\n",
      "[1 2]\n",
      "-------\n",
      "[2 3 4 5 6]\n",
      "-------\n",
      "[4 5 6]\n"
     ]
    }
   ],
   "source": [
    "#extração de elementos\n",
    "m = np.array([1, 2, 3, 4, 5, 6])\n",
    "# Mostra o elemento da posição 2\n",
    "print(m[1])\n",
    "print(\"-------\")\n",
    "# Mostra o array criado a partir da posição 0, dois elementos\n",
    "print(m[0:2])\n",
    "print(\"-------\")\n",
    "# Mostra o array criado a partir da 2a posição\n",
    "# até todo o restante do array\n",
    "print(m[1:])\n",
    "print(\"-------\")\n",
    "# Mostra o array criado a partir da antepenúltima\n",
    "#posição até o final\n",
    "print(m[-3:])"
   ]
  },
  {
   "cell_type": "code",
   "execution_count": 19,
   "id": "c908c433-6f02-4699-8bba-c75fad00020a",
   "metadata": {},
   "outputs": [
    {
     "name": "stdout",
     "output_type": "stream",
     "text": [
      "[[4 5]\n",
      " [6 1]\n",
      " [7 4]]\n",
      "-------\n",
      "[4 5]\n",
      "-------\n",
      "[6 1]\n",
      "-------\n",
      "[7 4]\n",
      "-------\n",
      "[4 6 7]\n",
      "-------\n",
      "[5 1 4]\n"
     ]
    }
   ],
   "source": [
    "#extração de linhas e colunas\n",
    "l = np.array([[4, 5], [6, 1], [7, 4]])\n",
    "print(l)\n",
    "print(\"-------\")\n",
    "#primeira linha, todas as colunas\n",
    "l_linha_1 = l[0, :]\n",
    "print(l_linha_1)\n",
    "print(\"-------\")\n",
    "#segunda linha\n",
    "l_linha_2 = l[1, :]\n",
    "print(l_linha_2)\n",
    "print(\"-------\")\n",
    "#terceira linha\n",
    "l_linha_3 = l[2, :]\n",
    "print(l_linha_3)\n",
    "print(\"-------\")\n",
    "#todas as linhas, primeira coluna\n",
    "l_coluna_1 = l[:, 0]\n",
    "print(l_coluna_1)\n",
    "print(\"-------\")\n",
    "#todas as linhas, segunda coluna\n",
    "l_coluna_2 = l[:, 1]\n",
    "print(l_coluna_2)"
   ]
  },
  {
   "cell_type": "code",
   "execution_count": 20,
   "id": "9d99befc-b6c9-4ad8-9ece-52dd999abd57",
   "metadata": {},
   "outputs": [
    {
     "name": "stdout",
     "output_type": "stream",
     "text": [
      "[[2 3]\n",
      " [4 5]]\n",
      "-------\n",
      "[[1 2]\n",
      " [3 4]]\n",
      "-------\n",
      "[[3 3]\n",
      " [5 5]\n",
      " [7 7]]\n"
     ]
    }
   ],
   "source": [
    "#adição e multiplicação de matrizes\n",
    "n = np.array([[1, 2], [3, 4]])\n",
    "o = np.array([[1, 1], [1, 1]])\n",
    "res1 = n+o\n",
    "print(res1)\n",
    "print(\"-------\")\n",
    "res2 = n*o\n",
    "print(res2)\n",
    "print(\"-------\")\n",
    "p = np.array([[1, 2], [3, 4], [5, 6]])\n",
    "q = np.array([[2, 1]])\n",
    "print(p+q)"
   ]
  },
  {
   "cell_type": "code",
   "execution_count": null,
   "id": "77ea897b-7111-454d-990e-dc74aefb7372",
   "metadata": {},
   "outputs": [],
   "source": [
    "# transposição, rearranja um conjunto de 15 elementos de 0 a 14 \n",
    "# em 3 linhas e 5 colunas.\n",
    "f = np.arange(15).reshape((3, 5))\n",
    "# mostra a matrizes transposta entre linha e coluna\n",
    "print(f)\n",
    "print(\"-------\")\n",
    "s = f.T\n",
    "print(s)"
   ]
  },
  {
   "cell_type": "code",
   "execution_count": null,
   "id": "e2ef35cd-c15f-4d25-8f12-a59839c0768d",
   "metadata": {},
   "outputs": [],
   "source": [
    "#outra forma de fazer, mesmo resultado\n",
    "r = np.arange(15).reshape((3, 5))\n",
    "print(r)\n",
    "print(\"-------\")\n",
    "# rearranja um conjunto de 15 elementos \n",
    "# mostra a matrizes transposta entre linha e coluna\n",
    "s = r.transpose((1,0))\n",
    "print(s)\n"
   ]
  },
  {
   "cell_type": "code",
   "execution_count": null,
   "id": "6e26ad2f-f247-4043-a2de-4feb1243f9f7",
   "metadata": {},
   "outputs": [],
   "source": [
    "#expressões lógicas\n",
    "#usando where\n",
    "# criando matriz com valores aleatórios positivos e negativos\n",
    "v = np.random.randn(4, 4)\n",
    "print(v)\n",
    "# criando matriz com valores booleanos baseado no array v\n",
    "x = (v > 0)\n",
    "print(x)\n",
    "# criando matriz com valores -1 e 1 baseado nos valores do array x\n",
    "z = np.where(x > 0, 1, -1)\n",
    "print(z)\n"
   ]
  }
 ],
 "metadata": {
  "kernelspec": {
   "display_name": "Python 3 (ipykernel)",
   "language": "python",
   "name": "python3"
  },
  "language_info": {
   "codemirror_mode": {
    "name": "ipython",
    "version": 3
   },
   "file_extension": ".py",
   "mimetype": "text/x-python",
   "name": "python",
   "nbconvert_exporter": "python",
   "pygments_lexer": "ipython3",
   "version": "3.9.7"
  }
 },
 "nbformat": 4,
 "nbformat_minor": 5
}
