{
 "cells": [
  {
   "cell_type": "markdown",
   "metadata": {},
   "source": [
    "##### Formação Cientista de Dados - Fernando Amaral e Jones Granatyr\n",
    "* Deep Learning"
   ]
  },
  {
   "cell_type": "code",
   "execution_count": 1,
   "metadata": {},
   "outputs": [],
   "source": [
    "# Importação das bibliotecas\n",
    "import matplotlib.pyplot as plt\n",
    "from sklearn.metrics import confusion_matrix\n",
    "from tensorflow.keras.models import Sequential\n",
    "from tensorflow.keras.layers import Dense, Dropout\n",
    "from tensorflow.keras.utils import to_categorical\n",
    "from tensorflow.keras.datasets import mnist\n",
    "import numpy as np"
   ]
  },
  {
   "cell_type": "code",
   "execution_count": 2,
   "metadata": {},
   "outputs": [
    {
     "name": "stdout",
     "output_type": "stream",
     "text": [
      "Downloading data from https://storage.googleapis.com/tensorflow/tf-keras-datasets/mnist.npz\n",
      "11490434/11490434 [==============================] - 2s 0us/step\n"
     ]
    },
    {
     "data": {
      "text/plain": [
       "Text(0.5, 1.0, '0')"
      ]
     },
     "execution_count": 2,
     "metadata": {},
     "output_type": "execute_result"
    },
    {
     "data": {
      "image/png": "[encoded data removed]",
      "text/plain": [
       "<Figure size 432x288 with 1 Axes>"
      ]
     },
     "metadata": {},
     "output_type": "display_data"
    }
   ],
   "source": [
    "# Obtenção dos dados e divisão automática entre treinamento e teste\n",
    "(X_treinamento, y_treinamento), (X_teste, y_teste) = mnist.load_data()\n",
    "# Visualização de imagens específicas\n",
    "plt.imshow(X_treinamento[21], cmap = 'gray')\n",
    "plt.title(y_treinamento[21])"
   ]
  },
  {
   "cell_type": "code",
   "execution_count": 3,
   "metadata": {},
   "outputs": [
    {
     "data": {
      "text/plain": [
       "array([  0,   0,   0,   0,   0,   0,   0,   0,   0,   0,   0,   0,   0,\n",
       "         0,   0,   0,   0,   0,   0,   0,   0,   0,   0,   0,   0,   0,\n",
       "         0,   0,   0,   0,   0,   0,   0,   0,   0,   0,   0,   0,   0,\n",
       "         0,   0,   0,   0,   0,   0,   0,   0,   0,   0,   0,   0,   0,\n",
       "         0,   0,   0,   0,   0,   0,   0,   0,   0,   0,   0,   0,   0,\n",
       "         0,   0,   0,   0,   0,   0,   0,   0,   0,   0,   0,   0,   0,\n",
       "         0,   0,   0,   0,   0,   0,   0,   0,   0,   0,   0,   0,   0,\n",
       "         0,   0,   0,   0,   0,   0,   0,   0,   0,   0,   0,   0,   0,\n",
       "         0,   0,   0,   0,   0,   0,   0,   0,   0,   0,   0,   0,   0,\n",
       "         0,   0,   0,   0,   0,   0,   0,   0,   0,   0,   0,   0,   0,\n",
       "         0,   0,   0,   0,   0,   0,   0,   0,   0,   0,   0,   0,   0,\n",
       "         0,   0,   0,   0,   0,   0,   0,   0,   0,   0,   0,   0,   0,\n",
       "         0,   0,   0,   0,   0,   0,   0,   0,   0,   0,   0,   0,   0,\n",
       "         0,   0,   0,   0,   0,   0,   0,   0,   0,   0,   0,   0,   0,\n",
       "         0,   0,   0,   0,   0,   0,   0,   0,   0,   0,   0,   0,   0,\n",
       "         0,   0,   0,   0,   0,   0,   0,  84, 185, 159, 151,  60,  36,\n",
       "         0,   0,   0,   0,   0,   0,   0,   0,   0,   0,   0,   0,   0,\n",
       "         0,   0,   0,   0,   0,   0,   0,   0,   0, 222, 254, 254, 254,\n",
       "       254, 241, 198, 198, 198, 198, 198, 198, 198, 198, 170,  52,   0,\n",
       "         0,   0,   0,   0,   0,   0,   0,   0,   0,   0,   0,  67, 114,\n",
       "        72, 114, 163, 227, 254, 225, 254, 254, 254, 250, 229, 254, 254,\n",
       "       140,   0,   0,   0,   0,   0,   0,   0,   0,   0,   0,   0,   0,\n",
       "         0,   0,   0,   0,   0,  17,  66,  14,  67,  67,  67,  59,  21,\n",
       "       236, 254, 106,   0,   0,   0,   0,   0,   0,   0,   0,   0,   0,\n",
       "         0,   0,   0,   0,   0,   0,   0,   0,   0,   0,   0,   0,   0,\n",
       "         0,  83, 253, 209,  18,   0,   0,   0,   0,   0,   0,   0,   0,\n",
       "         0,   0,   0,   0,   0,   0,   0,   0,   0,   0,   0,   0,   0,\n",
       "         0,   0,  22, 233, 255,  83,   0,   0,   0,   0,   0,   0,   0,\n",
       "         0,   0,   0,   0,   0,   0,   0,   0,   0,   0,   0,   0,   0,\n",
       "         0,   0,   0,   0, 129, 254, 238,  44,   0,   0,   0,   0,   0,\n",
       "         0,   0,   0,   0,   0,   0,   0,   0,   0,   0,   0,   0,   0,\n",
       "         0,   0,   0,   0,   0,  59, 249, 254,  62,   0,   0,   0,   0,\n",
       "         0,   0,   0,   0,   0,   0,   0,   0,   0,   0,   0,   0,   0,\n",
       "         0,   0,   0,   0,   0,   0,   0, 133, 254, 187,   5,   0,   0,\n",
       "         0,   0,   0,   0,   0,   0,   0,   0,   0,   0,   0,   0,   0,\n",
       "         0,   0,   0,   0,   0,   0,   0,   0,   9, 205, 248,  58,   0,\n",
       "         0,   0,   0,   0,   0,   0,   0,   0,   0,   0,   0,   0,   0,\n",
       "         0,   0,   0,   0,   0,   0,   0,   0,   0,   0, 126, 254, 182,\n",
       "         0,   0,   0,   0,   0,   0,   0,   0,   0,   0,   0,   0,   0,\n",
       "         0,   0,   0,   0,   0,   0,   0,   0,   0,   0,   0,  75, 251,\n",
       "       240,  57,   0,   0,   0,   0,   0,   0,   0,   0,   0,   0,   0,\n",
       "         0,   0,   0,   0,   0,   0,   0,   0,   0,   0,   0,   0,  19,\n",
       "       221, 254, 166,   0,   0,   0,   0,   0,   0,   0,   0,   0,   0,\n",
       "         0,   0,   0,   0,   0,   0,   0,   0,   0,   0,   0,   0,   0,\n",
       "         3, 203, 254, 219,  35,   0,   0,   0,   0,   0,   0,   0,   0,\n",
       "         0,   0,   0,   0,   0,   0,   0,   0,   0,   0,   0,   0,   0,\n",
       "         0,   0,  38, 254, 254,  77,   0,   0,   0,   0,   0,   0,   0,\n",
       "         0,   0,   0,   0,   0,   0,   0,   0,   0,   0,   0,   0,   0,\n",
       "         0,   0,   0,  31, 224, 254, 115,   1,   0,   0,   0,   0,   0,\n",
       "         0,   0,   0,   0,   0,   0,   0,   0,   0,   0,   0,   0,   0,\n",
       "         0,   0,   0,   0,   0, 133, 254, 254,  52,   0,   0,   0,   0,\n",
       "         0,   0,   0,   0,   0,   0,   0,   0,   0,   0,   0,   0,   0,\n",
       "         0,   0,   0,   0,   0,   0,  61, 242, 254, 254,  52,   0,   0,\n",
       "         0,   0,   0,   0,   0,   0,   0,   0,   0,   0,   0,   0,   0,\n",
       "         0,   0,   0,   0,   0,   0,   0,   0, 121, 254, 254, 219,  40,\n",
       "         0,   0,   0,   0,   0,   0,   0,   0,   0,   0,   0,   0,   0,\n",
       "         0,   0,   0,   0,   0,   0,   0,   0,   0,   0, 121, 254, 207,\n",
       "        18,   0,   0,   0,   0,   0,   0,   0,   0,   0,   0,   0,   0,\n",
       "         0,   0,   0,   0,   0,   0,   0,   0,   0,   0,   0,   0,   0,\n",
       "         0,   0,   0,   0,   0,   0,   0,   0,   0,   0,   0,   0,   0,\n",
       "         0,   0,   0,   0], dtype=uint8)"
      ]
     },
     "execution_count": 3,
     "metadata": {},
     "output_type": "execute_result"
    }
   ],
   "source": [
    "# Mudança de dimensão, originalmente está em 28x28 e precisamos 784\n",
    "X_treinamento = X_treinamento.reshape((len(X_treinamento), np.prod(X_treinamento.shape[1:])))\n",
    "X_teste = X_teste.reshape((len(X_teste), np.prod(X_teste.shape[1:])))\n",
    "X_teste[0]"
   ]
  },
  {
   "cell_type": "code",
   "execution_count": 4,
   "metadata": {},
   "outputs": [],
   "source": [
    "# Transformação dos dados para float para podermos normalizar os dados\n",
    "X_treinamento = X_treinamento.astype('float32')\n",
    "X_teste = X_teste.astype('float32')"
   ]
  },
  {
   "cell_type": "code",
   "execution_count": 5,
   "metadata": {},
   "outputs": [],
   "source": [
    "# Normalização (255 é o valor máximo de um pixel)\n",
    "X_treinamento /= 255\n",
    "X_teste /= 255"
   ]
  },
  {
   "cell_type": "code",
   "execution_count": 6,
   "metadata": {},
   "outputs": [
    {
     "data": {
      "text/plain": [
       "array([0., 0., 0., 0., 0., 0., 0., 1., 0., 0.], dtype=float32)"
      ]
     },
     "execution_count": 6,
     "metadata": {},
     "output_type": "execute_result"
    }
   ],
   "source": [
    "# Transformação para o formato dummy (temos 10 classes)\n",
    "y_treinamento = to_categorical(y_treinamento, 10)\n",
    "y_teste = to_categorical(y_teste, 10)\n",
    "y_teste[0]"
   ]
  },
  {
   "cell_type": "code",
   "execution_count": 7,
   "metadata": {},
   "outputs": [],
   "source": [
    "# Estrutura da rede neural: 784 - 64 - 64 - 64 - 10\n",
    "# Dropout é utilizado para zerar uma porcentagem dos neurônios, para evitar o overfitting\n",
    "modelo = Sequential()\n",
    "modelo.add(Dense(units = 64, activation = 'relu', input_dim = 784))\n",
    "modelo.add(Dropout(0.2))\n",
    "modelo.add(Dense(units = 64, activation = 'relu'))\n",
    "modelo.add(Dropout(0.2))\n",
    "modelo.add(Dense(units = 64, activation = 'relu'))\n",
    "modelo.add(Dropout(0.2))\n",
    "#camada de Saida, softmax probabilidade\n",
    "modelo.add(Dense(units = 10, activation = 'softmax'))"
   ]
  },
  {
   "cell_type": "code",
   "execution_count": 8,
   "metadata": {},
   "outputs": [
    {
     "name": "stdout",
     "output_type": "stream",
     "text": [
      "Model: \"sequential\"\n",
      "_________________________________________________________________\n",
      " Layer (type)                Output Shape              Param #   \n",
      "=================================================================\n",
      " dense (Dense)               (None, 64)                50240     \n",
      "                                                                 \n",
      " dropout (Dropout)           (None, 64)                0         \n",
      "                                                                 \n",
      " dense_1 (Dense)             (None, 64)                4160      \n",
      "                                                                 \n",
      " dropout_1 (Dropout)         (None, 64)                0         \n",
      "                                                                 \n",
      " dense_2 (Dense)             (None, 64)                4160      \n",
      "                                                                 \n",
      " dropout_2 (Dropout)         (None, 64)                0         \n",
      "                                                                 \n",
      " dense_3 (Dense)             (None, 10)                650       \n",
      "                                                                 \n",
      "=================================================================\n",
      "Total params: 59,210\n",
      "Trainable params: 59,210\n",
      "Non-trainable params: 0\n",
      "_________________________________________________________________\n"
     ]
    }
   ],
   "source": [
    "# Visualização da estrutura da rede neural\n",
    "modelo.summary()"
   ]
  },
  {
   "cell_type": "code",
   "execution_count": 9,
   "metadata": {},
   "outputs": [
    {
     "name": "stdout",
     "output_type": "stream",
     "text": [
      "Epoch 1/36\n",
      "1875/1875 [==============================] - 43s 10ms/step - loss: 0.4458 - accuracy: 0.8628 - val_loss: 0.1715 - val_accuracy: 0.9472\n",
      "Epoch 2/36\n",
      "1875/1875 [==============================] - 19s 10ms/step - loss: 0.2276 - accuracy: 0.9336 - val_loss: 0.1322 - val_accuracy: 0.9611\n",
      "Epoch 3/36\n",
      "1875/1875 [==============================] - 19s 10ms/step - loss: 0.1855 - accuracy: 0.9466 - val_loss: 0.1113 - val_accuracy: 0.9669\n",
      "Epoch 4/36\n",
      "1875/1875 [==============================] - 20s 11ms/step - loss: 0.1643 - accuracy: 0.9526 - val_loss: 0.1085 - val_accuracy: 0.9658\n",
      "Epoch 5/36\n",
      "1875/1875 [==============================] - 19s 10ms/step - loss: 0.1475 - accuracy: 0.9568 - val_loss: 0.1031 - val_accuracy: 0.9708\n",
      "Epoch 6/36\n",
      "1875/1875 [==============================] - 19s 10ms/step - loss: 0.1345 - accuracy: 0.9606 - val_loss: 0.0991 - val_accuracy: 0.9715\n",
      "Epoch 7/36\n",
      "1875/1875 [==============================] - 19s 10ms/step - loss: 0.1298 - accuracy: 0.9618 - val_loss: 0.1038 - val_accuracy: 0.9690\n",
      "Epoch 8/36\n",
      "1875/1875 [==============================] - 19s 10ms/step - loss: 0.1206 - accuracy: 0.9647 - val_loss: 0.1016 - val_accuracy: 0.9702\n",
      "Epoch 9/36\n",
      "1875/1875 [==============================] - 19s 10ms/step - loss: 0.1163 - accuracy: 0.9652 - val_loss: 0.0974 - val_accuracy: 0.9714\n",
      "Epoch 10/36\n",
      "1875/1875 [==============================] - 19s 10ms/step - loss: 0.1125 - accuracy: 0.9676 - val_loss: 0.0930 - val_accuracy: 0.9733\n",
      "Epoch 11/36\n",
      "1875/1875 [==============================] - 19s 10ms/step - loss: 0.1086 - accuracy: 0.9680 - val_loss: 0.0911 - val_accuracy: 0.9735\n",
      "Epoch 12/36\n",
      "1875/1875 [==============================] - 19s 10ms/step - loss: 0.1039 - accuracy: 0.9689 - val_loss: 0.1021 - val_accuracy: 0.9716\n",
      "Epoch 13/36\n",
      "1875/1875 [==============================] - 19s 10ms/step - loss: 0.1011 - accuracy: 0.9696 - val_loss: 0.0939 - val_accuracy: 0.9743\n",
      "Epoch 14/36\n",
      "1875/1875 [==============================] - 19s 10ms/step - loss: 0.0983 - accuracy: 0.9701 - val_loss: 0.0934 - val_accuracy: 0.9745\n",
      "Epoch 15/36\n",
      "1875/1875 [==============================] - 19s 10ms/step - loss: 0.0967 - accuracy: 0.9707 - val_loss: 0.0951 - val_accuracy: 0.9741\n",
      "Epoch 16/36\n",
      "1875/1875 [==============================] - 19s 10ms/step - loss: 0.0956 - accuracy: 0.9714 - val_loss: 0.0986 - val_accuracy: 0.9725\n",
      "Epoch 17/36\n",
      "1875/1875 [==============================] - 19s 10ms/step - loss: 0.0924 - accuracy: 0.9722 - val_loss: 0.0866 - val_accuracy: 0.9755\n",
      "Epoch 18/36\n",
      "1875/1875 [==============================] - 19s 10ms/step - loss: 0.0894 - accuracy: 0.9735 - val_loss: 0.0982 - val_accuracy: 0.9730\n",
      "Epoch 19/36\n",
      "1875/1875 [==============================] - 19s 10ms/step - loss: 0.0912 - accuracy: 0.9724 - val_loss: 0.0912 - val_accuracy: 0.9760\n",
      "Epoch 20/36\n",
      "1875/1875 [==============================] - 19s 10ms/step - loss: 0.0862 - accuracy: 0.9734 - val_loss: 0.0940 - val_accuracy: 0.9752\n",
      "Epoch 21/36\n",
      "1875/1875 [==============================] - 19s 10ms/step - loss: 0.0845 - accuracy: 0.9748 - val_loss: 0.0987 - val_accuracy: 0.9734\n",
      "Epoch 22/36\n",
      "1875/1875 [==============================] - 19s 10ms/step - loss: 0.0858 - accuracy: 0.9741 - val_loss: 0.0854 - val_accuracy: 0.9776\n",
      "Epoch 23/36\n",
      "1875/1875 [==============================] - 19s 10ms/step - loss: 0.0839 - accuracy: 0.9747 - val_loss: 0.0908 - val_accuracy: 0.9761\n",
      "Epoch 24/36\n",
      "1875/1875 [==============================] - 19s 10ms/step - loss: 0.0790 - accuracy: 0.9767 - val_loss: 0.0899 - val_accuracy: 0.9760\n",
      "Epoch 25/36\n",
      "1875/1875 [==============================] - 19s 10ms/step - loss: 0.0795 - accuracy: 0.9764 - val_loss: 0.0921 - val_accuracy: 0.9752\n",
      "Epoch 26/36\n",
      "1875/1875 [==============================] - 19s 10ms/step - loss: 0.0764 - accuracy: 0.9767 - val_loss: 0.0896 - val_accuracy: 0.9761\n",
      "Epoch 27/36\n",
      "1875/1875 [==============================] - 19s 10ms/step - loss: 0.0763 - accuracy: 0.9769 - val_loss: 0.1036 - val_accuracy: 0.9747\n",
      "Epoch 28/36\n",
      "1875/1875 [==============================] - 19s 10ms/step - loss: 0.0776 - accuracy: 0.9768 - val_loss: 0.0928 - val_accuracy: 0.9764\n",
      "Epoch 29/36\n",
      "1875/1875 [==============================] - 19s 10ms/step - loss: 0.0726 - accuracy: 0.9776 - val_loss: 0.1026 - val_accuracy: 0.9735\n",
      "Epoch 30/36\n",
      "1875/1875 [==============================] - 19s 10ms/step - loss: 0.0759 - accuracy: 0.9770 - val_loss: 0.0936 - val_accuracy: 0.9763\n",
      "Epoch 31/36\n",
      "1875/1875 [==============================] - 19s 10ms/step - loss: 0.0748 - accuracy: 0.9768 - val_loss: 0.1002 - val_accuracy: 0.9741\n",
      "Epoch 32/36\n",
      "1875/1875 [==============================] - 19s 10ms/step - loss: 0.0752 - accuracy: 0.9768 - val_loss: 0.0951 - val_accuracy: 0.9754\n",
      "Epoch 33/36\n",
      "1875/1875 [==============================] - 19s 10ms/step - loss: 0.0708 - accuracy: 0.9782 - val_loss: 0.0957 - val_accuracy: 0.9767\n",
      "Epoch 34/36\n",
      "1875/1875 [==============================] - 19s 10ms/step - loss: 0.0745 - accuracy: 0.9775 - val_loss: 0.1055 - val_accuracy: 0.9754\n",
      "Epoch 35/36\n",
      "1875/1875 [==============================] - 19s 10ms/step - loss: 0.0712 - accuracy: 0.9783 - val_loss: 0.1004 - val_accuracy: 0.9747\n",
      "Epoch 36/36\n",
      "1875/1875 [==============================] - 19s 10ms/step - loss: 0.0716 - accuracy: 0.9779 - val_loss: 0.0929 - val_accuracy: 0.9745\n"
     ]
    }
   ],
   "source": [
    "# Configuração dos parâmetros da rede neural e treinamento (utilizando base de dados de validação)\n",
    "# Na variável histórico temos os histórico das execuções (erro e accuracy)\n",
    "modelo.compile(\n",
    "    optimizer = 'adam', loss = 'categorical_crossentropy', metrics = ['accuracy']\n",
    ")\n",
    "historico = modelo.fit(\n",
    "    X_treinamento, y_treinamento, epochs = 36, validation_data = (X_teste, y_teste)\n",
    ")"
   ]
  },
  {
   "cell_type": "code",
   "execution_count": 10,
   "metadata": {},
   "outputs": [
    {
     "data": {
      "text/plain": [
       "[<matplotlib.lines.Line2D at 0x26ee75de910>]"
      ]
     },
     "execution_count": 10,
     "metadata": {},
     "output_type": "execute_result"
    },
    {
     "data": {
      "image/png": "[encoded data removed]",
      "text/plain": [
       "<Figure size 432x288 with 1 Axes>"
      ]
     },
     "metadata": {},
     "output_type": "display_data"
    }
   ],
   "source": [
    "# Gráfico para visualizar os erros e accuracy\n",
    "historico.history.keys()\n",
    "#evolução do erro, azul\n",
    "plt.plot(historico.history['val_loss'])\n",
    "#performance da rede\n",
    "plt.plot(historico.history['val_accuracy'])"
   ]
  },
  {
   "cell_type": "code",
   "execution_count": 11,
   "metadata": {},
   "outputs": [
    {
     "name": "stdout",
     "output_type": "stream",
     "text": [
      "313/313 [==============================] - 1s 3ms/step\n"
     ]
    },
    {
     "data": {
      "text/plain": [
       "array([[1.19482451e-14, 2.48552027e-07, 1.01730279e-06, ...,\n",
       "        9.99997377e-01, 5.14263653e-13, 1.21807352e-06],\n",
       "       [8.49907523e-15, 3.71937077e-08, 1.00000000e+00, ...,\n",
       "        3.57318641e-09, 1.11300115e-10, 8.24689404e-15],\n",
       "       [2.09163009e-13, 9.99999046e-01, 2.77124155e-08, ...,\n",
       "        8.74280275e-08, 7.30789907e-07, 2.00234873e-09],\n",
       "       ...,\n",
       "       [9.12506182e-12, 2.46456688e-10, 4.66034766e-09, ...,\n",
       "        1.56893805e-08, 4.67077280e-11, 9.74216164e-06],\n",
       "       [2.24390670e-18, 1.01509307e-15, 2.63863072e-16, ...,\n",
       "        9.23635000e-18, 1.01077514e-11, 2.52444719e-14],\n",
       "       [9.67824820e-10, 1.87318435e-15, 3.65469504e-08, ...,\n",
       "        6.95529161e-15, 4.27457202e-12, 5.38567942e-13]], dtype=float32)"
      ]
     },
     "execution_count": 11,
     "metadata": {},
     "output_type": "execute_result"
    }
   ],
   "source": [
    "# Obtenção das previsões \n",
    "previsoes = modelo.predict(X_teste)\n",
    "previsoes"
   ]
  },
  {
   "cell_type": "code",
   "execution_count": 12,
   "metadata": {},
   "outputs": [
    {
     "data": {
      "text/plain": [
       "array([[ 971,    0,    2,    0,    0,    1,    2,    0,    3,    1],\n",
       "       [   0, 1125,    3,    3,    0,    1,    2,    0,    1,    0],\n",
       "       [   3,    0, 1014,    2,    1,    0,    2,    6,    4,    0],\n",
       "       [   0,    1,    5,  983,    0,   10,    0,    4,    0,    7],\n",
       "       [   1,    0,    4,    0,  951,    0,    3,    3,    2,   18],\n",
       "       [   2,    0,    0,    6,    1,  870,    5,    1,    4,    3],\n",
       "       [   8,    3,    4,    0,    4,    5,  930,    0,    4,    0],\n",
       "       [   2,    7,   12,    2,    2,    0,    0,  995,    1,    7],\n",
       "       [  10,    1,    6,    5,    6,    6,    1,    3,  933,    3],\n",
       "       [   4,    5,    0,   10,    7,    5,    0,    3,    2,  973]],\n",
       "      dtype=int64)"
      ]
     },
     "execution_count": 12,
     "metadata": {},
     "output_type": "execute_result"
    }
   ],
   "source": [
    "# valor máximo (com a probabilidade maior por serem 10 saídas) e geração da matriz de confusão\n",
    "y_teste_matriz = [np.argmax(t) for t in y_teste]\n",
    "y_previsoes_matriz = [np.argmax(t) for t in previsoes]\n",
    "confusao = confusion_matrix(y_teste_matriz, y_previsoes_matriz)\n",
    "confusao"
   ]
  },
  {
   "cell_type": "code",
   "execution_count": 13,
   "metadata": {},
   "outputs": [
    {
     "data": {
      "text/plain": [
       "array([0., 0., 0., 0., 1., 0., 0., 0., 0., 0.], dtype=float32)"
      ]
     },
     "execution_count": 13,
     "metadata": {},
     "output_type": "execute_result"
    }
   ],
   "source": [
    "# Previsão com um novo registro, convertendo o array para o formato de matriz\n",
    "#número 4\n",
    "y_treinamento[20]"
   ]
  },
  {
   "cell_type": "code",
   "execution_count": 14,
   "metadata": {},
   "outputs": [
    {
     "name": "stdout",
     "output_type": "stream",
     "text": [
      "1/1 [==============================] - 0s 264ms/step\n"
     ]
    },
    {
     "data": {
      "text/plain": [
       "[4]"
      ]
     },
     "execution_count": 14,
     "metadata": {},
     "output_type": "execute_result"
    }
   ],
   "source": [
    "#passo a mesma posição para o modelo prever\n",
    "novo = X_treinamento[20]\n",
    "#de matriz para vetor\n",
    "novo = np.expand_dims(novo, axis = 0)\n",
    "# previsão\n",
    "pred = modelo.predict(novo)\n",
    "#maior valor\n",
    "pred = [np.argmax(pred) for t in pred]\n",
    "pred"
   ]
  },
  {
   "cell_type": "code",
   "execution_count": null,
   "metadata": {},
   "outputs": [],
   "source": []
  }
 ],
 "metadata": {
  "kernelspec": {
   "display_name": "Python 3.9.12 ('venv': venv)",
   "language": "python",
   "name": "python3"
  },
  "language_info": {
   "codemirror_mode": {
    "name": "ipython",
    "version": 3
   },
   "file_extension": ".py",
   "mimetype": "text/x-python",
   "name": "python",
   "nbconvert_exporter": "python",
   "pygments_lexer": "ipython3",
   "version": "3.9.12"
  },
  "orig_nbformat": 4,
  "vscode": {
   "interpreter": {
    "hash": "fea19b5a4fed20f0abd4b41fa1930df0fe4b8c94eabf60df86233fb8f94f9656"
   }
  }
 },
 "nbformat": 4,
 "nbformat_minor": 2
}
