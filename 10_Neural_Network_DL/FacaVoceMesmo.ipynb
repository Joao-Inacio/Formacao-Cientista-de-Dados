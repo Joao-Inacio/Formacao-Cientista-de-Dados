{
 "cells": [
  {
   "cell_type": "markdown",
   "metadata": {},
   "source": [
    "##### Faça Você Mesmo\n",
    "1. Criar um modelo de ML (pode usar RNA/DL etc)\n",
    "2. Busque a melhor performance"
   ]
  },
  {
   "cell_type": "code",
   "execution_count": 1,
   "metadata": {},
   "outputs": [],
   "source": [
    "# Importação das bibliotecas\n",
    "import matplotlib.pyplot as plt\n",
    "import pandas as pd"
   ]
  },
  {
   "cell_type": "code",
   "execution_count": 2,
   "metadata": {},
   "outputs": [
    {
     "data": {
      "text/html": [
       "<div>\n",
       "<style scoped>\n",
       "    .dataframe tbody tr th:only-of-type {\n",
       "        vertical-align: middle;\n",
       "    }\n",
       "\n",
       "    .dataframe tbody tr th {\n",
       "        vertical-align: top;\n",
       "    }\n",
       "\n",
       "    .dataframe thead th {\n",
       "        text-align: right;\n",
       "    }\n",
       "</style>\n",
       "<table border=\"1\" class=\"dataframe\">\n",
       "  <thead>\n",
       "    <tr style=\"text-align: right;\">\n",
       "      <th></th>\n",
       "      <th>date</th>\n",
       "      <th>plant-stand</th>\n",
       "      <th>precip</th>\n",
       "      <th>temp</th>\n",
       "      <th>hail</th>\n",
       "      <th>crop-hist</th>\n",
       "      <th>area-damaged</th>\n",
       "      <th>severity</th>\n",
       "      <th>seed-tmt</th>\n",
       "      <th>germination</th>\n",
       "      <th>...</th>\n",
       "      <th>sclerotia</th>\n",
       "      <th>fruit-pods</th>\n",
       "      <th>fruit-spots</th>\n",
       "      <th>seed</th>\n",
       "      <th>mold-growth</th>\n",
       "      <th>seed-discolor</th>\n",
       "      <th>seed-size</th>\n",
       "      <th>shriveling</th>\n",
       "      <th>roots</th>\n",
       "      <th>class</th>\n",
       "    </tr>\n",
       "  </thead>\n",
       "  <tbody>\n",
       "    <tr>\n",
       "      <th>0</th>\n",
       "      <td>october</td>\n",
       "      <td>normal</td>\n",
       "      <td>gt-norm</td>\n",
       "      <td>norm</td>\n",
       "      <td>yes</td>\n",
       "      <td>same-lst-yr</td>\n",
       "      <td>low-areas</td>\n",
       "      <td>pot-severe</td>\n",
       "      <td>none</td>\n",
       "      <td>90-100</td>\n",
       "      <td>...</td>\n",
       "      <td>absent</td>\n",
       "      <td>norm</td>\n",
       "      <td>dna</td>\n",
       "      <td>norm</td>\n",
       "      <td>absent</td>\n",
       "      <td>absent</td>\n",
       "      <td>norm</td>\n",
       "      <td>absent</td>\n",
       "      <td>norm</td>\n",
       "      <td>diaporthe-stem-canker</td>\n",
       "    </tr>\n",
       "    <tr>\n",
       "      <th>1</th>\n",
       "      <td>august</td>\n",
       "      <td>normal</td>\n",
       "      <td>gt-norm</td>\n",
       "      <td>norm</td>\n",
       "      <td>yes</td>\n",
       "      <td>same-lst-two-yrs</td>\n",
       "      <td>scattered</td>\n",
       "      <td>severe</td>\n",
       "      <td>fungicide</td>\n",
       "      <td>80-89</td>\n",
       "      <td>...</td>\n",
       "      <td>absent</td>\n",
       "      <td>norm</td>\n",
       "      <td>dna</td>\n",
       "      <td>norm</td>\n",
       "      <td>absent</td>\n",
       "      <td>absent</td>\n",
       "      <td>norm</td>\n",
       "      <td>absent</td>\n",
       "      <td>norm</td>\n",
       "      <td>diaporthe-stem-canker</td>\n",
       "    </tr>\n",
       "    <tr>\n",
       "      <th>2</th>\n",
       "      <td>july</td>\n",
       "      <td>normal</td>\n",
       "      <td>gt-norm</td>\n",
       "      <td>norm</td>\n",
       "      <td>yes</td>\n",
       "      <td>same-lst-yr</td>\n",
       "      <td>scattered</td>\n",
       "      <td>severe</td>\n",
       "      <td>fungicide</td>\n",
       "      <td>lt-80</td>\n",
       "      <td>...</td>\n",
       "      <td>absent</td>\n",
       "      <td>norm</td>\n",
       "      <td>dna</td>\n",
       "      <td>norm</td>\n",
       "      <td>absent</td>\n",
       "      <td>absent</td>\n",
       "      <td>norm</td>\n",
       "      <td>absent</td>\n",
       "      <td>norm</td>\n",
       "      <td>diaporthe-stem-canker</td>\n",
       "    </tr>\n",
       "    <tr>\n",
       "      <th>3</th>\n",
       "      <td>july</td>\n",
       "      <td>normal</td>\n",
       "      <td>gt-norm</td>\n",
       "      <td>norm</td>\n",
       "      <td>yes</td>\n",
       "      <td>same-lst-yr</td>\n",
       "      <td>scattered</td>\n",
       "      <td>severe</td>\n",
       "      <td>none</td>\n",
       "      <td>80-89</td>\n",
       "      <td>...</td>\n",
       "      <td>absent</td>\n",
       "      <td>norm</td>\n",
       "      <td>dna</td>\n",
       "      <td>norm</td>\n",
       "      <td>absent</td>\n",
       "      <td>absent</td>\n",
       "      <td>norm</td>\n",
       "      <td>absent</td>\n",
       "      <td>norm</td>\n",
       "      <td>diaporthe-stem-canker</td>\n",
       "    </tr>\n",
       "    <tr>\n",
       "      <th>4</th>\n",
       "      <td>october</td>\n",
       "      <td>normal</td>\n",
       "      <td>gt-norm</td>\n",
       "      <td>norm</td>\n",
       "      <td>yes</td>\n",
       "      <td>same-lst-two-yrs</td>\n",
       "      <td>scattered</td>\n",
       "      <td>pot-severe</td>\n",
       "      <td>none</td>\n",
       "      <td>lt-80</td>\n",
       "      <td>...</td>\n",
       "      <td>absent</td>\n",
       "      <td>norm</td>\n",
       "      <td>dna</td>\n",
       "      <td>norm</td>\n",
       "      <td>absent</td>\n",
       "      <td>absent</td>\n",
       "      <td>norm</td>\n",
       "      <td>absent</td>\n",
       "      <td>norm</td>\n",
       "      <td>diaporthe-stem-canker</td>\n",
       "    </tr>\n",
       "  </tbody>\n",
       "</table>\n",
       "<p>5 rows × 36 columns</p>\n",
       "</div>"
      ],
      "text/plain": [
       "      date plant-stand   precip  temp hail         crop-hist area-damaged  \\\n",
       "0  october      normal  gt-norm  norm  yes       same-lst-yr    low-areas   \n",
       "1   august      normal  gt-norm  norm  yes  same-lst-two-yrs    scattered   \n",
       "2     july      normal  gt-norm  norm  yes       same-lst-yr    scattered   \n",
       "3     july      normal  gt-norm  norm  yes       same-lst-yr    scattered   \n",
       "4  october      normal  gt-norm  norm  yes  same-lst-two-yrs    scattered   \n",
       "\n",
       "     severity   seed-tmt germination  ... sclerotia fruit-pods fruit-spots  \\\n",
       "0  pot-severe       none      90-100  ...    absent       norm         dna   \n",
       "1      severe  fungicide       80-89  ...    absent       norm         dna   \n",
       "2      severe  fungicide       lt-80  ...    absent       norm         dna   \n",
       "3      severe       none       80-89  ...    absent       norm         dna   \n",
       "4  pot-severe       none       lt-80  ...    absent       norm         dna   \n",
       "\n",
       "   seed mold-growth seed-discolor seed-size shriveling roots  \\\n",
       "0  norm      absent        absent      norm     absent  norm   \n",
       "1  norm      absent        absent      norm     absent  norm   \n",
       "2  norm      absent        absent      norm     absent  norm   \n",
       "3  norm      absent        absent      norm     absent  norm   \n",
       "4  norm      absent        absent      norm     absent  norm   \n",
       "\n",
       "                   class  \n",
       "0  diaporthe-stem-canker  \n",
       "1  diaporthe-stem-canker  \n",
       "2  diaporthe-stem-canker  \n",
       "3  diaporthe-stem-canker  \n",
       "4  diaporthe-stem-canker  \n",
       "\n",
       "[5 rows x 36 columns]"
      ]
     },
     "execution_count": 2,
     "metadata": {},
     "output_type": "execute_result"
    }
   ],
   "source": [
    "# importando e visualizando os dados\n",
    "df = pd.read_csv('./Data/soybean.csv')\n",
    "df.head()"
   ]
  },
  {
   "cell_type": "code",
   "execution_count": 3,
   "metadata": {},
   "outputs": [
    {
     "name": "stdout",
     "output_type": "stream",
     "text": [
      "<class 'pandas.core.frame.DataFrame'>\n",
      "RangeIndex: 683 entries, 0 to 682\n",
      "Data columns (total 36 columns):\n",
      " #   Column           Non-Null Count  Dtype \n",
      "---  ------           --------------  ----- \n",
      " 0   date             683 non-null    object\n",
      " 1   plant-stand      683 non-null    object\n",
      " 2   precip           683 non-null    object\n",
      " 3   temp             683 non-null    object\n",
      " 4   hail             683 non-null    object\n",
      " 5   crop-hist        683 non-null    object\n",
      " 6   area-damaged     683 non-null    object\n",
      " 7   severity         683 non-null    object\n",
      " 8   seed-tmt         683 non-null    object\n",
      " 9   germination      683 non-null    object\n",
      " 10  plant-growth     683 non-null    object\n",
      " 11  leaves           683 non-null    object\n",
      " 12  leafspots-halo   683 non-null    object\n",
      " 13  leafspots-marg   683 non-null    object\n",
      " 14  leafspot-size    683 non-null    object\n",
      " 15  leaf-shread      683 non-null    object\n",
      " 16  leaf-malf        683 non-null    object\n",
      " 17  leaf-mild        683 non-null    object\n",
      " 18  stem             683 non-null    object\n",
      " 19  lodging          683 non-null    object\n",
      " 20  stem-cankers     683 non-null    object\n",
      " 21  canker-lesion    683 non-null    object\n",
      " 22  fruiting-bodies  683 non-null    object\n",
      " 23  external-decay   683 non-null    object\n",
      " 24  mycelium         683 non-null    object\n",
      " 25  int-discolor     683 non-null    object\n",
      " 26  sclerotia        683 non-null    object\n",
      " 27  fruit-pods       683 non-null    object\n",
      " 28  fruit-spots      683 non-null    object\n",
      " 29  seed             683 non-null    object\n",
      " 30  mold-growth      683 non-null    object\n",
      " 31  seed-discolor    683 non-null    object\n",
      " 32  seed-size        683 non-null    object\n",
      " 33  shriveling       683 non-null    object\n",
      " 34  roots            683 non-null    object\n",
      " 35  class            683 non-null    object\n",
      "dtypes: object(36)\n",
      "memory usage: 192.2+ KB\n"
     ]
    }
   ],
   "source": [
    "# Visualizando as informação\n",
    "df.info()"
   ]
  },
  {
   "cell_type": "code",
   "execution_count": 4,
   "metadata": {},
   "outputs": [
    {
     "data": {
      "text/plain": [
       "0      diaporthe-stem-canker\n",
       "1      diaporthe-stem-canker\n",
       "2      diaporthe-stem-canker\n",
       "3      diaporthe-stem-canker\n",
       "4      diaporthe-stem-canker\n",
       "               ...          \n",
       "678             2-4-d-injury\n",
       "679         herbicide-injury\n",
       "680         herbicide-injury\n",
       "681         herbicide-injury\n",
       "682         herbicide-injury\n",
       "Name: class, Length: 683, dtype: object"
      ]
     },
     "execution_count": 4,
     "metadata": {},
     "output_type": "execute_result"
    }
   ],
   "source": [
    "# visualizando a quantidade de class\n",
    "df_class = df['class']\n",
    "df_class"
   ]
  },
  {
   "cell_type": "code",
   "execution_count": 5,
   "metadata": {},
   "outputs": [
    {
     "data": {
      "text/plain": [
       "class\n",
       "2-4-d-injury                   16\n",
       "alternarialeaf-spot            91\n",
       "anthracnose                    44\n",
       "bacterial-blight               20\n",
       "bacterial-pustule              20\n",
       "brown-spot                     92\n",
       "brown-stem-rot                 44\n",
       "charcoal-rot                   20\n",
       "cyst-nematode                  14\n",
       "diaporthe-pod-&-stem-blight    15\n",
       "diaporthe-stem-canker          20\n",
       "downy-mildew                   20\n",
       "frog-eye-leaf-spot             91\n",
       "herbicide-injury                8\n",
       "phyllosticta-leaf-spot         20\n",
       "phytophthora-rot               88\n",
       "powdery-mildew                 20\n",
       "purple-seed-stain              20\n",
       "rhizoctonia-root-rot           20\n",
       "dtype: int64"
      ]
     },
     "execution_count": 5,
     "metadata": {},
     "output_type": "execute_result"
    }
   ],
   "source": [
    "# Agrupando as class\n",
    "agrupado = df.groupby(['class']).size()\n",
    "agrupado"
   ]
  },
  {
   "cell_type": "code",
   "execution_count": 6,
   "metadata": {},
   "outputs": [
    {
     "data": {
      "text/plain": [
       "<AxesSubplot:ylabel='class'>"
      ]
     },
     "execution_count": 6,
     "metadata": {},
     "output_type": "execute_result"
    },
    {
     "data": {
      "image/png": "[encoded data removed]",
      "text/plain": [
       "<Figure size 432x288 with 1 Axes>"
      ]
     },
     "metadata": {},
     "output_type": "display_data"
    }
   ],
   "source": [
    "# Visualizando em forma de gráfico\n",
    "agrupado.plot.barh(color='cyan')"
   ]
  },
  {
   "cell_type": "markdown",
   "metadata": {},
   "source": [
    "##### Implementado Machine Learning\n",
    "com Algoritmo Naïve Bayes\n"
   ]
  },
  {
   "cell_type": "code",
   "execution_count": 7,
   "metadata": {},
   "outputs": [
    {
     "data": {
      "text/plain": [
       "array(['diaporthe-stem-canker', 'diaporthe-stem-canker',\n",
       "       'diaporthe-stem-canker', 'diaporthe-stem-canker',\n",
       "       'diaporthe-stem-canker', 'diaporthe-stem-canker',\n",
       "       'diaporthe-stem-canker', 'diaporthe-stem-canker',\n",
       "       'diaporthe-stem-canker', 'diaporthe-stem-canker', 'charcoal-rot',\n",
       "       'charcoal-rot', 'charcoal-rot', 'charcoal-rot', 'charcoal-rot',\n",
       "       'charcoal-rot', 'charcoal-rot', 'charcoal-rot', 'charcoal-rot',\n",
       "       'charcoal-rot', 'rhizoctonia-root-rot', 'rhizoctonia-root-rot',\n",
       "       'rhizoctonia-root-rot', 'rhizoctonia-root-rot',\n",
       "       'rhizoctonia-root-rot', 'rhizoctonia-root-rot',\n",
       "       'rhizoctonia-root-rot', 'rhizoctonia-root-rot',\n",
       "       'rhizoctonia-root-rot', 'rhizoctonia-root-rot', 'phytophthora-rot',\n",
       "       'phytophthora-rot', 'phytophthora-rot', 'phytophthora-rot',\n",
       "       'phytophthora-rot', 'phytophthora-rot', 'phytophthora-rot',\n",
       "       'phytophthora-rot', 'phytophthora-rot', 'phytophthora-rot',\n",
       "       'phytophthora-rot', 'phytophthora-rot', 'phytophthora-rot',\n",
       "       'phytophthora-rot', 'phytophthora-rot', 'phytophthora-rot',\n",
       "       'phytophthora-rot', 'phytophthora-rot', 'phytophthora-rot',\n",
       "       'phytophthora-rot', 'phytophthora-rot', 'phytophthora-rot',\n",
       "       'phytophthora-rot', 'phytophthora-rot', 'phytophthora-rot',\n",
       "       'phytophthora-rot', 'phytophthora-rot', 'phytophthora-rot',\n",
       "       'phytophthora-rot', 'phytophthora-rot', 'phytophthora-rot',\n",
       "       'phytophthora-rot', 'phytophthora-rot', 'phytophthora-rot',\n",
       "       'phytophthora-rot', 'phytophthora-rot', 'phytophthora-rot',\n",
       "       'phytophthora-rot', 'phytophthora-rot', 'phytophthora-rot',\n",
       "       'brown-stem-rot', 'brown-stem-rot', 'brown-stem-rot',\n",
       "       'brown-stem-rot', 'brown-stem-rot', 'brown-stem-rot',\n",
       "       'brown-stem-rot', 'brown-stem-rot', 'brown-stem-rot',\n",
       "       'brown-stem-rot', 'brown-stem-rot', 'brown-stem-rot',\n",
       "       'brown-stem-rot', 'brown-stem-rot', 'brown-stem-rot',\n",
       "       'brown-stem-rot', 'brown-stem-rot', 'brown-stem-rot',\n",
       "       'brown-stem-rot', 'brown-stem-rot', 'powdery-mildew',\n",
       "       'powdery-mildew', 'powdery-mildew', 'powdery-mildew',\n",
       "       'powdery-mildew', 'powdery-mildew', 'powdery-mildew',\n",
       "       'powdery-mildew', 'powdery-mildew', 'powdery-mildew',\n",
       "       'downy-mildew', 'downy-mildew', 'downy-mildew', 'downy-mildew',\n",
       "       'downy-mildew', 'downy-mildew', 'downy-mildew', 'downy-mildew',\n",
       "       'downy-mildew', 'downy-mildew', 'brown-spot', 'brown-spot',\n",
       "       'brown-spot', 'brown-spot', 'brown-spot', 'brown-spot',\n",
       "       'brown-spot', 'brown-spot', 'brown-spot', 'brown-spot',\n",
       "       'brown-spot', 'brown-spot', 'brown-spot', 'brown-spot',\n",
       "       'brown-spot', 'brown-spot', 'brown-spot', 'brown-spot',\n",
       "       'brown-spot', 'brown-spot', 'brown-spot', 'brown-spot',\n",
       "       'brown-spot', 'brown-spot', 'brown-spot', 'brown-spot',\n",
       "       'brown-spot', 'brown-spot', 'brown-spot', 'brown-spot',\n",
       "       'brown-spot', 'brown-spot', 'brown-spot', 'brown-spot',\n",
       "       'brown-spot', 'brown-spot', 'brown-spot', 'brown-spot',\n",
       "       'brown-spot', 'brown-spot', 'bacterial-blight', 'bacterial-blight',\n",
       "       'bacterial-blight', 'bacterial-blight', 'bacterial-blight',\n",
       "       'bacterial-blight', 'bacterial-blight', 'bacterial-blight',\n",
       "       'bacterial-blight', 'bacterial-blight', 'bacterial-pustule',\n",
       "       'bacterial-pustule', 'bacterial-pustule', 'bacterial-pustule',\n",
       "       'bacterial-pustule', 'bacterial-pustule', 'bacterial-pustule',\n",
       "       'bacterial-pustule', 'bacterial-pustule', 'bacterial-pustule',\n",
       "       'purple-seed-stain', 'purple-seed-stain', 'purple-seed-stain',\n",
       "       'purple-seed-stain', 'purple-seed-stain', 'purple-seed-stain',\n",
       "       'purple-seed-stain', 'purple-seed-stain', 'purple-seed-stain',\n",
       "       'purple-seed-stain', 'anthracnose', 'anthracnose', 'anthracnose',\n",
       "       'anthracnose', 'anthracnose', 'anthracnose', 'anthracnose',\n",
       "       'anthracnose', 'anthracnose', 'anthracnose', 'anthracnose',\n",
       "       'anthracnose', 'anthracnose', 'anthracnose', 'anthracnose',\n",
       "       'anthracnose', 'anthracnose', 'anthracnose', 'anthracnose',\n",
       "       'anthracnose', 'phyllosticta-leaf-spot', 'phyllosticta-leaf-spot',\n",
       "       'phyllosticta-leaf-spot', 'phyllosticta-leaf-spot',\n",
       "       'phyllosticta-leaf-spot', 'phyllosticta-leaf-spot',\n",
       "       'phyllosticta-leaf-spot', 'phyllosticta-leaf-spot',\n",
       "       'phyllosticta-leaf-spot', 'phyllosticta-leaf-spot',\n",
       "       'alternarialeaf-spot', 'alternarialeaf-spot',\n",
       "       'alternarialeaf-spot', 'alternarialeaf-spot',\n",
       "       'alternarialeaf-spot', 'alternarialeaf-spot',\n",
       "       'alternarialeaf-spot', 'alternarialeaf-spot',\n",
       "       'alternarialeaf-spot', 'alternarialeaf-spot',\n",
       "       'alternarialeaf-spot', 'alternarialeaf-spot',\n",
       "       'alternarialeaf-spot', 'alternarialeaf-spot',\n",
       "       'alternarialeaf-spot', 'alternarialeaf-spot',\n",
       "       'alternarialeaf-spot', 'alternarialeaf-spot',\n",
       "       'alternarialeaf-spot', 'alternarialeaf-spot',\n",
       "       'alternarialeaf-spot', 'alternarialeaf-spot',\n",
       "       'alternarialeaf-spot', 'alternarialeaf-spot',\n",
       "       'alternarialeaf-spot', 'alternarialeaf-spot',\n",
       "       'alternarialeaf-spot', 'alternarialeaf-spot',\n",
       "       'alternarialeaf-spot', 'alternarialeaf-spot',\n",
       "       'alternarialeaf-spot', 'alternarialeaf-spot',\n",
       "       'alternarialeaf-spot', 'alternarialeaf-spot',\n",
       "       'alternarialeaf-spot', 'alternarialeaf-spot',\n",
       "       'alternarialeaf-spot', 'alternarialeaf-spot',\n",
       "       'alternarialeaf-spot', 'alternarialeaf-spot', 'frog-eye-leaf-spot',\n",
       "       'frog-eye-leaf-spot', 'frog-eye-leaf-spot', 'frog-eye-leaf-spot',\n",
       "       'frog-eye-leaf-spot', 'frog-eye-leaf-spot', 'frog-eye-leaf-spot',\n",
       "       'frog-eye-leaf-spot', 'frog-eye-leaf-spot', 'frog-eye-leaf-spot',\n",
       "       'frog-eye-leaf-spot', 'frog-eye-leaf-spot', 'frog-eye-leaf-spot',\n",
       "       'frog-eye-leaf-spot', 'frog-eye-leaf-spot', 'frog-eye-leaf-spot',\n",
       "       'frog-eye-leaf-spot', 'frog-eye-leaf-spot', 'frog-eye-leaf-spot',\n",
       "       'frog-eye-leaf-spot', 'frog-eye-leaf-spot', 'frog-eye-leaf-spot',\n",
       "       'frog-eye-leaf-spot', 'frog-eye-leaf-spot', 'frog-eye-leaf-spot',\n",
       "       'frog-eye-leaf-spot', 'frog-eye-leaf-spot', 'frog-eye-leaf-spot',\n",
       "       'frog-eye-leaf-spot', 'frog-eye-leaf-spot', 'frog-eye-leaf-spot',\n",
       "       'frog-eye-leaf-spot', 'frog-eye-leaf-spot', 'frog-eye-leaf-spot',\n",
       "       'frog-eye-leaf-spot', 'frog-eye-leaf-spot', 'frog-eye-leaf-spot',\n",
       "       'frog-eye-leaf-spot', 'frog-eye-leaf-spot', 'frog-eye-leaf-spot',\n",
       "       'diaporthe-pod-&-stem-blight', 'diaporthe-pod-&-stem-blight',\n",
       "       'diaporthe-pod-&-stem-blight', 'diaporthe-pod-&-stem-blight',\n",
       "       'diaporthe-pod-&-stem-blight', 'diaporthe-pod-&-stem-blight',\n",
       "       'cyst-nematode', 'cyst-nematode', 'cyst-nematode', 'cyst-nematode',\n",
       "       'cyst-nematode', 'cyst-nematode', '2-4-d-injury',\n",
       "       'herbicide-injury', 'herbicide-injury', 'herbicide-injury',\n",
       "       'herbicide-injury', 'diaporthe-stem-canker',\n",
       "       'diaporthe-stem-canker', 'diaporthe-stem-canker',\n",
       "       'diaporthe-stem-canker', 'diaporthe-stem-canker',\n",
       "       'diaporthe-stem-canker', 'diaporthe-stem-canker',\n",
       "       'diaporthe-stem-canker', 'diaporthe-stem-canker',\n",
       "       'diaporthe-stem-canker', 'charcoal-rot', 'charcoal-rot',\n",
       "       'charcoal-rot', 'charcoal-rot', 'charcoal-rot', 'charcoal-rot',\n",
       "       'charcoal-rot', 'charcoal-rot', 'charcoal-rot', 'charcoal-rot',\n",
       "       'rhizoctonia-root-rot', 'rhizoctonia-root-rot',\n",
       "       'rhizoctonia-root-rot', 'rhizoctonia-root-rot',\n",
       "       'rhizoctonia-root-rot', 'rhizoctonia-root-rot',\n",
       "       'rhizoctonia-root-rot', 'rhizoctonia-root-rot',\n",
       "       'rhizoctonia-root-rot', 'rhizoctonia-root-rot', 'phytophthora-rot',\n",
       "       'phytophthora-rot', 'phytophthora-rot', 'phytophthora-rot',\n",
       "       'phytophthora-rot', 'phytophthora-rot', 'phytophthora-rot',\n",
       "       'phytophthora-rot', 'phytophthora-rot', 'phytophthora-rot',\n",
       "       'phytophthora-rot', 'phytophthora-rot', 'phytophthora-rot',\n",
       "       'phytophthora-rot', 'phytophthora-rot', 'phytophthora-rot',\n",
       "       'phytophthora-rot', 'phytophthora-rot', 'phytophthora-rot',\n",
       "       'phytophthora-rot', 'phytophthora-rot', 'phytophthora-rot',\n",
       "       'phytophthora-rot', 'phytophthora-rot', 'phytophthora-rot',\n",
       "       'phytophthora-rot', 'phytophthora-rot', 'phytophthora-rot',\n",
       "       'phytophthora-rot', 'phytophthora-rot', 'phytophthora-rot',\n",
       "       'phytophthora-rot', 'phytophthora-rot', 'phytophthora-rot',\n",
       "       'phytophthora-rot', 'phytophthora-rot', 'phytophthora-rot',\n",
       "       'phytophthora-rot', 'phytophthora-rot', 'phytophthora-rot',\n",
       "       'phytophthora-rot', 'phytophthora-rot', 'phytophthora-rot',\n",
       "       'phytophthora-rot', 'phytophthora-rot', 'phytophthora-rot',\n",
       "       'phytophthora-rot', 'phytophthora-rot', 'brown-stem-rot',\n",
       "       'brown-stem-rot', 'brown-stem-rot', 'brown-stem-rot',\n",
       "       'brown-stem-rot', 'brown-stem-rot', 'brown-stem-rot',\n",
       "       'brown-stem-rot', 'brown-stem-rot', 'brown-stem-rot',\n",
       "       'brown-stem-rot', 'brown-stem-rot', 'brown-stem-rot',\n",
       "       'brown-stem-rot', 'brown-stem-rot', 'brown-stem-rot',\n",
       "       'brown-stem-rot', 'brown-stem-rot', 'brown-stem-rot',\n",
       "       'brown-stem-rot', 'brown-stem-rot', 'brown-stem-rot',\n",
       "       'brown-stem-rot', 'brown-stem-rot', 'powdery-mildew',\n",
       "       'powdery-mildew', 'powdery-mildew', 'powdery-mildew',\n",
       "       'powdery-mildew', 'powdery-mildew', 'powdery-mildew',\n",
       "       'powdery-mildew', 'powdery-mildew', 'powdery-mildew',\n",
       "       'downy-mildew', 'downy-mildew', 'downy-mildew', 'downy-mildew',\n",
       "       'downy-mildew', 'downy-mildew', 'downy-mildew', 'downy-mildew',\n",
       "       'downy-mildew', 'downy-mildew', 'brown-spot', 'brown-spot',\n",
       "       'brown-spot', 'brown-spot', 'brown-spot', 'brown-spot',\n",
       "       'brown-spot', 'brown-spot', 'brown-spot', 'brown-spot',\n",
       "       'brown-spot', 'brown-spot', 'brown-spot', 'brown-spot',\n",
       "       'brown-spot', 'brown-spot', 'brown-spot', 'brown-spot',\n",
       "       'brown-spot', 'brown-spot', 'brown-spot', 'brown-spot',\n",
       "       'brown-spot', 'brown-spot', 'brown-spot', 'brown-spot',\n",
       "       'brown-spot', 'brown-spot', 'brown-spot', 'brown-spot',\n",
       "       'brown-spot', 'brown-spot', 'brown-spot', 'brown-spot',\n",
       "       'brown-spot', 'brown-spot', 'brown-spot', 'brown-spot',\n",
       "       'brown-spot', 'brown-spot', 'brown-spot', 'brown-spot',\n",
       "       'brown-spot', 'brown-spot', 'brown-spot', 'brown-spot',\n",
       "       'brown-spot', 'brown-spot', 'brown-spot', 'brown-spot',\n",
       "       'brown-spot', 'brown-spot', 'bacterial-blight', 'bacterial-blight',\n",
       "       'bacterial-blight', 'bacterial-blight', 'bacterial-blight',\n",
       "       'bacterial-blight', 'bacterial-blight', 'bacterial-blight',\n",
       "       'bacterial-blight', 'bacterial-blight', 'bacterial-pustule',\n",
       "       'bacterial-pustule', 'bacterial-pustule', 'bacterial-pustule',\n",
       "       'bacterial-pustule', 'bacterial-pustule', 'bacterial-pustule',\n",
       "       'bacterial-pustule', 'bacterial-pustule', 'bacterial-pustule',\n",
       "       'purple-seed-stain', 'purple-seed-stain', 'purple-seed-stain',\n",
       "       'purple-seed-stain', 'purple-seed-stain', 'purple-seed-stain',\n",
       "       'purple-seed-stain', 'purple-seed-stain', 'purple-seed-stain',\n",
       "       'purple-seed-stain', 'anthracnose', 'anthracnose', 'anthracnose',\n",
       "       'anthracnose', 'anthracnose', 'anthracnose', 'anthracnose',\n",
       "       'anthracnose', 'anthracnose', 'anthracnose', 'anthracnose',\n",
       "       'anthracnose', 'anthracnose', 'anthracnose', 'anthracnose',\n",
       "       'anthracnose', 'anthracnose', 'anthracnose', 'anthracnose',\n",
       "       'anthracnose', 'anthracnose', 'anthracnose', 'anthracnose',\n",
       "       'anthracnose', 'phyllosticta-leaf-spot', 'phyllosticta-leaf-spot',\n",
       "       'phyllosticta-leaf-spot', 'phyllosticta-leaf-spot',\n",
       "       'phyllosticta-leaf-spot', 'phyllosticta-leaf-spot',\n",
       "       'phyllosticta-leaf-spot', 'phyllosticta-leaf-spot',\n",
       "       'phyllosticta-leaf-spot', 'phyllosticta-leaf-spot',\n",
       "       'alternarialeaf-spot', 'alternarialeaf-spot',\n",
       "       'alternarialeaf-spot', 'alternarialeaf-spot',\n",
       "       'alternarialeaf-spot', 'alternarialeaf-spot',\n",
       "       'alternarialeaf-spot', 'alternarialeaf-spot',\n",
       "       'alternarialeaf-spot', 'alternarialeaf-spot',\n",
       "       'alternarialeaf-spot', 'alternarialeaf-spot',\n",
       "       'alternarialeaf-spot', 'alternarialeaf-spot',\n",
       "       'alternarialeaf-spot', 'alternarialeaf-spot',\n",
       "       'alternarialeaf-spot', 'alternarialeaf-spot',\n",
       "       'alternarialeaf-spot', 'alternarialeaf-spot',\n",
       "       'alternarialeaf-spot', 'alternarialeaf-spot',\n",
       "       'alternarialeaf-spot', 'alternarialeaf-spot',\n",
       "       'alternarialeaf-spot', 'alternarialeaf-spot',\n",
       "       'alternarialeaf-spot', 'alternarialeaf-spot',\n",
       "       'alternarialeaf-spot', 'alternarialeaf-spot',\n",
       "       'alternarialeaf-spot', 'alternarialeaf-spot',\n",
       "       'alternarialeaf-spot', 'alternarialeaf-spot',\n",
       "       'alternarialeaf-spot', 'alternarialeaf-spot',\n",
       "       'alternarialeaf-spot', 'alternarialeaf-spot',\n",
       "       'alternarialeaf-spot', 'alternarialeaf-spot',\n",
       "       'alternarialeaf-spot', 'alternarialeaf-spot',\n",
       "       'alternarialeaf-spot', 'alternarialeaf-spot',\n",
       "       'alternarialeaf-spot', 'alternarialeaf-spot',\n",
       "       'alternarialeaf-spot', 'alternarialeaf-spot',\n",
       "       'alternarialeaf-spot', 'alternarialeaf-spot',\n",
       "       'alternarialeaf-spot', 'frog-eye-leaf-spot', 'frog-eye-leaf-spot',\n",
       "       'frog-eye-leaf-spot', 'frog-eye-leaf-spot', 'frog-eye-leaf-spot',\n",
       "       'frog-eye-leaf-spot', 'frog-eye-leaf-spot', 'frog-eye-leaf-spot',\n",
       "       'frog-eye-leaf-spot', 'frog-eye-leaf-spot', 'frog-eye-leaf-spot',\n",
       "       'frog-eye-leaf-spot', 'frog-eye-leaf-spot', 'frog-eye-leaf-spot',\n",
       "       'frog-eye-leaf-spot', 'frog-eye-leaf-spot', 'frog-eye-leaf-spot',\n",
       "       'frog-eye-leaf-spot', 'frog-eye-leaf-spot', 'frog-eye-leaf-spot',\n",
       "       'frog-eye-leaf-spot', 'frog-eye-leaf-spot', 'frog-eye-leaf-spot',\n",
       "       'frog-eye-leaf-spot', 'frog-eye-leaf-spot', 'frog-eye-leaf-spot',\n",
       "       'frog-eye-leaf-spot', 'frog-eye-leaf-spot', 'frog-eye-leaf-spot',\n",
       "       'frog-eye-leaf-spot', 'frog-eye-leaf-spot', 'frog-eye-leaf-spot',\n",
       "       'frog-eye-leaf-spot', 'frog-eye-leaf-spot', 'frog-eye-leaf-spot',\n",
       "       'frog-eye-leaf-spot', 'frog-eye-leaf-spot', 'frog-eye-leaf-spot',\n",
       "       'frog-eye-leaf-spot', 'frog-eye-leaf-spot', 'frog-eye-leaf-spot',\n",
       "       'frog-eye-leaf-spot', 'frog-eye-leaf-spot', 'frog-eye-leaf-spot',\n",
       "       'frog-eye-leaf-spot', 'frog-eye-leaf-spot', 'frog-eye-leaf-spot',\n",
       "       'frog-eye-leaf-spot', 'frog-eye-leaf-spot', 'frog-eye-leaf-spot',\n",
       "       'frog-eye-leaf-spot', 'diaporthe-pod-&-stem-blight',\n",
       "       'diaporthe-pod-&-stem-blight', 'diaporthe-pod-&-stem-blight',\n",
       "       'diaporthe-pod-&-stem-blight', 'diaporthe-pod-&-stem-blight',\n",
       "       'diaporthe-pod-&-stem-blight', 'diaporthe-pod-&-stem-blight',\n",
       "       'diaporthe-pod-&-stem-blight', 'diaporthe-pod-&-stem-blight',\n",
       "       'cyst-nematode', 'cyst-nematode', 'cyst-nematode', 'cyst-nematode',\n",
       "       'cyst-nematode', 'cyst-nematode', 'cyst-nematode', 'cyst-nematode',\n",
       "       '2-4-d-injury', '2-4-d-injury', '2-4-d-injury', '2-4-d-injury',\n",
       "       '2-4-d-injury', '2-4-d-injury', '2-4-d-injury', '2-4-d-injury',\n",
       "       '2-4-d-injury', '2-4-d-injury', '2-4-d-injury', '2-4-d-injury',\n",
       "       '2-4-d-injury', '2-4-d-injury', '2-4-d-injury', 'herbicide-injury',\n",
       "       'herbicide-injury', 'herbicide-injury', 'herbicide-injury'],\n",
       "      dtype=object)"
      ]
     },
     "execution_count": 7,
     "metadata": {},
     "output_type": "execute_result"
    }
   ],
   "source": [
    "# Criando os previsores e a class\n",
    "previsores = df.iloc[:,0:35].values\n",
    "classe = df.iloc[:,35].values\n",
    "classe"
   ]
  },
  {
   "cell_type": "code",
   "execution_count": 8,
   "metadata": {},
   "outputs": [],
   "source": [
    "# importando as função de  Naïve Bayes\n",
    "from sklearn.model_selection import train_test_split\n",
    "from sklearn.naive_bayes import GaussianNB\n",
    "from sklearn.preprocessing import LabelEncoder\n",
    "from sklearn.metrics import confusion_matrix, accuracy_score\n",
    "from yellowbrick.classifier import ConfusionMatrix "
   ]
  },
  {
   "cell_type": "code",
   "execution_count": 9,
   "metadata": {},
   "outputs": [],
   "source": [
    "for i in range(0, 35):\n",
    "    labelencoder0 = LabelEncoder()\n",
    "    previsores[:,i] = labelencoder0.fit_transform(previsores[:,i])"
   ]
  },
  {
   "cell_type": "code",
   "execution_count": 10,
   "metadata": {},
   "outputs": [
    {
     "data": {
      "text/plain": [
       "array([[4, 2, 1, ..., 2, 1, 2],\n",
       "       [2, 1, 3, ..., 0, 0, 3],\n",
       "       [5, 1, 0, ..., 0, 0, 3],\n",
       "       ...,\n",
       "       [7, 2, 1, ..., 2, 1, 2],\n",
       "       [4, 1, 1, ..., 2, 1, 3],\n",
       "       [5, 1, 3, ..., 1, 2, 0]], dtype=object)"
      ]
     },
     "execution_count": 10,
     "metadata": {},
     "output_type": "execute_result"
    }
   ],
   "source": [
    "# Divisão da base de dados entre treinamento e teste\n",
    "# (30% para testar e 70% para treinar)\n",
    "X_treinamento, X_teste, y_treinamento, y_teste = train_test_split(\n",
    "    previsores, classe, test_size = 0.3, random_state = 0\n",
    ")\n",
    "X_teste"
   ]
  },
  {
   "cell_type": "code",
   "execution_count": 11,
   "metadata": {},
   "outputs": [
    {
     "data": {
      "text/plain": [
       "GaussianNB()"
      ]
     },
     "execution_count": 11,
     "metadata": {},
     "output_type": "execute_result"
    }
   ],
   "source": [
    "# Criação e treinamento do modelo (geração da tabela de probabilidades)\n",
    "naive_bayes = GaussianNB()\n",
    "naive_bayes.fit(X_treinamento, y_treinamento)"
   ]
  },
  {
   "cell_type": "code",
   "execution_count": 12,
   "metadata": {},
   "outputs": [
    {
     "data": {
      "text/plain": [
       "array(['alternarialeaf-spot', 'phytophthora-rot', 'herbicide-injury',\n",
       "       'purple-seed-stain', 'cyst-nematode', 'bacterial-blight',\n",
       "       'brown-stem-rot', 'bacterial-pustule', 'brown-spot',\n",
       "       'alternarialeaf-spot', 'charcoal-rot', 'bacterial-blight',\n",
       "       'anthracnose', 'anthracnose', 'alternarialeaf-spot', 'brown-spot',\n",
       "       'alternarialeaf-spot', 'alternarialeaf-spot',\n",
       "       'rhizoctonia-root-rot', 'phytophthora-rot', 'anthracnose',\n",
       "       'brown-stem-rot', 'phyllosticta-leaf-spot',\n",
       "       'phyllosticta-leaf-spot', 'diaporthe-stem-canker', 'brown-spot',\n",
       "       'anthracnose', 'diaporthe-stem-canker', 'bacterial-pustule',\n",
       "       'phytophthora-rot', 'frog-eye-leaf-spot', 'alternarialeaf-spot',\n",
       "       'phyllosticta-leaf-spot', 'frog-eye-leaf-spot',\n",
       "       'frog-eye-leaf-spot', 'bacterial-pustule', 'brown-stem-rot',\n",
       "       'charcoal-rot', 'brown-spot', 'alternarialeaf-spot',\n",
       "       'brown-stem-rot', 'alternarialeaf-spot', 'phytophthora-rot',\n",
       "       'anthracnose', 'bacterial-blight', '2-4-d-injury',\n",
       "       'alternarialeaf-spot', 'phyllosticta-leaf-spot',\n",
       "       'phyllosticta-leaf-spot', 'alternarialeaf-spot',\n",
       "       'phyllosticta-leaf-spot', 'brown-stem-rot', 'anthracnose',\n",
       "       'frog-eye-leaf-spot', 'brown-stem-rot', 'frog-eye-leaf-spot',\n",
       "       'alternarialeaf-spot', 'diaporthe-stem-canker', 'brown-stem-rot',\n",
       "       'downy-mildew', 'bacterial-pustule', 'downy-mildew',\n",
       "       'alternarialeaf-spot', 'alternarialeaf-spot', 'bacterial-blight',\n",
       "       'anthracnose', 'rhizoctonia-root-rot', 'phytophthora-rot',\n",
       "       'anthracnose', 'anthracnose', 'cyst-nematode',\n",
       "       'alternarialeaf-spot', 'alternarialeaf-spot', 'brown-spot',\n",
       "       'rhizoctonia-root-rot', 'phytophthora-rot', 'phytophthora-rot',\n",
       "       'frog-eye-leaf-spot', 'frog-eye-leaf-spot',\n",
       "       'diaporthe-stem-canker', 'brown-spot', 'frog-eye-leaf-spot',\n",
       "       'alternarialeaf-spot', 'diaporthe-stem-canker',\n",
       "       'purple-seed-stain', 'phytophthora-rot', 'anthracnose',\n",
       "       'alternarialeaf-spot', 'frog-eye-leaf-spot', 'phytophthora-rot',\n",
       "       'charcoal-rot', 'brown-spot', 'diaporthe-stem-canker',\n",
       "       'anthracnose', 'anthracnose', 'anthracnose', 'brown-spot',\n",
       "       'phytophthora-rot', 'downy-mildew', 'alternarialeaf-spot',\n",
       "       'anthracnose', 'alternarialeaf-spot', 'brown-spot',\n",
       "       'alternarialeaf-spot', 'charcoal-rot', 'downy-mildew',\n",
       "       'anthracnose', 'phyllosticta-leaf-spot', 'alternarialeaf-spot',\n",
       "       'cyst-nematode', 'anthracnose', 'phyllosticta-leaf-spot',\n",
       "       'alternarialeaf-spot', 'alternarialeaf-spot', 'charcoal-rot',\n",
       "       'phyllosticta-leaf-spot', 'frog-eye-leaf-spot',\n",
       "       'rhizoctonia-root-rot', 'brown-stem-rot', 'phytophthora-rot',\n",
       "       'phytophthora-rot', 'charcoal-rot', 'frog-eye-leaf-spot',\n",
       "       'anthracnose', '2-4-d-injury', 'phytophthora-rot', 'brown-spot',\n",
       "       'alternarialeaf-spot', 'anthracnose',\n",
       "       'diaporthe-pod-&-stem-blight', 'phyllosticta-leaf-spot',\n",
       "       'anthracnose', 'rhizoctonia-root-rot', 'alternarialeaf-spot',\n",
       "       'purple-seed-stain', 'bacterial-pustule', 'brown-stem-rot',\n",
       "       'diaporthe-stem-canker', 'phyllosticta-leaf-spot',\n",
       "       'frog-eye-leaf-spot', 'brown-stem-rot', 'downy-mildew',\n",
       "       'alternarialeaf-spot', 'purple-seed-stain', 'alternarialeaf-spot',\n",
       "       'alternarialeaf-spot', 'alternarialeaf-spot', 'powdery-mildew',\n",
       "       'frog-eye-leaf-spot', 'phyllosticta-leaf-spot', '2-4-d-injury',\n",
       "       'phytophthora-rot', 'frog-eye-leaf-spot', 'phytophthora-rot',\n",
       "       'bacterial-blight', 'bacterial-blight', 'brown-stem-rot',\n",
       "       'bacterial-blight', 'purple-seed-stain', 'herbicide-injury',\n",
       "       'diaporthe-pod-&-stem-blight', 'phyllosticta-leaf-spot',\n",
       "       'alternarialeaf-spot', 'charcoal-rot', 'bacterial-pustule',\n",
       "       'cyst-nematode', 'frog-eye-leaf-spot', 'bacterial-blight',\n",
       "       'charcoal-rot', 'brown-stem-rot', 'powdery-mildew',\n",
       "       'phyllosticta-leaf-spot', 'phytophthora-rot',\n",
       "       'alternarialeaf-spot', 'cyst-nematode', 'phytophthora-rot',\n",
       "       'frog-eye-leaf-spot', 'alternarialeaf-spot', 'frog-eye-leaf-spot',\n",
       "       'anthracnose', 'alternarialeaf-spot', 'charcoal-rot',\n",
       "       'alternarialeaf-spot', 'alternarialeaf-spot',\n",
       "       'diaporthe-stem-canker', 'frog-eye-leaf-spot', 'brown-stem-rot',\n",
       "       'frog-eye-leaf-spot', 'diaporthe-pod-&-stem-blight',\n",
       "       'phytophthora-rot', 'diaporthe-pod-&-stem-blight',\n",
       "       'frog-eye-leaf-spot', 'anthracnose', 'alternarialeaf-spot',\n",
       "       'frog-eye-leaf-spot', 'phytophthora-rot', 'powdery-mildew',\n",
       "       'alternarialeaf-spot', 'herbicide-injury', 'alternarialeaf-spot',\n",
       "       'anthracnose', 'diaporthe-pod-&-stem-blight', 'purple-seed-stain',\n",
       "       'bacterial-pustule', 'diaporthe-pod-&-stem-blight'], dtype='<U27')"
      ]
     },
     "execution_count": 12,
     "metadata": {},
     "output_type": "execute_result"
    }
   ],
   "source": [
    "# Previsões utilizando os registros de teste\n",
    "previsoes = naive_bayes.predict(X_teste)\n",
    "previsoes"
   ]
  },
  {
   "cell_type": "code",
   "execution_count": 13,
   "metadata": {},
   "outputs": [
    {
     "data": {
      "image/png": "[encoded data removed]",
      "text/plain": [
       "<Figure size 576x396 with 1 Axes>"
      ]
     },
     "metadata": {},
     "output_type": "display_data"
    },
    {
     "data": {
      "text/plain": [
       "<AxesSubplot:title={'center':'GaussianNB Confusion Matrix'}, xlabel='Predicted Class', ylabel='True Class'>"
      ]
     },
     "execution_count": 13,
     "metadata": {},
     "output_type": "execute_result"
    }
   ],
   "source": [
    "# Visualização da matriz de confusão\n",
    "v = ConfusionMatrix(GaussianNB())\n",
    "v.fit(X_treinamento, y_treinamento)\n",
    "v.score(X_teste, y_teste)\n",
    "v.poof()"
   ]
  },
  {
   "cell_type": "code",
   "execution_count": 14,
   "metadata": {},
   "outputs": [
    {
     "data": {
      "text/plain": [
       "0.8585365853658536"
      ]
     },
     "execution_count": 14,
     "metadata": {},
     "output_type": "execute_result"
    }
   ],
   "source": [
    "# visualizando a taxa de acerto\n",
    "taxa_acerto = accuracy_score(y_teste, previsoes)\n",
    "taxa_erro = 1 - taxa_acerto\n",
    "taxa_acerto"
   ]
  },
  {
   "cell_type": "markdown",
   "metadata": {},
   "source": [
    "Testando com Árvores de decisão"
   ]
  },
  {
   "cell_type": "code",
   "execution_count": 15,
   "metadata": {},
   "outputs": [],
   "source": [
    "# Importação das bibliotecas\n",
    "from sklearn.tree import DecisionTreeClassifier\n",
    "import graphviz\n",
    "from sklearn.tree import export_graphviz"
   ]
  },
  {
   "cell_type": "code",
   "execution_count": 16,
   "metadata": {},
   "outputs": [
    {
     "data": {
      "text/plain": [
       "DecisionTreeClassifier()"
      ]
     },
     "execution_count": 16,
     "metadata": {},
     "output_type": "execute_result"
    }
   ],
   "source": [
    "# Criação e treinamento do modelo\n",
    "arvore = DecisionTreeClassifier()\n",
    "arvore.fit(X_treinamento, y_treinamento)"
   ]
  },
  {
   "cell_type": "code",
   "execution_count": 17,
   "metadata": {},
   "outputs": [],
   "source": [
    "# Exportação da árvore de decisão para o formato .dot\n",
    "# para posterior visualização\n",
    "export_graphviz(arvore, out_file = 'tree.dot')"
   ]
  },
  {
   "cell_type": "code",
   "execution_count": 18,
   "metadata": {},
   "outputs": [
    {
     "data": {
      "text/plain": [
       "array(['brown-spot', 'phytophthora-rot', 'herbicide-injury',\n",
       "       'purple-seed-stain', 'cyst-nematode', 'bacterial-blight',\n",
       "       'brown-stem-rot', 'bacterial-pustule', 'brown-spot',\n",
       "       'alternarialeaf-spot', 'charcoal-rot', 'bacterial-blight',\n",
       "       'anthracnose', 'anthracnose', 'alternarialeaf-spot', 'brown-spot',\n",
       "       'alternarialeaf-spot', 'alternarialeaf-spot',\n",
       "       'rhizoctonia-root-rot', 'phytophthora-rot', 'anthracnose',\n",
       "       'brown-stem-rot', 'brown-spot', 'phyllosticta-leaf-spot',\n",
       "       'diaporthe-stem-canker', 'brown-spot', 'anthracnose',\n",
       "       'diaporthe-stem-canker', 'bacterial-blight', 'phytophthora-rot',\n",
       "       'frog-eye-leaf-spot', 'alternarialeaf-spot',\n",
       "       'phyllosticta-leaf-spot', 'brown-spot', 'brown-spot',\n",
       "       'bacterial-pustule', 'brown-stem-rot', 'charcoal-rot',\n",
       "       'brown-spot', 'brown-spot', 'brown-stem-rot',\n",
       "       'alternarialeaf-spot', 'phytophthora-rot', 'anthracnose',\n",
       "       'bacterial-pustule', '2-4-d-injury', 'alternarialeaf-spot',\n",
       "       'phyllosticta-leaf-spot', 'phyllosticta-leaf-spot',\n",
       "       'alternarialeaf-spot', 'phyllosticta-leaf-spot', 'brown-stem-rot',\n",
       "       'phytophthora-rot', 'frog-eye-leaf-spot', 'brown-stem-rot',\n",
       "       'frog-eye-leaf-spot', 'frog-eye-leaf-spot',\n",
       "       'diaporthe-stem-canker', 'brown-stem-rot', 'downy-mildew',\n",
       "       'bacterial-pustule', 'downy-mildew', 'alternarialeaf-spot',\n",
       "       'alternarialeaf-spot', 'bacterial-blight', 'anthracnose',\n",
       "       'rhizoctonia-root-rot', 'purple-seed-stain', 'phytophthora-rot',\n",
       "       'phytophthora-rot', 'cyst-nematode', 'alternarialeaf-spot',\n",
       "       'alternarialeaf-spot', 'brown-spot', 'rhizoctonia-root-rot',\n",
       "       'phytophthora-rot', 'phytophthora-rot', 'frog-eye-leaf-spot',\n",
       "       'frog-eye-leaf-spot', 'diaporthe-stem-canker', 'brown-spot',\n",
       "       'frog-eye-leaf-spot', 'alternarialeaf-spot',\n",
       "       'diaporthe-stem-canker', 'purple-seed-stain', 'phytophthora-rot',\n",
       "       'anthracnose', 'alternarialeaf-spot', 'brown-spot',\n",
       "       'phytophthora-rot', 'charcoal-rot', 'brown-spot',\n",
       "       'diaporthe-stem-canker', 'phytophthora-rot', 'phytophthora-rot',\n",
       "       'phytophthora-rot', 'brown-spot', 'phytophthora-rot',\n",
       "       'downy-mildew', 'alternarialeaf-spot', 'anthracnose',\n",
       "       'alternarialeaf-spot', 'brown-spot', 'alternarialeaf-spot',\n",
       "       'charcoal-rot', 'downy-mildew', 'phytophthora-rot', 'brown-spot',\n",
       "       'brown-spot', 'cyst-nematode', 'anthracnose', 'brown-spot',\n",
       "       'alternarialeaf-spot', 'alternarialeaf-spot', 'charcoal-rot',\n",
       "       'phyllosticta-leaf-spot', 'frog-eye-leaf-spot', 'anthracnose',\n",
       "       'brown-stem-rot', 'phytophthora-rot', 'phytophthora-rot',\n",
       "       'charcoal-rot', 'frog-eye-leaf-spot', 'phytophthora-rot',\n",
       "       '2-4-d-injury', 'phytophthora-rot', 'alternarialeaf-spot',\n",
       "       'alternarialeaf-spot', 'anthracnose',\n",
       "       'diaporthe-pod-&-stem-blight', 'brown-spot', 'anthracnose',\n",
       "       'rhizoctonia-root-rot', 'brown-spot', 'anthracnose',\n",
       "       'bacterial-pustule', 'brown-stem-rot', 'diaporthe-stem-canker',\n",
       "       'phyllosticta-leaf-spot', 'frog-eye-leaf-spot', 'brown-stem-rot',\n",
       "       'downy-mildew', 'frog-eye-leaf-spot', 'anthracnose', 'brown-spot',\n",
       "       'alternarialeaf-spot', 'alternarialeaf-spot', 'powdery-mildew',\n",
       "       'frog-eye-leaf-spot', 'brown-spot', '2-4-d-injury',\n",
       "       'phytophthora-rot', 'frog-eye-leaf-spot', 'phytophthora-rot',\n",
       "       'bacterial-blight', 'bacterial-pustule', 'brown-stem-rot',\n",
       "       'bacterial-blight', 'purple-seed-stain', 'herbicide-injury',\n",
       "       'diaporthe-pod-&-stem-blight', 'alternarialeaf-spot', 'brown-spot',\n",
       "       'charcoal-rot', 'bacterial-pustule', 'cyst-nematode', 'brown-spot',\n",
       "       'bacterial-pustule', 'charcoal-rot', 'brown-stem-rot',\n",
       "       'powdery-mildew', 'alternarialeaf-spot', 'phytophthora-rot',\n",
       "       'alternarialeaf-spot', 'cyst-nematode', 'phytophthora-rot',\n",
       "       'frog-eye-leaf-spot', 'alternarialeaf-spot', 'frog-eye-leaf-spot',\n",
       "       'anthracnose', 'alternarialeaf-spot', 'charcoal-rot',\n",
       "       'alternarialeaf-spot', 'alternarialeaf-spot',\n",
       "       'diaporthe-stem-canker', 'frog-eye-leaf-spot', 'brown-stem-rot',\n",
       "       'frog-eye-leaf-spot', 'diaporthe-pod-&-stem-blight',\n",
       "       'phytophthora-rot', 'diaporthe-pod-&-stem-blight',\n",
       "       'frog-eye-leaf-spot', 'anthracnose', 'alternarialeaf-spot',\n",
       "       'frog-eye-leaf-spot', 'phytophthora-rot', 'powdery-mildew',\n",
       "       'alternarialeaf-spot', 'herbicide-injury', 'brown-spot',\n",
       "       'anthracnose', 'diaporthe-pod-&-stem-blight', 'purple-seed-stain',\n",
       "       'bacterial-pustule', 'diaporthe-pod-&-stem-blight'], dtype=object)"
      ]
     },
     "execution_count": 18,
     "metadata": {},
     "output_type": "execute_result"
    }
   ],
   "source": [
    "# Obtenção das previsões\n",
    "previsoes = arvore.predict(X_teste)\n",
    "previsoes"
   ]
  },
  {
   "cell_type": "code",
   "execution_count": 19,
   "metadata": {},
   "outputs": [
    {
     "data": {
      "text/plain": [
       "0.9024390243902439"
      ]
     },
     "execution_count": 19,
     "metadata": {},
     "output_type": "execute_result"
    }
   ],
   "source": [
    "#taxa acerto\n",
    "taxa_acerto = accuracy_score(y_teste, previsoes)\n",
    "taxa_acerto"
   ]
  },
  {
   "cell_type": "code",
   "execution_count": 20,
   "metadata": {},
   "outputs": [
    {
     "data": {
      "text/plain": [
       "0.09756097560975607"
      ]
     },
     "execution_count": 20,
     "metadata": {},
     "output_type": "execute_result"
    }
   ],
   "source": [
    "#taxa erro\n",
    "taxa_erro = 1 - taxa_acerto\n",
    "taxa_erro"
   ]
  },
  {
   "cell_type": "markdown",
   "metadata": {},
   "source": [
    "#### Resultado final\n",
    "Foi testando dois algorítimo de Machine Learning\n",
    "* Algoritmo Naïve Bayes\n",
    "* Árvores de decisão\n",
    "sendo que a taxa de acerto de :\n",
    "1. Naïve Bayes = 0.85\n",
    "2. Ávores de decisão = 0.90\n",
    "Vemos que o melhor foi Ávores de decisão"
   ]
  }
 ],
 "metadata": {
  "kernelspec": {
   "display_name": "Python 3.9.12 ('venv': venv)",
   "language": "python",
   "name": "python3"
  },
  "language_info": {
   "codemirror_mode": {
    "name": "ipython",
    "version": 3
   },
   "file_extension": ".py",
   "mimetype": "text/x-python",
   "name": "python",
   "nbconvert_exporter": "python",
   "pygments_lexer": "ipython3",
   "version": "3.9.12"
  },
  "orig_nbformat": 4,
  "vscode": {
   "interpreter": {
    "hash": "fea19b5a4fed20f0abd4b41fa1930df0fe4b8c94eabf60df86233fb8f94f9656"
   }
  }
 },
 "nbformat": 4,
 "nbformat_minor": 2
}
